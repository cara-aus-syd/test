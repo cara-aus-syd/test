{
 "cells": [
  {
   "cell_type": "markdown",
   "metadata": {},
   "source": [
    "# Introduction to Python - Part 4: Functions\n",
    "\n",
    "In this notebook we will use **functions** to encapsulate re-usable code. This is very useful when we **need to repeat** large chunks of code multiple times in our workflow. Asa rule of thumb, if you are cut and pasting the same code over and over in your notebook...you are likely doing it wrong, and you should be considering creating a function. \n",
    "\n",
    "___\n",
    "#### Acknowledgement\n",
    "This notebook loosely follows the content of [Chapter 8](https://learning.oreilly.com/library/view/python-crash-course/9781098156664/c08.xhtml)  of _Python Crash Course, 3rd Edition_ by Eric Matthes. Code from the book can be downloaded from the authors' [GitHub repository](https://github.com/ehmatthes/pcc_3e). "
   ]
  },
  {
   "cell_type": "markdown",
   "metadata": {},
   "source": [
    "___\n",
    "## Part 1 - Creating a function\n",
    "Sometimes we find ourselves cut-pasting the same code a lot. This happens for lines of code that perform a task that we need at multiple stages in our workflow. In these cases we can avoid repetition (a sign of poor coding style) by **encapsulating that code in a function** that we can then use multiple times.\n",
    "\n",
    "Let's assume that we **often have to double all the numbers** in a list. We find ourselves to copy this loop again and again in our code with different vectors of prices"
   ]
  },
  {
   "cell_type": "code",
   "execution_count": 1,
   "metadata": {},
   "outputs": [
    {
     "name": "stdout",
     "output_type": "stream",
     "text": [
      "[2, 8, 10, 24]\n"
     ]
    }
   ],
   "source": [
    "prices = [1, 4, 5, 12]\n",
    "double=[]\n",
    "\n",
    "for price in prices:\n",
    "    double.append(price * 2)\n",
    "\n",
    "print(double)"
   ]
  },
  {
   "cell_type": "markdown",
   "metadata": {},
   "source": [
    "Instead of repeating these lines again and again in our notebook we can **create a doubling function**:"
   ]
  },
  {
   "cell_type": "code",
   "execution_count": 2,
   "metadata": {},
   "outputs": [],
   "source": [
    "def doubling(input_list):\n",
    "    output_list=[]\n",
    "\n",
    "    for number in input_list:\n",
    "        output_list.append(number * 2)\n",
    "    \n",
    "    return output_list"
   ]
  },
  {
   "cell_type": "markdown",
   "metadata": {},
   "source": [
    "The creation of a function starts with the keyword **`def`** followed by the name of the function and the required inputs in parenthesis, in this case the fuction has only one input, a list. At the end of the function we need to use the keyword **`return`** to indicate what is the output of the function.\n",
    "\n",
    "This cell has no output. It simply **creates an object** (the function) in memory. We can now **execute the function** by calling its name:"
   ]
  },
  {
   "cell_type": "code",
   "execution_count": 3,
   "metadata": {},
   "outputs": [
    {
     "data": {
      "text/plain": [
       "[14, 6, 10, 4, 24]"
      ]
     },
     "execution_count": 3,
     "metadata": {},
     "output_type": "execute_result"
    }
   ],
   "source": [
    "new_prices = [7, 3, 5, 2, 12]\n",
    "\n",
    "new_double = doubling(new_prices)\n",
    "new_double"
   ]
  },
  {
   "cell_type": "markdown",
   "metadata": {},
   "source": [
    "___\n",
    "#### A bit of coding geekery: Parameters or Arguments?\n",
    "The terms **parameter** and **argument** can be used for the same thing: information that are **passed into** a function.\n",
    "\n",
    "Our [book](https://learning.oreilly.com/library/view/python-crash-course/9781098156664/c08.xhtml) points out that\n",
    "* A parameter is the variable listed inside the parentheses in the function **definition**.\n",
    "* An argument is the value that is sent to the function **when it is called**.\n",
    "\n",
    "So, in our case `input_list` used in the definition of the function\n",
    "```python\n",
    "def doubling(input_list):\n",
    "```\n",
    "is a **parameter** of the function, while the variable `new_prices` passed to the function in\n",
    "```python\n",
    "new_double = doubling(new_prices)\n",
    "```\n",
    "is the **argument** of the function.\n",
    "___\n",
    "## Part 2 - Passing Arguments\n",
    "Functions can accept multiple inputs (called parameters). When calling a function, you must pass in values for each parameter (called arguments). There are several ways to specify arguments when calling a function:\n",
    "\n",
    "- **Positional arguments**: Arguments are specified in the same order as the function's parameters. The position of each argument determines which parameter it is mapped to.\n",
    "- **Keyword arguments**: Each argument is specified by a keyword ( matching a parameter name) and a value. The keyword allows arguments to be passed in any order.\n",
    "- Argument lists/dictionaries: Arguments can be bundled into a list or dictionary and passed to the function as a single argument. The function then accesses the values in the list/dictionary using indexing or key lookups.\n",
    "\n",
    "We will explore practical examples of each of these argument passing methods in the following sections.\n",
    "\n",
    "### Positional Arguments\n",
    "A function can have multiple inputs. Let's create **a more generic function** where we specify the multiplication factor"
   ]
  },
  {
   "cell_type": "code",
   "execution_count": 4,
   "metadata": {},
   "outputs": [],
   "source": [
    "def multiply(input_list, factor):\n",
    "    output_list=[]\n",
    "\n",
    "    for number in input_list:\n",
    "        output_list.append(number * factor)\n",
    "    \n",
    "    return output_list "
   ]
  },
  {
   "cell_type": "markdown",
   "metadata": {},
   "source": [
    "The new function is similar to the previous one, but in a sense it is more generic. Let's now use the function"
   ]
  },
  {
   "cell_type": "code",
   "execution_count": 5,
   "metadata": {},
   "outputs": [
    {
     "data": {
      "text/plain": [
       "[21, 9, 15, 6, 36]"
      ]
     },
     "execution_count": 5,
     "metadata": {},
     "output_type": "execute_result"
    }
   ],
   "source": [
    "new_prices = [7, 3, 5, 2, 12]\n",
    "\n",
    "new_result = multiply(new_prices, 3)\n",
    "new_result"
   ]
  },
  {
   "cell_type": "markdown",
   "metadata": {},
   "source": [
    "In this previous example, Python can distinguish between the two arguments of the function (the input list and the multiplication factor) **using their position**, hence the name \"positional argument\".\n",
    "\n",
    "When designing our code we should always consider **wo will have to use it**. In this case the function is pretty simple, but if we pass this notebook to a colleague, they may not know the precise order of the arguments. Let's see what happens if we run the following code where we pass the parameters **in the wrong order**:"
   ]
  },
  {
   "cell_type": "code",
   "execution_count": 6,
   "metadata": {},
   "outputs": [
    {
     "ename": "TypeError",
     "evalue": "'int' object is not iterable",
     "output_type": "error",
     "traceback": [
      "\u001b[0;31m---------------------------------------------------------------------------\u001b[0m",
      "\u001b[0;31mTypeError\u001b[0m                                 Traceback (most recent call last)",
      "Input \u001b[0;32mIn [6]\u001b[0m, in \u001b[0;36m<cell line: 1>\u001b[0;34m()\u001b[0m\n\u001b[0;32m----> 1\u001b[0m weird_result \u001b[38;5;241m=\u001b[39m \u001b[43mmultiply\u001b[49m\u001b[43m(\u001b[49m\u001b[38;5;241;43m3\u001b[39;49m\u001b[43m,\u001b[49m\u001b[43m \u001b[49m\u001b[43mnew_prices\u001b[49m\u001b[43m)\u001b[49m\n",
      "Input \u001b[0;32mIn [4]\u001b[0m, in \u001b[0;36mmultiply\u001b[0;34m(input_list, factor)\u001b[0m\n\u001b[1;32m      1\u001b[0m \u001b[38;5;28;01mdef\u001b[39;00m \u001b[38;5;21mmultiply\u001b[39m(input_list, factor):\n\u001b[1;32m      2\u001b[0m     output_list\u001b[38;5;241m=\u001b[39m[]\n\u001b[0;32m----> 4\u001b[0m     \u001b[38;5;28;01mfor\u001b[39;00m number \u001b[38;5;129;01min\u001b[39;00m input_list:\n\u001b[1;32m      5\u001b[0m         output_list\u001b[38;5;241m.\u001b[39mappend(number \u001b[38;5;241m*\u001b[39m factor)\n\u001b[1;32m      7\u001b[0m     \u001b[38;5;28;01mreturn\u001b[39;00m output_list\n",
      "\u001b[0;31mTypeError\u001b[0m: 'int' object is not iterable"
     ]
    }
   ],
   "source": [
    "weird_result = multiply(3, new_prices)"
   ]
  },
  {
   "cell_type": "markdown",
   "metadata": {},
   "source": [
    "We receive a `TypeError` because we are applying a for loop to an integer number, and **integers are not iterable**: we cannot loop multiple times over a number. This of course happens because we have inverted the order of two arguments with different and incompatible types (a list and an integer).\n",
    "\n",
    "### Keyword Arguments\n",
    "To make life easier (and safer) for future users of our code (including ourselves!) we can pass to the function the parameters with an **express reference to the name** of the appropriate argument. "
   ]
  },
  {
   "cell_type": "code",
   "execution_count": 7,
   "metadata": {},
   "outputs": [
    {
     "name": "stdout",
     "output_type": "stream",
     "text": [
      "[51, 69, 45, 36, 6]\n"
     ]
    }
   ],
   "source": [
    "other_prices = [17, 23, 15, 12, 2]\n",
    "\n",
    "other_result = multiply(factor = 3, input_list = other_prices)\n",
    "print(other_result)"
   ]
  },
  {
   "cell_type": "markdown",
   "metadata": {},
   "source": [
    "Here we explicitly tell python how to match the parameters passed in the function call with each argument in the function definition: for example the number `3` should be associated with the argument called `factor` inside the function definition. Since we are using the argument names, the order with which we pass the parameters **becomes irrelevant**. \n",
    "\n",
    "### Default Values\n",
    "If a function has a default value for some of the arguments, we can **specify this in the definition** of the function, so the user does not have to. Let's assume that usually we need to multiply the prices by a factor of 2, and only occasionally by other numbers"
   ]
  },
  {
   "cell_type": "code",
   "execution_count": 8,
   "metadata": {},
   "outputs": [],
   "source": [
    "def defmultiply(input_list, factor=2):\n",
    "    output_list=[]\n",
    "\n",
    "    for number in input_list:\n",
    "        output_list.append(number * factor)\n",
    "    \n",
    "    return output_list"
   ]
  },
  {
   "cell_type": "markdown",
   "metadata": {},
   "source": [
    "Let's now use the function without specifying the multiplication factor. In this case, since the input is missing, the function **will revert to the default value**:"
   ]
  },
  {
   "cell_type": "code",
   "execution_count": 9,
   "metadata": {},
   "outputs": [
    {
     "data": {
      "text/plain": [
       "[14, 6, 10, 4, 24]"
      ]
     },
     "execution_count": 9,
     "metadata": {},
     "output_type": "execute_result"
    }
   ],
   "source": [
    "new_prices = [7, 3, 5, 2, 12]\n",
    "\n",
    "new_result = defmultiply(input_list = new_prices)\n",
    "new_result"
   ]
  },
  {
   "cell_type": "markdown",
   "metadata": {},
   "source": [
    "But we still **retain the flexibility** to use different values if we need"
   ]
  },
  {
   "cell_type": "code",
   "execution_count": 10,
   "metadata": {},
   "outputs": [
    {
     "data": {
      "text/plain": [
       "[28, 12, 20, 8, 48]"
      ]
     },
     "execution_count": 10,
     "metadata": {},
     "output_type": "execute_result"
    }
   ],
   "source": [
    "new_result = defmultiply(input_list = new_prices, factor = 4)\n",
    "new_result"
   ]
  },
  {
   "cell_type": "markdown",
   "metadata": {},
   "source": [
    "Please notice that by including a default value for the multiplication factor inside the function definition we have, in practice, **made this argument optional**: the function works with or without this parameter. \n",
    "\n",
    "___\n",
    "## Part 3 - Styling Functions\n",
    "When writing code we should always think about the end-user. When we write a function we should make it as easy as possible for the user to understand at a a glance what the code does. We can achieve this in two ways.\n",
    "\n",
    "### Use descriptive names\n",
    "Both the function and its argument should use descriptive names that make it clear the nature and purpose of the object. For example:\n",
    "\n",
    "```python\n",
    "def doubling(input_list):\n",
    "    output_list=[]\n",
    "\n",
    "    for number in input_list:\n",
    "        output_list.append(number * 2)\n",
    "    \n",
    "    return output_list\n",
    "```\n",
    "\n",
    "is much better than\n",
    "\n",
    "```python\n",
    "def my_function(a_list):\n",
    "    another_list=[]\n",
    "\n",
    "    for x in a_list:\n",
    "        another_list.append(x * 2)\n",
    "    \n",
    "    return another_list\n",
    "```\n",
    "\n",
    "In this second case all the numbers are quite generic and do not help the reader a lot.\n",
    "\n",
    "### Comment your function\n",
    "It is good practice to add a comment inside each function to briefly describe what the fucntion does. The comment should use the [docstring format](https://peps.python.org/pep-0257/). Let's go back to the functions created in this notebook:"
   ]
  },
  {
   "cell_type": "code",
   "execution_count": 11,
   "metadata": {},
   "outputs": [],
   "source": [
    "def doubling(input_list):\n",
    "    \"\"\"Doubles each number in the input list\"\"\"\n",
    "    output_list=[]\n",
    "\n",
    "    for number in input_list:\n",
    "        output_list.append(number * 2)\n",
    "    \n",
    "    return output_list"
   ]
  },
  {
   "cell_type": "code",
   "execution_count": null,
   "metadata": {},
   "outputs": [],
   "source": []
  },
  {
   "cell_type": "code",
   "execution_count": 12,
   "metadata": {},
   "outputs": [],
   "source": [
    "def multiply(input_list, factor):\n",
    "    \"\"\"Multiplies each number in the input list by a factor\n",
    "    \n",
    "    Keyword arguments:\n",
    "    input_list -- a list of numbers \n",
    "    factor -- the multiplication factor\n",
    "    \"\"\"\n",
    "    \n",
    "    output_list=[]\n",
    "\n",
    "    for number in input_list:\n",
    "        output_list.append(number * factor)\n",
    "    \n",
    "    return output_list "
   ]
  },
  {
   "cell_type": "markdown",
   "metadata": {},
   "source": [
    "If the comment follows the docstring format, it can be **easily accessed** by the user with the python **[`help()`](https://www.geeksforgeeks.org/help-function-in-python/)** function:"
   ]
  },
  {
   "cell_type": "code",
   "execution_count": 13,
   "metadata": {},
   "outputs": [
    {
     "name": "stdout",
     "output_type": "stream",
     "text": [
      "Help on function multiply in module __main__:\n",
      "\n",
      "multiply(input_list, factor)\n",
      "    Multiplies each number in the input list by a factor\n",
      "    \n",
      "    Keyword arguments:\n",
      "    input_list -- a list of numbers \n",
      "    factor -- the multiplication factor\n",
      "\n"
     ]
    }
   ],
   "source": [
    "help(multiply)"
   ]
  },
  {
   "cell_type": "markdown",
   "metadata": {},
   "source": [
    "Finally, for sake of completeness:"
   ]
  },
  {
   "cell_type": "code",
   "execution_count": 14,
   "metadata": {},
   "outputs": [],
   "source": [
    "def defmultiply(input_list, factor=2):\n",
    "    \"\"\"Multiplies each number in the input list by a factor\n",
    "    \n",
    "    Keyword arguments:\n",
    "    input_list -- a list of numbers \n",
    "    factor -- the multiplication factor (default 2)\n",
    "    \"\"\"\n",
    "    \n",
    "    output_list=[]\n",
    "\n",
    "    for number in input_list:\n",
    "        output_list.append(number * factor)\n",
    "    \n",
    "    return output_list"
   ]
  },
  {
   "cell_type": "code",
   "execution_count": 15,
   "metadata": {},
   "outputs": [
    {
     "name": "stdout",
     "output_type": "stream",
     "text": [
      "Help on function defmultiply in module __main__:\n",
      "\n",
      "defmultiply(input_list, factor=2)\n",
      "    Multiplies each number in the input list by a factor\n",
      "    \n",
      "    Keyword arguments:\n",
      "    input_list -- a list of numbers \n",
      "    factor -- the multiplication factor (default 2)\n",
      "\n"
     ]
    }
   ],
   "source": [
    "help(defmultiply)"
   ]
  },
  {
   "cell_type": "markdown",
   "metadata": {},
   "source": [
    "___\n",
    "### Exercise 2b.01\n",
    "Create a function called `allcaps()` that takes as an input a list of names and returns a list with the allcaps version of those names. To turn a string in allcap you can use the string method [**`.upper()`**](https://www.programiz.com/python-programming/methods/string/upper). "
   ]
  },
  {
   "cell_type": "code",
   "execution_count": 16,
   "metadata": {},
   "outputs": [],
   "source": [
    "def allcaps(names):\n",
    "    \"\"\"Return uppercase version of strings in input list\"\"\"\n",
    "    \n",
    "    output = []\n",
    "    \n",
    "    for name in names:\n",
    "        output.append(name.upper())\n",
    "    \n",
    "    return output"
   ]
  },
  {
   "cell_type": "markdown",
   "metadata": {},
   "source": [
    "Test your function on the following list of stock names:"
   ]
  },
  {
   "cell_type": "code",
   "execution_count": 17,
   "metadata": {},
   "outputs": [
    {
     "data": {
      "text/plain": [
       "['APPLE', 'GOOGLE', 'AMAZON', 'FACEBOOK']"
      ]
     },
     "execution_count": 17,
     "metadata": {},
     "output_type": "execute_result"
    }
   ],
   "source": [
    "names = ['Apple', 'Google', 'Amazon', 'Facebook']\n",
    "\n",
    "allcaps(names)"
   ]
  },
  {
   "cell_type": "markdown",
   "metadata": {},
   "source": [
    "___\n",
    "### Exercise 2b.02\n",
    "Now create a more flexible function called `changecase()` that can return either the uppercase or the lowercase version of the input based on a \"switch\" argument called `mode` that can accept values `U` and `L`. Bonus points if you can also return a warning if the user enters an invalid `mode` argument"
   ]
  },
  {
   "cell_type": "code",
   "execution_count": 18,
   "metadata": {},
   "outputs": [],
   "source": [
    "def changecase(names, mode):\n",
    "    \"\"\"Return uppercase version of strings in input list\n",
    "    \n",
    "    Keyword Arguments:\n",
    "    names -- list of strings \n",
    "    mode -- accpets U or L\n",
    "    \"\"\"\n",
    "    \n",
    "    output = []\n",
    "    \n",
    "    if mode=='U':\n",
    "        for name in names:\n",
    "            output.append(name.upper())\n",
    "    elif mode=='L':\n",
    "        for name in names:\n",
    "            output.append(name.lower())\n",
    "    else:\n",
    "        output = 'Warning: mode should be U or L'\n",
    "        \n",
    "    return output"
   ]
  },
  {
   "cell_type": "markdown",
   "metadata": {},
   "source": [
    "You can now test your function on the stock names in `names`:"
   ]
  },
  {
   "cell_type": "code",
   "execution_count": 19,
   "metadata": {},
   "outputs": [
    {
     "data": {
      "text/plain": [
       "['apple', 'google', 'amazon', 'facebook']"
      ]
     },
     "execution_count": 19,
     "metadata": {},
     "output_type": "execute_result"
    }
   ],
   "source": [
    "changecase(names, mode='L')"
   ]
  },
  {
   "cell_type": "code",
   "execution_count": 20,
   "metadata": {},
   "outputs": [
    {
     "data": {
      "text/plain": [
       "['APPLE', 'GOOGLE', 'AMAZON', 'FACEBOOK']"
      ]
     },
     "execution_count": 20,
     "metadata": {},
     "output_type": "execute_result"
    }
   ],
   "source": [
    "changecase(names, mode='U')"
   ]
  },
  {
   "cell_type": "code",
   "execution_count": 21,
   "metadata": {},
   "outputs": [
    {
     "data": {
      "text/plain": [
       "'Warning: mode should be U or L'"
      ]
     },
     "execution_count": 21,
     "metadata": {},
     "output_type": "execute_result"
    }
   ],
   "source": [
    "changecase(names, mode='Z')"
   ]
  }
 ],
 "metadata": {
  "kernelspec": {
   "display_name": "Python 3 (ipykernel)",
   "language": "python",
   "name": "python3"
  },
  "language_info": {
   "codemirror_mode": {
    "name": "ipython",
    "version": 3
   },
   "file_extension": ".py",
   "mimetype": "text/x-python",
   "name": "python",
   "nbconvert_exporter": "python",
   "pygments_lexer": "ipython3",
   "version": "3.11.4"
  }
 },
 "nbformat": 4,
 "nbformat_minor": 4
}
