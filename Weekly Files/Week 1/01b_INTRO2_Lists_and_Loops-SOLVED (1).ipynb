{
 "cells": [
  {
   "cell_type": "markdown",
   "metadata": {},
   "source": [
    "# Introduction to Python - Part 2: Containers\n",
    "\n",
    "In this notebook we will briefly look at data containers and simple programming structures:\n",
    "1. We will introduce the concept of **lists**\n",
    "1. We will use **for loops** to authomate repetitive tasks\n",
    "\n",
    "___\n",
    "#### Acknowledgement\n",
    "This notebook loosely follows the content of [Chapter 3](https://learning.oreilly.com/library/view/python-crash-course/9781098156664/c03.xhtml) and [Chapter 4](https://learning.oreilly.com/library/view/python-crash-course/9781098156664/c04.xhtml) of _Python Crash Course, 3rd Edition_ by Eric Matthes. Code from the book can be downloaded from the authors' [GitHub repository](https://github.com/ehmatthes/pcc_3e). \n",
    "___\n",
    "A **container** is a data structure in Python that **contains other objects** or data. Containers are useful for grouping data together and allowing for efficient access and modification of that data. Some common containers are:\n",
    "\n",
    "- **`list`** (list: mutable; indexed by integers; items are stored in the order they were added)\n",
    "  - `[3, 5, 6, 3, 'dog', 'cat', False]`\n",
    "- **`tuple`** (tuple: immutable; indexed by integers; items are stored in the order they were added)\n",
    "  - `(3, 5, 6, 3, 'dog', 'cat', False)`\n",
    "- **`set`** (set: mutable; not indexed at all; items are NOT stored in the order they were added; can only contain immutable objects; does NOT contain duplicate objects)\n",
    "  - `{3, 5, 6, 3, 'dog', 'cat', False}`\n",
    "- **`dict`** (dictionary: mutable; key-value pairs are indexed by immutable keys; items are NOT stored in the order they were added)\n",
    "  - `{'name': 'Jane', 'age': 23, 'fav_foods': ['pizza', 'fruit', 'fish']}`\n",
    "\n",
    "When defining lists, tuples, or sets, use commas (,) to separate the individual items. When defining dicts, use a colon (:) to separate keys from values and commas (,) to separate the key-value pairs."
   ]
  },
  {
   "cell_type": "markdown",
   "metadata": {},
   "source": [
    "___\n",
    "## Part 1 - Lists\n",
    "\n",
    "See [Chapter 3](https://learning.oreilly.com/library/view/python-crash-course/9781098156664/c03.xhtml) of _Python Crash Course, 3rd Edition_ by Eric Matthes.\n",
    "\n",
    "**Lists** are by far the most used, and most useful type of container in Python. A list represents an **ordered aggregation of elements**. Lists may contain anything from strings to numbers, with constituent elements retaining their sequence yet lacking any inherent relation. \n",
    "\n",
    "As lists typically consist of multiple elements, so using plural names is conventional. In Python, lists are **denoted by square brackets** `[]`, with individual components **separated by commas**."
   ]
  },
  {
   "cell_type": "code",
   "execution_count": 1,
   "metadata": {},
   "outputs": [
    {
     "name": "stdout",
     "output_type": "stream",
     "text": [
      "['Amazon', 'Apple', 'Google', 'Microsoft']\n",
      "[12, 23, 31, 44]\n"
     ]
    }
   ],
   "source": [
    "tech_firms = ['Amazon', 'Apple', 'Google', 'Microsoft']\n",
    "stock_prices = [12, 23, 31, 44]\n",
    "\n",
    "print(tech_firms)\n",
    "print(stock_prices)"
   ]
  },
  {
   "cell_type": "markdown",
   "metadata": {},
   "source": [
    "### Accessing Elements in a List\n",
    "\n",
    "Individual elements within a list can be **accessed using their postion** (or more correctly their _index_) inside square brackets:\n"
   ]
  },
  {
   "cell_type": "code",
   "execution_count": 2,
   "metadata": {},
   "outputs": [
    {
     "data": {
      "text/plain": [
       "'Amazon'"
      ]
     },
     "execution_count": 2,
     "metadata": {},
     "output_type": "execute_result"
    }
   ],
   "source": [
    "tech_firms[0]"
   ]
  },
  {
   "cell_type": "markdown",
   "metadata": {},
   "source": [
    "Please notice that in Python the **first element** of a list has position `0` and not `1`. This is a quirk of the language that is important to keep in mind. I nthe same way, if we want to access the **last element** of a list we can indicate its position as `-1`. This is very convenient because it allows us to access the _last_ element even if we do not know how many objects are contained in the list. "
   ]
  },
  {
   "cell_type": "code",
   "execution_count": 3,
   "metadata": {},
   "outputs": [
    {
     "data": {
      "text/plain": [
       "'Microsoft'"
      ]
     },
     "execution_count": 3,
     "metadata": {},
     "output_type": "execute_result"
    }
   ],
   "source": [
    "tech_firms[-1]"
   ]
  },
  {
   "cell_type": "markdown",
   "metadata": {},
   "source": [
    "The individual element of a list, as indicated by its index, can be used as a **common variable**:"
   ]
  },
  {
   "cell_type": "code",
   "execution_count": 4,
   "metadata": {},
   "outputs": [
    {
     "name": "stdout",
     "output_type": "stream",
     "text": [
      "The most valuable tech firm is Apple\n"
     ]
    }
   ],
   "source": [
    "print(f'The most valuable tech firm is {tech_firms[1]}')"
   ]
  },
  {
   "cell_type": "markdown",
   "metadata": {},
   "source": [
    "___\n",
    "### Exercise 1b.01\n",
    "Create a list called `cities` with the name of **five cities** that you would like to visit. Then print the second-to-last city name in ALL CAPS."
   ]
  },
  {
   "cell_type": "code",
   "execution_count": 5,
   "metadata": {},
   "outputs": [
    {
     "name": "stdout",
     "output_type": "stream",
     "text": [
      "DUBLIN\n"
     ]
    }
   ],
   "source": [
    "cities = ['Buenos Aires', 'Nairobi', 'Montreal', 'Dublin', 'Kyoto']\n",
    "print(cities[-2].upper())"
   ]
  },
  {
   "cell_type": "markdown",
   "metadata": {},
   "source": [
    "___\n",
    "### Exercise 1b.02\n",
    "Using the two lists created above (`tech_firms` and `stock_prices`), use the f-string notation to **print the string** _\"The price of Goolge is 23 dollars\"_ by accessing the content of the two lists **using the position** of the individual elements."
   ]
  },
  {
   "cell_type": "code",
   "execution_count": 6,
   "metadata": {},
   "outputs": [
    {
     "name": "stdout",
     "output_type": "stream",
     "text": [
      "The price of Google is 23 dollars\n"
     ]
    }
   ],
   "source": [
    "print(f'The price of {tech_firms[2]} is {stock_prices[1]} dollars')"
   ]
  },
  {
   "cell_type": "markdown",
   "metadata": {},
   "source": [
    "___\n",
    "### Modifying Elements of a list\n",
    "Beside accessing elements in a list, we may want to **modify the list** itself by changing, adding or removing items from it. Here we will look at the most common methods and tools to work with lists.\n",
    "\n",
    "First of all we can modify an element of a list by assigning a new value to the specific position. For example let's create new list with cool AI firms:"
   ]
  },
  {
   "cell_type": "code",
   "execution_count": 7,
   "metadata": {},
   "outputs": [
    {
     "name": "stdout",
     "output_type": "stream",
     "text": [
      "['Open AI', 'Deepmind', 'Mindverse']\n"
     ]
    }
   ],
   "source": [
    "ai_firms = ['Open AI', 'Deepmind', 'Mindverse']\n",
    "print(ai_firms)"
   ]
  },
  {
   "cell_type": "markdown",
   "metadata": {},
   "source": [
    "Since in early 2023 Google has bought 10% of **Anthropic** for $300m, we think that this company should now be in our top 3 list."
   ]
  },
  {
   "cell_type": "code",
   "execution_count": 8,
   "metadata": {},
   "outputs": [
    {
     "name": "stdout",
     "output_type": "stream",
     "text": [
      "['Open AI', 'Deepmind', 'Anthropic']\n"
     ]
    }
   ],
   "source": [
    "ai_firms[-1] = 'Anthropic'\n",
    "print(ai_firms)"
   ]
  },
  {
   "cell_type": "markdown",
   "metadata": {},
   "source": [
    "As we can see we have modified the last element of the list. \n",
    "\n",
    "#### Adding new elements\n",
    "If we want to add new elements to a list we can use the **[`list.append()`](https://www.w3schools.com/python/ref_list_append.asp)** method to add the new element **at the end** of the list, or we can use **[`list.insert()`](https://www.w3schools.com/python/ref_list_insert.asp)** to add the new element in a **specific position**. "
   ]
  },
  {
   "cell_type": "code",
   "execution_count": 9,
   "metadata": {},
   "outputs": [
    {
     "name": "stdout",
     "output_type": "stream",
     "text": [
      "['Open AI', 'Deepmind', 'Anthropic', 'Mindverse']\n"
     ]
    }
   ],
   "source": [
    "ai_firms.append('Mindverse')\n",
    "print(ai_firms)"
   ]
  },
  {
   "cell_type": "code",
   "execution_count": 10,
   "metadata": {},
   "outputs": [
    {
     "name": "stdout",
     "output_type": "stream",
     "text": [
      "['Open AI', 'Deepmind', 'Anthropic', 'TruEra', 'Mindverse']\n"
     ]
    }
   ],
   "source": [
    "ai_firms.insert(3, 'TruEra')\n",
    "print(ai_firms)"
   ]
  },
  {
   "cell_type": "markdown",
   "metadata": {},
   "source": [
    "#### Removing elements from a list\n",
    "We can remove elements from a list by using the **[`list.pop()`](https://www.w3schools.com/python/ref_list_pop.asp)** method."
   ]
  },
  {
   "cell_type": "code",
   "execution_count": 11,
   "metadata": {},
   "outputs": [
    {
     "name": "stdout",
     "output_type": "stream",
     "text": [
      "['Open AI', 'Deepmind', 'Anthropic', 'Mindverse']\n"
     ]
    }
   ],
   "source": [
    "ai_firms.pop(3)\n",
    "print(ai_firms)"
   ]
  },
  {
   "cell_type": "markdown",
   "metadata": {},
   "source": [
    "The `list.pop()` method has two interesting features. The first one is that we can use the method without the positional indicator. In this case we will **pop the last element** of the list. Second, we can assign the \"popped element\" to a varaible for further use. "
   ]
  },
  {
   "cell_type": "code",
   "execution_count": 12,
   "metadata": {},
   "outputs": [
    {
     "name": "stdout",
     "output_type": "stream",
     "text": [
      "['Open AI', 'Deepmind', 'Anthropic']\n",
      "Mindverse used to be in our list of cool AI companies\n"
     ]
    }
   ],
   "source": [
    "old_firm = ai_firms.pop()\n",
    "print(ai_firms)\n",
    "\n",
    "print(f'{old_firm} used to be in our list of cool AI companies')"
   ]
  },
  {
   "cell_type": "markdown",
   "metadata": {
    "tags": []
   },
   "source": [
    "#### Other Stuff\n",
    "Other useful methods and commands can be used to **sort a list** in alphabetical order (**[`list.sort()`](https://www.w3schools.com/python/ref_list_sort.asp)**), to reverse a list (**[`list.reverse()`](https://www.w3schools.com/python/ref_list_reverse.asp)**) and to measure the lenght of a list(**[`len(list)`](https://www.w3schools.com/python/ref_func_len.asp)**)."
   ]
  },
  {
   "cell_type": "code",
   "execution_count": 13,
   "metadata": {},
   "outputs": [
    {
     "name": "stdout",
     "output_type": "stream",
     "text": [
      "['Anthropic', 'Deepmind', 'Open AI']\n"
     ]
    }
   ],
   "source": [
    "ai_firms.sort()\n",
    "print(ai_firms)"
   ]
  },
  {
   "cell_type": "code",
   "execution_count": 14,
   "metadata": {},
   "outputs": [
    {
     "name": "stdout",
     "output_type": "stream",
     "text": [
      "['Open AI', 'Deepmind', 'Anthropic']\n"
     ]
    }
   ],
   "source": [
    "ai_firms.reverse()\n",
    "print(ai_firms)"
   ]
  },
  {
   "cell_type": "code",
   "execution_count": 15,
   "metadata": {},
   "outputs": [
    {
     "data": {
      "text/plain": [
       "3"
      ]
     },
     "execution_count": 15,
     "metadata": {},
     "output_type": "execute_result"
    }
   ],
   "source": [
    "len(ai_firms)"
   ]
  },
  {
   "cell_type": "markdown",
   "metadata": {},
   "source": [
    "Please notice that `len(list)` **is a function and not a method**, hence the different syntax. A function is a general python command that has to be applied to an object, while a method is a property of the object itself."
   ]
  },
  {
   "cell_type": "markdown",
   "metadata": {},
   "source": [
    "___\n",
    "### Exercise 1b.03\n",
    "Many times we may want to show a list in alphabetical order **without loosing the original sequence**. Have a look at the **[`sorted(list)`](https://www.w3schools.com/python/ref_func_sorted.asp)** function and apply it to print a sorted version of the following list of cities. Afterwards print the original list to make sure that the original sequence has not been lost."
   ]
  },
  {
   "cell_type": "code",
   "execution_count": 16,
   "metadata": {},
   "outputs": [],
   "source": [
    "itinerary = ['Los Angeles', 'Las Vegas', 'Salt Lake City', 'Kansas City', 'Saint Louis', 'Philadelphia']"
   ]
  },
  {
   "cell_type": "code",
   "execution_count": 17,
   "metadata": {},
   "outputs": [
    {
     "name": "stdout",
     "output_type": "stream",
     "text": [
      "['Kansas City', 'Las Vegas', 'Los Angeles', 'Philadelphia', 'Saint Louis', 'Salt Lake City']\n",
      "['Los Angeles', 'Las Vegas', 'Salt Lake City', 'Kansas City', 'Saint Louis', 'Philadelphia']\n"
     ]
    }
   ],
   "source": [
    "print(sorted(itinerary))\n",
    "print(itinerary)"
   ]
  },
  {
   "cell_type": "markdown",
   "metadata": {},
   "source": [
    "___\n",
    "### Exercise 1b.04\n",
    "In the `itinerary` list replace Kansas City with Topeka. Print the modified itinerary. Try to achieve this result in two different ways: using a single command, and using two different methods."
   ]
  },
  {
   "cell_type": "code",
   "execution_count": 18,
   "metadata": {},
   "outputs": [],
   "source": [
    "itinerary = ['Los Angeles', 'Las Vegas', 'Salt Lake City', 'Kansas City', 'Saint Louis', 'Philadelphia']"
   ]
  },
  {
   "cell_type": "code",
   "execution_count": 19,
   "metadata": {},
   "outputs": [
    {
     "name": "stdout",
     "output_type": "stream",
     "text": [
      "['Los Angeles', 'Las Vegas', 'Salt Lake City', 'Topeka', 'Saint Louis', 'Philadelphia']\n"
     ]
    }
   ],
   "source": [
    "itinerary[3] = 'Topeka'\n",
    "print(itinerary)"
   ]
  },
  {
   "cell_type": "markdown",
   "metadata": {},
   "source": [
    "Alternatively, using two methods:"
   ]
  },
  {
   "cell_type": "code",
   "execution_count": 20,
   "metadata": {},
   "outputs": [
    {
     "name": "stdout",
     "output_type": "stream",
     "text": [
      "['Los Angeles', 'Las Vegas', 'Salt Lake City', 'Topeka', 'Saint Louis', 'Philadelphia']\n"
     ]
    }
   ],
   "source": [
    "itinerary = ['Los Angeles', 'Las Vegas', 'Salt Lake City', 'Kansas City', 'Saint Louis', 'Philadelphia']\n",
    "\n",
    "itinerary.pop(3)\n",
    "itinerary.insert(3, 'Topeka')\n",
    "print(itinerary)"
   ]
  },
  {
   "cell_type": "markdown",
   "metadata": {},
   "source": [
    "___\n",
    "## PART 2 - Loops\n",
    "\n",
    "See [Chapter 4](https://learning.oreilly.com/library/view/python-crash-course/9781098156664/c04.xhtml) of _Python Crash Course, 3rd Edition_ by Eric Matthes.\n",
    "\n",
    "Very often we will need to **perform the same operation** on each element of a list. For example, let's assume that we need to print the name of each company in the Dow Jones Industrial Avrage Index (DJIA)."
   ]
  },
  {
   "cell_type": "code",
   "execution_count": 21,
   "metadata": {},
   "outputs": [],
   "source": [
    "djia_companies = ['3M', 'American Express', 'Amgen', 'Apple', 'Boeing', 'Caterpillar', \n",
    "                  'Chevron', 'Cisco', 'Coca-Cola', 'Disney', 'Dow', 'Goldman Sachs', \n",
    "                  'Home Depot', 'Honeywell', 'IBM', 'Intel', 'Johnson & Johnson', 'JPMorgan Chase', \n",
    "                  'McDonalds', 'Merck', 'Microsoft', 'Nike', 'Procter & Gamble', 'Salesforce', \n",
    "                  'Travelers', 'UnitedHealth Group', 'Verizon', 'Visa', 'Walgreens Boots Alliance', 'Walmart']\n"
   ]
  },
  {
   "cell_type": "markdown",
   "metadata": {},
   "source": [
    "For sure we **do not want to repeat** 30 `print()` commands...that would be just dumb."
   ]
  },
  {
   "cell_type": "code",
   "execution_count": 22,
   "metadata": {},
   "outputs": [
    {
     "name": "stdout",
     "output_type": "stream",
     "text": [
      "3M\n",
      "American Express\n",
      "Amgen\n"
     ]
    }
   ],
   "source": [
    "print(djia_companies[0])\n",
    "print(djia_companies[1])\n",
    "print(djia_companies[2])"
   ]
  },
  {
   "cell_type": "markdown",
   "metadata": {},
   "source": [
    "Thankfully most coding languages allow to \"loop\" over the elements of container. **Looping** enables you to **execute the same operation** or sequence of operations on every element in a list. Consequently, you can handle lists of any size, even those containing millions of items, with ease and efficiency. Let's see an example of a `for` loop to print the name of all the companies."
   ]
  },
  {
   "cell_type": "code",
   "execution_count": 23,
   "metadata": {},
   "outputs": [
    {
     "name": "stdout",
     "output_type": "stream",
     "text": [
      "3M\n",
      "American Express\n",
      "Amgen\n",
      "Apple\n",
      "Boeing\n",
      "Caterpillar\n",
      "Chevron\n",
      "Cisco\n",
      "Coca-Cola\n",
      "Disney\n",
      "Dow\n",
      "Goldman Sachs\n",
      "Home Depot\n",
      "Honeywell\n",
      "IBM\n",
      "Intel\n",
      "Johnson & Johnson\n",
      "JPMorgan Chase\n",
      "McDonalds\n",
      "Merck\n",
      "Microsoft\n",
      "Nike\n",
      "Procter & Gamble\n",
      "Salesforce\n",
      "Travelers\n",
      "UnitedHealth Group\n",
      "Verizon\n",
      "Visa\n",
      "Walgreens Boots Alliance\n",
      "Walmart\n"
     ]
    }
   ],
   "source": [
    "for company in djia_companies:\n",
    "    print(company)"
   ]
  },
  {
   "cell_type": "markdown",
   "metadata": {},
   "source": [
    "One of the main advantages of Python over other languages is that the code is \"easy to read in English\". In this case **the first line** of the looping structure is quite self-explanatory: _For every company contained in the list djia_companies..._ \n",
    "\n",
    "We also notice that the **second line** second line of the structure is indented. The indentation indicates that all those actions have to be **performed on each element** of the list. We could have multiple operations. For example we can perform two different operations on each company:"
   ]
  },
  {
   "cell_type": "code",
   "execution_count": 24,
   "metadata": {},
   "outputs": [
    {
     "name": "stdout",
     "output_type": "stream",
     "text": [
      "3M\n",
      "AMERICAN EXPRESS\n",
      "AMGEN\n",
      "APPLE\n",
      "BOEING\n",
      "CATERPILLAR\n",
      "CHEVRON\n",
      "CISCO\n",
      "COCA-COLA\n",
      "DISNEY\n",
      "DOW\n",
      "GOLDMAN SACHS\n",
      "HOME DEPOT\n",
      "HONEYWELL\n",
      "IBM\n",
      "INTEL\n",
      "JOHNSON & JOHNSON\n",
      "JPMORGAN CHASE\n",
      "MCDONALDS\n",
      "MERCK\n",
      "MICROSOFT\n",
      "NIKE\n",
      "PROCTER & GAMBLE\n",
      "SALESFORCE\n",
      "TRAVELERS\n",
      "UNITEDHEALTH GROUP\n",
      "VERIZON\n",
      "VISA\n",
      "WALGREENS BOOTS ALLIANCE\n",
      "WALMART\n"
     ]
    }
   ],
   "source": [
    "for company in djia_companies:\n",
    "    capitalized_name = company.upper()\n",
    "    print(capitalized_name)"
   ]
  },
  {
   "cell_type": "markdown",
   "metadata": {},
   "source": [
    "All the indented commands will be repeated. The idnentations is authomatic in most python text editors after we type the keyword `for`. We need to **manually de-indent** at the end of the loop: "
   ]
  },
  {
   "cell_type": "code",
   "execution_count": 25,
   "metadata": {},
   "outputs": [
    {
     "name": "stdout",
     "output_type": "stream",
     "text": [
      "3M\n",
      "AMERICAN EXPRESS\n",
      "AMGEN\n",
      "APPLE\n",
      "BOEING\n",
      "CATERPILLAR\n",
      "CHEVRON\n",
      "CISCO\n",
      "COCA-COLA\n",
      "DISNEY\n",
      "DOW\n",
      "GOLDMAN SACHS\n",
      "HOME DEPOT\n",
      "HONEYWELL\n",
      "IBM\n",
      "INTEL\n",
      "JOHNSON & JOHNSON\n",
      "JPMORGAN CHASE\n",
      "MCDONALDS\n",
      "MERCK\n",
      "MICROSOFT\n",
      "NIKE\n",
      "PROCTER & GAMBLE\n",
      "SALESFORCE\n",
      "TRAVELERS\n",
      "UNITEDHEALTH GROUP\n",
      "VERIZON\n",
      "VISA\n",
      "WALGREENS BOOTS ALLIANCE\n",
      "WALMART\n",
      "These are the constituents of the DJIA Index\n"
     ]
    }
   ],
   "source": [
    "for company in djia_companies:\n",
    "    capitalized_name = company.upper()\n",
    "    print(capitalized_name)\n",
    "    \n",
    "print('These are the constituents of the DJIA Index')"
   ]
  },
  {
   "cell_type": "markdown",
   "metadata": {},
   "source": [
    "The empty line is just for sake of making the code **easier to read**. What really indicates the end of the loop is the change in indentation. \n",
    "\n",
    "Another common device to make the code easier to read is to **choose a reasonable name** for the looping variable. In this case we chose `company` becuase this makes clear refrence to the name of the list. If we want to loop over a list called `books`, we can make the code easier to read by using:\n",
    "\n",
    "```python\n",
    "for book in books:\n",
    "```\n",
    "\n",
    "rather than something generic as\n",
    "\n",
    "```python\n",
    "for element in books:\n",
    "```\n",
    "___\n",
    "### Looping over list of numbers\n",
    "So far we have used lists of strings. The same features apply to **lists of numbers**. For example:"
   ]
  },
  {
   "cell_type": "code",
   "execution_count": 26,
   "metadata": {},
   "outputs": [
    {
     "name": "stdout",
     "output_type": "stream",
     "text": [
      "The double of 12 is 24\n",
      "The double of 23 is 46\n",
      "The double of 53 is 106\n",
      "The double of 12 is 24\n",
      "The double of 3 is 6\n",
      "The double of 33 is 66\n",
      "The double of 21 is 42\n"
     ]
    }
   ],
   "source": [
    "prices = [12, 23, 53, 12, 3, 33, 21]\n",
    "\n",
    "for price in prices:\n",
    "    double = price * 2\n",
    "    print(f'The double of {price} is {double}')"
   ]
  },
  {
   "cell_type": "markdown",
   "metadata": {},
   "source": [
    "Sometimes we may want to **iterate over all numbers** between a given lower and upper limit. In this case we do not want to have to manually create the list. In this case we can use the function **[`range()`](https://www.w3schools.com/python/ref_func_range.asp)** to create a sequence of numbers."
   ]
  },
  {
   "cell_type": "code",
   "execution_count": 27,
   "metadata": {},
   "outputs": [
    {
     "name": "stdout",
     "output_type": "stream",
     "text": [
      "0\n",
      "1\n",
      "2\n",
      "3\n",
      "4\n"
     ]
    }
   ],
   "source": [
    "for number in range(5):\n",
    "    print(number)"
   ]
  },
  {
   "cell_type": "code",
   "execution_count": 28,
   "metadata": {},
   "outputs": [
    {
     "name": "stdout",
     "output_type": "stream",
     "text": [
      "3\n",
      "4\n",
      "5\n",
      "6\n"
     ]
    }
   ],
   "source": [
    "for number in range(3,7):\n",
    "    print(number)"
   ]
  },
  {
   "cell_type": "markdown",
   "metadata": {},
   "source": [
    "We can also use the **[`list()`](https://www.programiz.com/python-programming/methods/built-in/list)** constructor together with `range()` to create a numerical list:"
   ]
  },
  {
   "cell_type": "code",
   "execution_count": 29,
   "metadata": {},
   "outputs": [
    {
     "name": "stdout",
     "output_type": "stream",
     "text": [
      "[0, 1, 2, 3]\n"
     ]
    }
   ],
   "source": [
    "numbers = list(range(4))\n",
    "print(numbers)"
   ]
  },
  {
   "cell_type": "markdown",
   "metadata": {},
   "source": [
    "___\n",
    "### Exercise 1b.05\n",
    "The **[`range()`](https://www.w3schools.com/python/ref_func_range.asp)** function accepts a third argument, the size of the \"step\" between consecutive numbers. Use this to print all the **odd numbers** between 1 and 10"
   ]
  },
  {
   "cell_type": "code",
   "execution_count": 30,
   "metadata": {},
   "outputs": [
    {
     "name": "stdout",
     "output_type": "stream",
     "text": [
      "1\n",
      "3\n",
      "5\n",
      "7\n",
      "9\n"
     ]
    }
   ],
   "source": [
    "for number in range(1,10,2):\n",
    "    print(number)"
   ]
  },
  {
   "cell_type": "markdown",
   "metadata": {},
   "source": [
    "___\n",
    "### Exercise 1b.06 (Black Belt)\n",
    "Use a loop to **sum all the numbers** between 1 and 20. You should only print the final answer (it should be 210)."
   ]
  },
  {
   "cell_type": "code",
   "execution_count": 31,
   "metadata": {},
   "outputs": [
    {
     "name": "stdout",
     "output_type": "stream",
     "text": [
      "210\n"
     ]
    }
   ],
   "source": [
    "total = 0 #We initialize the result variable\n",
    "\n",
    "for number in range(21):\n",
    "    # In each iteration we add a number to the running total\n",
    "    total = total + number\n",
    "\n",
    "#Outside the loop we print the result\n",
    "print(total)"
   ]
  },
  {
   "cell_type": "markdown",
   "metadata": {},
   "source": [
    "___\n",
    "### Slicing a List\n",
    "Sometimes we do not want to use, or to loop through, an entire list. In this case we can **\"slice\"** a list using the **positional indicators**:"
   ]
  },
  {
   "cell_type": "code",
   "execution_count": 32,
   "metadata": {},
   "outputs": [
    {
     "name": "stdout",
     "output_type": "stream",
     "text": [
      "[53, 7]\n"
     ]
    }
   ],
   "source": [
    "prices = [12, 23, 53, 7, 3, 33, 21]\n",
    "\n",
    "print(prices[2:4])"
   ]
  },
  {
   "cell_type": "markdown",
   "metadata": {},
   "source": [
    "While the technique is easy to udnerstand, the **indexing is always confusing**...\n",
    "\n",
    "First of all we need to remember that **Python counts from 0**, so the element with index equal to 2 is actually the 3rd element of the list. Second, as with the function `range()`, also in this case **Python stops one item before** the second index you specify. So in this case, the last element of our slice is the element with index equal to 3, the 4th element in the original list.\n",
    "\n",
    "There are other ways to use the slicing notation. For example if we omit the first index in a slice, Python automatically **starts at the beginning** of the list:"
   ]
  },
  {
   "cell_type": "code",
   "execution_count": 33,
   "metadata": {},
   "outputs": [
    {
     "name": "stdout",
     "output_type": "stream",
     "text": [
      "[12, 23, 53, 7]\n"
     ]
    }
   ],
   "source": [
    "print(prices[:4])"
   ]
  },
  {
   "cell_type": "markdown",
   "metadata": {},
   "source": [
    "On the other side, if we omit the second index, the slice will **go to the end** of the original list:"
   ]
  },
  {
   "cell_type": "code",
   "execution_count": 34,
   "metadata": {},
   "outputs": [
    {
     "name": "stdout",
     "output_type": "stream",
     "text": [
      "[53, 7, 3, 33, 21]\n"
     ]
    }
   ],
   "source": [
    "print(prices[2:])"
   ]
  },
  {
   "cell_type": "markdown",
   "metadata": {},
   "source": [
    "We can also use negative numebrs to start **counting from the end** of the list:"
   ]
  },
  {
   "cell_type": "code",
   "execution_count": 35,
   "metadata": {},
   "outputs": [
    {
     "name": "stdout",
     "output_type": "stream",
     "text": [
      "[12, 23, 53, 7]\n"
     ]
    }
   ],
   "source": [
    "print(prices[:-3])"
   ]
  },
  {
   "cell_type": "code",
   "execution_count": 36,
   "metadata": {},
   "outputs": [
    {
     "name": "stdout",
     "output_type": "stream",
     "text": [
      "[33, 21]\n"
     ]
    }
   ],
   "source": [
    "print(prices[-2:])"
   ]
  },
  {
   "cell_type": "markdown",
   "metadata": {},
   "source": [
    "We can also use slices in a `for` loop:"
   ]
  },
  {
   "cell_type": "code",
   "execution_count": 37,
   "metadata": {},
   "outputs": [
    {
     "name": "stdout",
     "output_type": "stream",
     "text": [
      "106\n",
      "14\n",
      "6\n"
     ]
    }
   ],
   "source": [
    "for price in prices[2:5]:\n",
    "    print(price*2)"
   ]
  },
  {
   "cell_type": "markdown",
   "metadata": {},
   "source": [
    "___\n",
    "### Exercise 1b.07\n",
    "Use the `range()` function to create a list called `first_five` containing the numbers between 1 and 5 (no zero!). Use a loop to print each number in the list excluding the first and the last. In each iteration the loop should print the string _\"The number X is between 1 and 5\"_."
   ]
  },
  {
   "cell_type": "code",
   "execution_count": 38,
   "metadata": {},
   "outputs": [
    {
     "name": "stdout",
     "output_type": "stream",
     "text": [
      "[1, 2, 3, 4, 5]\n"
     ]
    }
   ],
   "source": [
    "first_five = list(range(1,6))\n",
    "print(first_five)"
   ]
  },
  {
   "cell_type": "code",
   "execution_count": 39,
   "metadata": {},
   "outputs": [
    {
     "name": "stdout",
     "output_type": "stream",
     "text": [
      "The number 2 is between 1 and 5\n",
      "The number 3 is between 1 and 5\n",
      "The number 4 is between 1 and 5\n"
     ]
    }
   ],
   "source": [
    "for number in first_five[1:-1]:\n",
    "    print(f'The number {number} is between 1 and 5')"
   ]
  },
  {
   "cell_type": "markdown",
   "metadata": {},
   "source": [
    "___"
   ]
  }
 ],
 "metadata": {
  "kernelspec": {
   "display_name": "Python 3 (ipykernel)",
   "language": "python",
   "name": "python3"
  },
  "language_info": {
   "codemirror_mode": {
    "name": "ipython",
    "version": 3
   },
   "file_extension": ".py",
   "mimetype": "text/x-python",
   "name": "python",
   "nbconvert_exporter": "python",
   "pygments_lexer": "ipython3",
   "version": "3.10.4"
  }
 },
 "nbformat": 4,
 "nbformat_minor": 4
}
