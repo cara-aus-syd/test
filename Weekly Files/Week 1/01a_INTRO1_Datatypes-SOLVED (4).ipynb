{
 "cells": [
  {
   "cell_type": "markdown",
   "metadata": {},
   "source": [
    "# Introduction to Python\n",
    "\n",
    "In this brief introduction I will explore some of the basic functionalities of Python and of Jupyter Notebook, the main tool used to implement python for data analysis. In this notebook we will:\n",
    "1. Present a brief introduction to the **Jypter Environment**\n",
    "1. Introduce the main **datatypes** and **operarators** in python\n",
    "\n",
    "___\n",
    "#### Acknowledgement\n",
    "This notebook loosely follows the content of [Chapter 2](https://learning.oreilly.com/library/view/python-crash-course/9781098156664/c02.xhtml) of _Python Crash Course, 3rd Edition_ by Eric Matthes. Code from the book can be downloaded from the authors' [GitHub repository](https://github.com/ehmatthes/pcc_3e). \n",
    "___\n",
    "## Part 1 - Jupyter Notebook\n",
    "A Jupyter Notebook is a file containing both formatted text and executable code. The code can be run from within the notebook and the output displayed inline. The logical unit within a notebook is a **cell**. Cells can be individually modified and executed/run. When a cell is run, the output is displayed.\n",
    "\n",
    "There are two main types of cells: **markdown** and **code**. The type of cell can be chosen from a dropdown menu at the top of the notebook. Markdown cells contain text and they are used for comments or expositions. These cells can be formatted using the markdwon notation. For a primer on markdown refer to [this document](https://www.tutorialspoint.com/jupyter/jupyter_notebook_markdown_cells.htm).\n",
    "\n",
    "When you are editing a cell in Jupyter notebook, you need to re-run the cell by pressing **`<Shift> + <Enter>`**. This will allow changes you made to be available to other cells.\n",
    "\n",
    "Use **`<Enter>`** to make new lines inside a cell you are editing.\n",
    "\n",
    "This is what a code cell looks like with its own output displayed underneath"
   ]
  },
  {
   "cell_type": "code",
   "execution_count": 1,
   "metadata": {},
   "outputs": [
    {
     "name": "stdout",
     "output_type": "stream",
     "text": [
      "Hello World!\n"
     ]
    }
   ],
   "source": [
    "print('Hello World!')"
   ]
  },
  {
   "cell_type": "markdown",
   "metadata": {},
   "source": [
    "This is what a **markdown** cell looks like *before* it is run, with all its weird formatting `commands`"
   ]
  },
  {
   "cell_type": "markdown",
   "metadata": {},
   "source": [
    "#### Code cells\n",
    "\n",
    "Re-running will execute any statements you have written. To edit an existing code cell, click on it.\n",
    "\n",
    "#### Markdown cells\n",
    "\n",
    "Re-running will render the markdown text. To edit an existing markdown cell, double-click on it.\n",
    "\n",
    "### Common Jupyter operations\n",
    "\n",
    "Near the top of the page, Jupyter provides a row of menu options (`File`, `Edit`, `View`, ...) and at the op of the individual notebook a row of tool bar icons (disk, plus sign, scissors, 2 files, clipboard and file, right arrow, ...).\n",
    "\n",
    "#### Inserting and removing cells\n",
    "\n",
    "- Use the \"plus sign\" icon to insert a cell below the currently selected cell\n",
    "- Use the \"scissors\" icon to cut the current cell\n",
    "\n",
    "#### Clear the output of all cells\n",
    "\n",
    "- Use \"Kernel\" -> \"Restart\" from the menu to restart the kernel\n",
    "    - click on \"clear all outputs & restart\" to have all the output cleared\n",
    "\n",
    "### References\n",
    "\n",
    "- https://docs.python.org/3/tutorial/index.html\n",
    "- https://docs.python.org/3/tutorial/introduction.html\n",
    "- https://daringfireball.net/projects/markdown/syntax\n",
    "___"
   ]
  },
  {
   "cell_type": "markdown",
   "metadata": {},
   "source": [
    "### Exercise 1a.01\n",
    "Making reference to [this document](https://www.tutorialspoint.com/jupyter/jupyter_notebook_markdown_cells.htm) on how to use markdown cells, write a short text below making sure of:\n",
    "* Putting some words in **bold**\n",
    "* Highlighting some text in _italics_\n",
    "* Add a short bullet list and a sort numbered list\n",
    "\n",
    "As a bonus point can you add a link to a webpage?"
   ]
  },
  {
   "cell_type": "markdown",
   "metadata": {},
   "source": [
    "This is an example of a text with both **bold** and _italic_ text. The page has a bullet list:\n",
    "* First bullet point\n",
    "* Second bullet point\n",
    "* Third bullet point\n",
    "\n",
    "And it also has a short numbered list:\n",
    "1. First item\n",
    "1. Second item\n",
    "1. Thrid item\n",
    "\n",
    "Adding a link to [google](https://www.google.com/) is also very easy. "
   ]
  },
  {
   "cell_type": "markdown",
   "metadata": {},
   "source": [
    "___\n",
    "## PART 2 - Variables\n",
    "\n",
    "Everything in Python is an **object**, and objects can be used to perform all sort of operations. To easily identify an object, we normally assign to it a **variable**. This can be a seen as a **\"label\"** or a \"name\" that points to a specific object. See for example this simple code:"
   ]
  },
  {
   "cell_type": "code",
   "execution_count": 2,
   "metadata": {},
   "outputs": [
    {
     "name": "stdout",
     "output_type": "stream",
     "text": [
      "Hello Applied Portfolio Students!\n"
     ]
    }
   ],
   "source": [
    "message = 'Hello Applied Portfolio Students!'\n",
    "print(message)"
   ]
  },
  {
   "cell_type": "markdown",
   "metadata": {},
   "source": [
    "We have created an object, a string of text, and we have assigned it to a variable called `message`. In the second line we have passed this variable as an argument to a `print()` function. Since `message` is simply a label that \"points to\" a string object, the fucntion will not print the word \"message\", but the object itself.\n",
    "\n",
    "### Naming Conventions\n",
    "It's important to follow certain rules and guidelines while handling variables in Python, to avoid errors and write clear, easily comprehended code.\n",
    "1. Variable names can only contain letters, numbers and underscores.\n",
    "1. Variable names cannot start with a number (`name_1` is ok, but `1_name` is not)\n",
    "1. Underscores should be used to separate words (spaces are nto allowed): `student_name` works but `student name` does not.\n",
    "1. Variable names are case-sensitive, so `my_var` and `My_var` point to two different objects. The [PEP 8 – Style Guide for Python Code](https://peps.python.org/pep-0008/#function-and-variable-names) recommends using lowercase variable names.\n",
    "1. Avoid using, as a varaible name, a Python Keyowrd or built-in function. See [Appendix A](https://learning.oreilly.com/library/view/python-crash-course/9781098156664/b01.xhtml#h2-502703b01-0008) of _Python Crash Course_ for a list of these reserved names. \n",
    "\n",
    "### Surviving Naming Errors\n",
    "One of the most common types of error in Python code is the \"naming\" error, where the name of a variable is misspelled. To see an example in action, try to run the following code:"
   ]
  },
  {
   "cell_type": "code",
   "execution_count": 3,
   "metadata": {},
   "outputs": [
    {
     "ename": "NameError",
     "evalue": "name 'mesage' is not defined",
     "output_type": "error",
     "traceback": [
      "\u001b[0;31m---------------------------------------------------------------------------\u001b[0m",
      "\u001b[0;31mNameError\u001b[0m                                 Traceback (most recent call last)",
      "Input \u001b[0;32mIn [3]\u001b[0m, in \u001b[0;36m<cell line: 2>\u001b[0;34m()\u001b[0m\n\u001b[1;32m      1\u001b[0m message \u001b[38;5;241m=\u001b[39m \u001b[38;5;124m'\u001b[39m\u001b[38;5;124mI have a bad feeling about this\u001b[39m\u001b[38;5;124m'\u001b[39m\n\u001b[0;32m----> 2\u001b[0m \u001b[38;5;28mprint\u001b[39m(\u001b[43mmesage\u001b[49m)\n",
      "\u001b[0;31mNameError\u001b[0m: name 'mesage' is not defined"
     ]
    }
   ],
   "source": [
    "message = 'I have a bad feeling about this'\n",
    "print(mesage)"
   ]
  },
  {
   "attachments": {
    "6c63364d-d2db-4c81-baeb-2d2ba1e3357f.png": {
     "image/png": "[encoded data removed]"
    },
    "acaeb05f-975c-4d4d-8b59-5b1a4cbaa94e.png": {
     "image/png": "[encoded data removed]"
    }
   },
   "cell_type": "markdown",
   "metadata": {},
   "source": [
    "Being able to read Python error messages is a fundamental skill to acquire, so if your code crashes, take it as a \"learnign experience\". What do we learn from this **\"pink message of death\"**? First of all we get a general indication of the type of error. The last line reads:\n",
    "\n",
    "![Screenshot 2023-02-02 at 1.33.49 pm.png](attachment:acaeb05f-975c-4d4d-8b59-5b1a4cbaa94e.png)\n",
    "\n",
    "And we learn that we have a **\"naming error\"**, specifically we see that we are using a variable name `mesage` that does not exist. This label does not point to an existing object. We also learn that the problems is on the **second line** of the code:\n",
    "\n",
    "![Screenshot 2023-02-02 at 1.35.52 pm.png](attachment:6c63364d-d2db-4c81-baeb-2d2ba1e3357f.png)\n",
    "\n",
    "With this very specific indications, fixing the code is trivial."
   ]
  },
  {
   "cell_type": "code",
   "execution_count": 4,
   "metadata": {},
   "outputs": [
    {
     "name": "stdout",
     "output_type": "stream",
     "text": [
      "I have a bad feeling about this\n"
     ]
    }
   ],
   "source": [
    "message = 'I have a bad feeling about this'\n",
    "print(message)"
   ]
  },
  {
   "cell_type": "markdown",
   "metadata": {},
   "source": [
    "___\n",
    "### Exercise 1a.02\n",
    "Repeat the previous code but omit the parentheses in the second line (keep a space between \"print\" and the variable name). You will get an error of a different type. "
   ]
  },
  {
   "cell_type": "code",
   "execution_count": 5,
   "metadata": {},
   "outputs": [
    {
     "ename": "SyntaxError",
     "evalue": "Missing parentheses in call to 'print'. Did you mean print(message)? (1654689790.py, line 2)",
     "output_type": "error",
     "traceback": [
      "\u001b[0;36m  Input \u001b[0;32mIn [5]\u001b[0;36m\u001b[0m\n\u001b[0;31m    print message\u001b[0m\n\u001b[0m          ^\u001b[0m\n\u001b[0;31mSyntaxError\u001b[0m\u001b[0;31m:\u001b[0m Missing parentheses in call to 'print'. Did you mean print(message)?\n"
     ]
    }
   ],
   "source": [
    "message = 'I have a bad feeling about this'\n",
    "print message"
   ]
  },
  {
   "cell_type": "markdown",
   "metadata": {},
   "source": [
    "Fixing this error is trivial, but this is not always the case. When you do not know how to rectify your code, [Stack Overflow](https://en.wikipedia.org/wiki/Stack_Overflow) is your best friend. [Here](https://stackoverflow.com/questions/25445439/what-does-syntaxerror-missing-parentheses-in-call-to-print-mean-in-python) is what I got when I google \n",
    "\n",
    "_SyntaxError: Missing parentheses in call to 'print'\" stack overflow_"
   ]
  },
  {
   "cell_type": "markdown",
   "metadata": {},
   "source": [
    "___\n",
    "## Part 3 - Strings\n",
    "Objects in Python can be of different type. One the most common data types are **strings**. A string is a simple sequence of characters. Any text enclosed within quotes, whether single or double, is recognized as a string. Both\n",
    "\n",
    "```python\n",
    "'Applied Portfolio'\n",
    "```\n",
    "\n",
    "and\n",
    "\n",
    "```python\n",
    "\"Applied Portfolio\"\n",
    "```\n",
    "are valid strings in Python. In Jupyter strings **appear in red**. The availability of single and double quotes allow flexibility in using quotation marks (or apostrophes) inside a string:\n",
    "\n",
    "```python\n",
    "'A colleague told me: \"Applied Portfolio is a great subject!\"'\n",
    "\n",
    "\"Most of my Python's error messages are simple typing mistakes\"\n",
    "```"
   ]
  },
  {
   "cell_type": "markdown",
   "metadata": {},
   "source": [
    "### String Methods\n",
    "Every object in python has proper **\"methods\"**. A method is like a function _attached to the object itself_ that can be used to perform an action on the object. For example each string as a series of methods designed to easily **change the case** of the string. For example the **[`string.title()`](https://www.w3schools.com/python/ref_string_title.asp)** method capitalizes each word in the string.  "
   ]
  },
  {
   "cell_type": "code",
   "execution_count": 6,
   "metadata": {},
   "outputs": [
    {
     "name": "stdout",
     "output_type": "stream",
     "text": [
      "Harry Markowitz\n"
     ]
    }
   ],
   "source": [
    "name = 'harry markowitz'\n",
    "print(name.title())"
   ]
  },
  {
   "cell_type": "markdown",
   "metadata": {},
   "source": [
    "Similarly, **[`string.upper()`](https://www.w3schools.com/python/ref_string_upper.asp)** and **[`string.lower()`](https://www.w3schools.com/python/ref_string_lower.asp)** change the case of the string."
   ]
  },
  {
   "cell_type": "code",
   "execution_count": 7,
   "metadata": {},
   "outputs": [
    {
     "name": "stdout",
     "output_type": "stream",
     "text": [
      "HARRY MARKOWITZ\n",
      "harry markowitz\n"
     ]
    }
   ],
   "source": [
    "print(name.upper())\n",
    "print(name.lower())"
   ]
  },
  {
   "cell_type": "markdown",
   "metadata": {},
   "source": [
    "___\n",
    "#### A bit of coding geekery\n",
    "\n",
    "Please notice that since a method **belongs to a specific object**, to apply the method we use the notation `object_name.method()`. This is different from how we use a function, for example `print()`. In this case we use the notation `function_name(object_name)`. This is because the function is not attached to a specific object, and so we need to pass the object name as an _argument of the function_. \n",
    "\n",
    "Also please notice that in Jupyter, it is **not necessary to use the `print()` function** to show on screen the output of a function or method. We could simply type:"
   ]
  },
  {
   "cell_type": "code",
   "execution_count": 8,
   "metadata": {},
   "outputs": [
    {
     "data": {
      "text/plain": [
       "'HARRY MARKOWITZ'"
      ]
     },
     "execution_count": 8,
     "metadata": {},
     "output_type": "execute_result"
    }
   ],
   "source": [
    "name.upper()"
   ]
  },
  {
   "cell_type": "markdown",
   "metadata": {},
   "source": [
    "We still need to use the `print()` function if we want to show **multiple outputs**, otherwise only the last one is shown on screen:"
   ]
  },
  {
   "cell_type": "code",
   "execution_count": 9,
   "metadata": {},
   "outputs": [
    {
     "data": {
      "text/plain": [
       "'harry markowitz'"
      ]
     },
     "execution_count": 9,
     "metadata": {},
     "output_type": "execute_result"
    }
   ],
   "source": [
    "name.upper()\n",
    "name.lower()"
   ]
  },
  {
   "cell_type": "markdown",
   "metadata": {},
   "source": [
    "___\n",
    "### Other useful string methods\n",
    "\n",
    "Beside changing case, other useful string methods are designed to \"clean-up\" strings by **removing whitespaces** at the beginning or end of a string with **[`string.lstrip()`](https://www.w3schools.com/python/ref_string_lstrip.asp)**, **[`string.rstrip()`](https://www.w3schools.com/python/ref_string_rstrip.asp)** and **[`string.strip()`](https://www.w3schools.com/python/ref_string_strip.asp)**:"
   ]
  },
  {
   "cell_type": "code",
   "execution_count": 10,
   "metadata": {},
   "outputs": [
    {
     "name": "stdout",
     "output_type": "stream",
     "text": [
      "Applied Portfolio  \n",
      "   Applied Portfolio\n",
      "Applied Portfolio\n"
     ]
    }
   ],
   "source": [
    "subject_name = '   Applied Portfolio  '\n",
    "print(subject_name.lstrip())\n",
    "print(subject_name.rstrip())\n",
    "print(subject_name.strip())"
   ]
  },
  {
   "cell_type": "markdown",
   "metadata": {},
   "source": [
    "When working fith file names and web addresses, it is also useful to be able to **strip a fixed portion** of a string with **[`string.removeprefix(text)`](https://www.geeksforgeeks.org/python-string-removeprefix-function/)**. For example let's assume we need to download some stock prices from Yahoo Finance, and we need to clean-up the web address strings:"
   ]
  },
  {
   "cell_type": "code",
   "execution_count": 11,
   "metadata": {},
   "outputs": [
    {
     "data": {
      "text/plain": [
       "'finance.yahoo.com/quote/AAPL'"
      ]
     },
     "execution_count": 11,
     "metadata": {},
     "output_type": "execute_result"
    }
   ],
   "source": [
    "webpage = 'https://finance.yahoo.com/quote/AAPL'\n",
    "webpage.removeprefix('https://')"
   ]
  },
  {
   "cell_type": "markdown",
   "metadata": {},
   "source": [
    "Please be advised that this method, together with its cousin **[`string.removesuffix()`](https://www.geeksforgeeks.org/python-string-removesuffix/)** was **introduced in the 3.9** release of Python. So, if yo uare working with an older release, you will get an error message. \n",
    "\n",
    "### Using Varaibles inside strings\n",
    "Some times we may want to print a string whose content is **based on the value of a variable**. For example we want to print the result of our analysis on which stock we should add to a portfolio."
   ]
  },
  {
   "cell_type": "code",
   "execution_count": 12,
   "metadata": {},
   "outputs": [
    {
     "name": "stdout",
     "output_type": "stream",
     "text": [
      "Our algorithm suggests we invest in Apple\n"
     ]
    }
   ],
   "source": [
    "#this is the result a previous computation\n",
    "best_stock = 'Apple'\n",
    "\n",
    "#This is the output we want to show on screen\n",
    "investment_advice = f'Our algorithm suggests we invest in {best_stock}'\n",
    "\n",
    "#This is the final print command\n",
    "print(investment_advice)"
   ]
  },
  {
   "cell_type": "markdown",
   "metadata": {},
   "source": [
    "By adding the letter `f` immediately **before the opening quote** of the string, we can make the content of the string variable `investment_advice` a function of the content of the variable `best_stock`. The name of the variable has to be included in the string between {curly brackets}.\n",
    "\n",
    "___\n",
    "#### Another bit of coding geekery\n",
    "Many times, actually most of the times, **there are multiple ways** to obtain a given result, or to perform a given task, in Python. Here, for example, we could also have used a less elegant solution based on the fact that multiple strings can be **concatenated by using the sum operator** `+`:"
   ]
  },
  {
   "cell_type": "code",
   "execution_count": 13,
   "metadata": {},
   "outputs": [
    {
     "name": "stdout",
     "output_type": "stream",
     "text": [
      "Our algorithm suggests we invest in Apple\n"
     ]
    }
   ],
   "source": [
    "investment_advice_v2 = 'Our algorithm suggests we invest in '\n",
    "\n",
    "print(investment_advice_v2 + best_stock)"
   ]
  },
  {
   "cell_type": "markdown",
   "metadata": {},
   "source": [
    "The choice between different methods is usually **a matter of taste**. Sometimes a particular solution is more sophisticated/flexible/advanced, while another one may get the job done but would not win any coding beauty contest... In this specific case, the first solution is **clearly more elegant and flexible**, but the second one also gets the job done...\n",
    "___"
   ]
  },
  {
   "cell_type": "markdown",
   "metadata": {},
   "source": [
    "### Exercise 1a.03\n",
    "Use a variable to represent your name, and print a message to that person. Your message should be simple, such as, _“Hello [Your Name], would you like to learn some Python today?”_"
   ]
  },
  {
   "cell_type": "code",
   "execution_count": 14,
   "metadata": {},
   "outputs": [
    {
     "name": "stdout",
     "output_type": "stream",
     "text": [
      "Hello Obi-Wan Kenobi, would you like to learn some Python today?\n"
     ]
    }
   ],
   "source": [
    "my_name = 'Obi-Wan Kenobi'\n",
    "print(f'Hello {my_name}, would you like to learn some Python today?')"
   ]
  },
  {
   "cell_type": "markdown",
   "metadata": {},
   "source": [
    "___\n",
    "### Exercise 1a.04\n",
    "Choose your favourite movie in this [list](https://en.wikipedia.org/wiki/List_of_highest-grossing_films). Assign the tile to a variable called `best_movie`, and print this variable in ALL CAPS."
   ]
  },
  {
   "cell_type": "code",
   "execution_count": 15,
   "metadata": {},
   "outputs": [
    {
     "name": "stdout",
     "output_type": "stream",
     "text": [
      "THE LORD OF THE RINGS: THE RETURN OF THE KING\n"
     ]
    }
   ],
   "source": [
    "best_movie = 'The Lord of the Rings: The Return of the King'\n",
    "print(best_movie.upper())"
   ]
  },
  {
   "cell_type": "markdown",
   "metadata": {},
   "source": [
    "___\n",
    "## Part 4 - Numbers\n",
    "Numbers in Python can be represented with two different datatypes:\n",
    "- **`int`** (integer; a whole number with no decimal place)\n",
    "  - `10`\n",
    "  - `-3`\n",
    "- **`float`** (float; a number that has a decimal place)\n",
    "  - `7.41`\n",
    "  - `-0.006`\n",
    "\n",
    "Numbers can be combined using the standard **arithmetic operators**:\n",
    "- **`+`** (addition)\n",
    "- **`-`** (subtraction)\n",
    "- **`*`** (multiplication)\n",
    "- **`/`** (division)\n",
    "- __`**`__ (exponent)"
   ]
  },
  {
   "cell_type": "code",
   "execution_count": 16,
   "metadata": {},
   "outputs": [
    {
     "data": {
      "text/plain": [
       "22"
      ]
     },
     "execution_count": 16,
     "metadata": {},
     "output_type": "execute_result"
    }
   ],
   "source": [
    " 7 + 15"
   ]
  },
  {
   "cell_type": "code",
   "execution_count": 17,
   "metadata": {},
   "outputs": [
    {
     "data": {
      "text/plain": [
       "8"
      ]
     },
     "execution_count": 17,
     "metadata": {},
     "output_type": "execute_result"
    }
   ],
   "source": [
    "2 ** 3"
   ]
  },
  {
   "cell_type": "code",
   "execution_count": 18,
   "metadata": {},
   "outputs": [
    {
     "data": {
      "text/plain": [
       "2.3333333333333335"
      ]
     },
     "execution_count": 18,
     "metadata": {},
     "output_type": "execute_result"
    }
   ],
   "source": [
    "7 / 3"
   ]
  },
  {
   "cell_type": "markdown",
   "metadata": {},
   "source": [
    "Python adheres to **standard order** of operations, enabling complex expressions comprised of multiple operations. However, **parentheses can be employed** to explicitly dictate the evaluation sequence, allowing you to finely control the order in which Python executes the component operations of an expression."
   ]
  },
  {
   "cell_type": "code",
   "execution_count": 19,
   "metadata": {},
   "outputs": [
    {
     "data": {
      "text/plain": [
       "11"
      ]
     },
     "execution_count": 19,
     "metadata": {},
     "output_type": "execute_result"
    }
   ],
   "source": [
    "5 + 2 * 3"
   ]
  },
  {
   "cell_type": "code",
   "execution_count": 20,
   "metadata": {},
   "outputs": [
    {
     "data": {
      "text/plain": [
       "21"
      ]
     },
     "execution_count": 20,
     "metadata": {},
     "output_type": "execute_result"
    }
   ],
   "source": [
    "(5 + 2) * 3"
   ]
  },
  {
   "cell_type": "markdown",
   "metadata": {},
   "source": [
    "### Variable Assignments\n",
    "Just like strings, we can assign numbers to variables"
   ]
  },
  {
   "cell_type": "code",
   "execution_count": 21,
   "metadata": {},
   "outputs": [
    {
     "data": {
      "text/plain": [
       "10"
      ]
     },
     "execution_count": 21,
     "metadata": {},
     "output_type": "execute_result"
    }
   ],
   "source": [
    "a = 2\n",
    "b = 5\n",
    "\n",
    "a * b"
   ]
  },
  {
   "cell_type": "markdown",
   "metadata": {},
   "source": [
    "Python supports **simultaneous multiple variable assignment** via single statements, enabling both conciseness and clarity. This approach proves most useful when initializing related variables, as illustrated by the common case of assigning initial values to a group of numbers in one operation."
   ]
  },
  {
   "cell_type": "code",
   "execution_count": 22,
   "metadata": {},
   "outputs": [
    {
     "data": {
      "text/plain": [
       "36"
      ]
     },
     "execution_count": 22,
     "metadata": {},
     "output_type": "execute_result"
    }
   ],
   "source": [
    "a, b, c = 2, 4, 6\n",
    "\n",
    "(a + b) * c"
   ]
  },
  {
   "cell_type": "markdown",
   "metadata": {},
   "source": [
    "**Constants** represent variables whose values persist unaltered for the duration of program execution. Python convention dictates that constants be denoted through **uppercase naming**, signifying that the variables so-named are to remain **invariant**."
   ]
  },
  {
   "cell_type": "code",
   "execution_count": 23,
   "metadata": {},
   "outputs": [],
   "source": [
    "TRANSACTION_COSTS = 0.0015"
   ]
  },
  {
   "cell_type": "markdown",
   "metadata": {},
   "source": [
    "___\n",
    "### Exercise 1a.05\n",
    "Assign your age to a variable called `my_age`. Using the addition operator `+` generate aand print a new varaible called `me_in_five_years` with your age five years from now."
   ]
  },
  {
   "cell_type": "code",
   "execution_count": 24,
   "metadata": {},
   "outputs": [
    {
     "name": "stdout",
     "output_type": "stream",
     "text": [
      "54\n"
     ]
    }
   ],
   "source": [
    "my_age = 49\n",
    "me_in_five_years = my_age + 5\n",
    "\n",
    "print(me_in_five_years)"
   ]
  },
  {
   "cell_type": "markdown",
   "metadata": {},
   "source": [
    "___\n",
    "### Exercise 1a.06\n",
    "Assign the values of `3`, `5` and `2.5` to three variables called `x, y, z`. Use these variables to replicate this calculation. The result should be `91.18163...`\n",
    "\n",
    "$$ a + \\left(\\frac{b}{c} * a\\right)^{c} $$"
   ]
  },
  {
   "cell_type": "code",
   "execution_count": 25,
   "metadata": {},
   "outputs": [
    {
     "data": {
      "text/plain": [
       "91.18163074019441"
      ]
     },
     "execution_count": 25,
     "metadata": {},
     "output_type": "execute_result"
    }
   ],
   "source": [
    "a, b, c = 3, 5, 2.5\n",
    "\n",
    "a + (b/c*a)**c"
   ]
  },
  {
   "cell_type": "markdown",
   "metadata": {},
   "source": [
    "___"
   ]
  }
 ],
 "metadata": {
  "kernelspec": {
   "display_name": "Python 3 (ipykernel)",
   "language": "python",
   "name": "python3"
  },
  "language_info": {
   "codemirror_mode": {
    "name": "ipython",
    "version": 3
   },
   "file_extension": ".py",
   "mimetype": "text/x-python",
   "name": "python",
   "nbconvert_exporter": "python",
   "pygments_lexer": "ipython3",
   "version": "3.10.4"
  }
 },
 "nbformat": 4,
 "nbformat_minor": 4
}
