{
 "cells": [
  {
   "cell_type": "markdown",
   "metadata": {},
   "source": [
    "# Introduction to Python - Part 3: IF Statements\n",
    "\n",
    "In this notebook we will introduce the concept of **IF Statement** to alter our code's behavior based on external conditions. This is very useful when the action we want our code to perform is **conditional on some piece of information**. For example we want to take a long position in a stock if the PE ratio is below a certain threshold, and a short position if the ratio is above...\n",
    "\n",
    "\n",
    "___\n",
    "#### Acknowledgement\n",
    "This notebook loosely follows the content of [Chapter 5](https://learning.oreilly.com/library/view/python-crash-course/9781098156664/c05.xhtml)  of _Python Crash Course, 3rd Edition_ by Eric Matthes. Code from the book can be downloaded from the authors' [GitHub repository](https://github.com/ehmatthes/pcc_3e). "
   ]
  },
  {
   "cell_type": "markdown",
   "metadata": {},
   "source": [
    "___\n",
    "## Part 1 - Examples of IF Statements\n",
    "\n",
    "Coding requires evaluating various situations and selecting an appropriate response for each scenario. The **if statement** in Python enables you to analyze the current status of your program and execute the proper action based on that status. It permits your program to assess conditions and take the corresponding action indicated by those conditions.\n",
    "\n",
    "The if statement allows you to **test a condition** and perform some actions if the condition evaluates to `True`. You can also provide `elif` and/or `else` clauses to an if statement to take alternative actions if the condition evaluates to `False`."
   ]
  },
  {
   "cell_type": "code",
   "execution_count": 1,
   "metadata": {},
   "outputs": [
    {
     "name": "stdout",
     "output_type": "stream",
     "text": [
      "The price is too low!\n"
     ]
    }
   ],
   "source": [
    "# The code will perform an action only if a specific condition is met\n",
    "stock_price = 5\n",
    "\n",
    "if stock_price < 10:\n",
    "    print('The price is too low!') "
   ]
  },
  {
   "cell_type": "code",
   "execution_count": 2,
   "metadata": {},
   "outputs": [
    {
     "name": "stdout",
     "output_type": "stream",
     "text": [
      "The price is Ok...\n"
     ]
    }
   ],
   "source": [
    "# We can also specify an alternative outcome\n",
    "stock_price = 20\n",
    "\n",
    "if stock_price < 10:\n",
    "    print('The price is too low!')\n",
    "    \n",
    "else:\n",
    "    print('The price is Ok...')"
   ]
  },
  {
   "cell_type": "code",
   "execution_count": 3,
   "metadata": {},
   "outputs": [
    {
     "name": "stdout",
     "output_type": "stream",
     "text": [
      "The price is too high!\n"
     ]
    }
   ],
   "source": [
    "# Finally we can specify one or more alternative conditions using elif\n",
    "stock_price = 17\n",
    "\n",
    "if stock_price < 10:\n",
    "    print('The price is too low!')\n",
    "    \n",
    "elif stock_price >=15:\n",
    "    print('The price is too high!')\n",
    "    \n",
    "else:\n",
    "    print('The price is Ok...')"
   ]
  },
  {
   "cell_type": "markdown",
   "metadata": {},
   "source": [
    "___\n",
    "## Part 2 - True or False\n",
    "To properly build if statements we need to understand how to check if a statement (condition) **is true or false**. \n",
    "\n",
    "### Equality and Inequality\n",
    "To **check for equality** we use the double equal sign  **[`==`](https://www.w3schools.com/python/python_operators.asp)**. For example"
   ]
  },
  {
   "cell_type": "code",
   "execution_count": 4,
   "metadata": {},
   "outputs": [
    {
     "data": {
      "text/plain": [
       "False"
      ]
     },
     "execution_count": 4,
     "metadata": {},
     "output_type": "execute_result"
    }
   ],
   "source": [
    "company = 'Apple' #This assigns the value Apple to the variable company\n",
    "\n",
    "company == 'Amazon' #This checks whether the varaible company is equal to Amazon"
   ]
  },
  {
   "cell_type": "markdown",
   "metadata": {},
   "source": [
    "To **check for inequality** we can sue the inequality operator **[`!=`](https://www.w3schools.com/python/python_operators.asp)**. For example:"
   ]
  },
  {
   "cell_type": "code",
   "execution_count": 5,
   "metadata": {},
   "outputs": [
    {
     "data": {
      "text/plain": [
       "True"
      ]
     },
     "execution_count": 5,
     "metadata": {},
     "output_type": "execute_result"
    }
   ],
   "source": [
    "company != 'Microsoft'"
   ]
  },
  {
   "cell_type": "markdown",
   "metadata": {},
   "source": [
    "### Checking Multiple Conditions\n",
    "We can check if multiple conditions are true _at the same time_ using the logical operator `and`"
   ]
  },
  {
   "cell_type": "code",
   "execution_count": 6,
   "metadata": {},
   "outputs": [
    {
     "data": {
      "text/plain": [
       "False"
      ]
     },
     "execution_count": 6,
     "metadata": {},
     "output_type": "execute_result"
    }
   ],
   "source": [
    "price_apple = 20\n",
    "price_ibm = 15\n",
    "\n",
    "price_apple > 10 and price_ibm >15"
   ]
  },
  {
   "cell_type": "markdown",
   "metadata": {},
   "source": [
    "To make the code easier to read, it is common to **enclose individual conditions** in parentheses:"
   ]
  },
  {
   "cell_type": "code",
   "execution_count": 7,
   "metadata": {},
   "outputs": [
    {
     "data": {
      "text/plain": [
       "True"
      ]
     },
     "execution_count": 7,
     "metadata": {},
     "output_type": "execute_result"
    }
   ],
   "source": [
    "(price_apple > 10) and (price_ibm >=15)"
   ]
  },
  {
   "cell_type": "markdown",
   "metadata": {},
   "source": [
    "Using the **[`and`](https://www.w3schools.com/python/python_operators.asp)** operator we can c**oncatenate as many** conditions as we want."
   ]
  },
  {
   "cell_type": "code",
   "execution_count": 8,
   "metadata": {},
   "outputs": [
    {
     "data": {
      "text/plain": [
       "False"
      ]
     },
     "execution_count": 8,
     "metadata": {},
     "output_type": "execute_result"
    }
   ],
   "source": [
    "price_meta = 50\n",
    "\n",
    "(price_apple > 10) and (price_ibm >=15) and (price_meta <30)"
   ]
  },
  {
   "cell_type": "markdown",
   "metadata": {},
   "source": [
    "In the same way we can use the logical operator **[`or`](https://www.w3schools.com/python/python_operators.asp)** to check whether **at least one condition** is true:"
   ]
  },
  {
   "cell_type": "code",
   "execution_count": 9,
   "metadata": {},
   "outputs": [
    {
     "data": {
      "text/plain": [
       "True"
      ]
     },
     "execution_count": 9,
     "metadata": {},
     "output_type": "execute_result"
    }
   ],
   "source": [
    "(price_apple > 10) or (price_ibm >=15) or (price_meta <30)"
   ]
  },
  {
   "cell_type": "markdown",
   "metadata": {},
   "source": [
    "### Checking Whether a Value Is in a List or not\n",
    "\n",
    "Let's assume that we want to check wether a company is in our portfolio. We can do this with the **[`in`](https://www.w3schools.com/python/python_operators.asp)** operator"
   ]
  },
  {
   "cell_type": "code",
   "execution_count": 10,
   "metadata": {},
   "outputs": [
    {
     "data": {
      "text/plain": [
       "False"
      ]
     },
     "execution_count": 10,
     "metadata": {},
     "output_type": "execute_result"
    }
   ],
   "source": [
    "portfolio_firms = ['Apple', 'Amazon', 'Google']\n",
    "\n",
    "'Meta' in portfolio_firms"
   ]
  },
  {
   "cell_type": "markdown",
   "metadata": {},
   "source": [
    "In the same way we can use the **[`not in`](https://www.w3schools.com/python/python_operators.asp)** operator to check wheter an element is **not in a list**. "
   ]
  },
  {
   "cell_type": "code",
   "execution_count": 11,
   "metadata": {},
   "outputs": [
    {
     "data": {
      "text/plain": [
       "True"
      ]
     },
     "execution_count": 11,
     "metadata": {},
     "output_type": "execute_result"
    }
   ],
   "source": [
    "'Meta' not in portfolio_firms"
   ]
  },
  {
   "cell_type": "markdown",
   "metadata": {},
   "source": [
    "___\n",
    "## Part 3 -  Building IF statements\n",
    "Now that we know how to check whether a condition is true or false, we can easily build if statements"
   ]
  },
  {
   "cell_type": "code",
   "execution_count": 12,
   "metadata": {},
   "outputs": [
    {
     "name": "stdout",
     "output_type": "stream",
     "text": [
      "Meta is NOT in our portfolio and we should buy\n"
     ]
    }
   ],
   "source": [
    "firm = 'Meta'\n",
    "\n",
    "if firm in portfolio_firms:\n",
    "    print (f'{firm} is in our portfolio')\n",
    "    \n",
    "else:\n",
    "    print (f'{firm} is NOT in our portfolio and we should buy')"
   ]
  },
  {
   "cell_type": "markdown",
   "metadata": {},
   "source": [
    "Building an if statement is not complicated, but requires understanding exactly **the logic behind** the condition we want to test:"
   ]
  },
  {
   "cell_type": "code",
   "execution_count": 13,
   "metadata": {},
   "outputs": [
    {
     "name": "stdout",
     "output_type": "stream",
     "text": [
      "The firm is a good investment opportunity\n"
     ]
    }
   ],
   "source": [
    "firm_sector = 'Technology'\n",
    "firm_pe_ratio = 20\n",
    "\n",
    "if (firm_sector == 'Technology') and (firm_pe_ratio < 30):\n",
    "    print('The firm is a good investment opportunity')"
   ]
  },
  {
   "cell_type": "markdown",
   "metadata": {},
   "source": [
    "Have a look at this version of the same general statement:"
   ]
  },
  {
   "cell_type": "code",
   "execution_count": 14,
   "metadata": {},
   "outputs": [
    {
     "name": "stdout",
     "output_type": "stream",
     "text": [
      "The sector is attractive but the firm is too expensive\n"
     ]
    }
   ],
   "source": [
    "firm_sector = 'Technology'\n",
    "firm_pe_ratio = 40\n",
    "\n",
    "if firm_sector == 'Technology':\n",
    "    if firm_pe_ratio < 30:\n",
    "        print('The firm is a good investment opportunity')\n",
    "    else:\n",
    "        print('The sector is attractive but the firm is too expensive')\n",
    "else:\n",
    "    print('The sector is not interesting investment target at this time')"
   ]
  },
  {
   "cell_type": "markdown",
   "metadata": {},
   "source": [
    "This second form is **more flexible** because it allows us to treat the two statements separately and, for example, take a specific action if the first statements is true and the second is false: `print('The sector is attractive but the firm is too expensive')`.\n",
    "\n",
    "Of course we can apply **if statements within a for loop**. In this case the truthfulness of the condition will be assessed **within each iteration** of the loop and the appropriate line of code will be executed."
   ]
  },
  {
   "cell_type": "code",
   "execution_count": 15,
   "metadata": {},
   "outputs": [
    {
     "name": "stdout",
     "output_type": "stream",
     "text": [
      "A price of $1 is too low!\n",
      "A price of $20 is too high!\n",
      "A price of $5 is too low!\n",
      "A price of $35 is too high!\n",
      "A price of $21 is too high!\n",
      "A price of $12 is about right!\n",
      "A price of $18 is too high!\n",
      "A price of $16 is too high!\n"
     ]
    }
   ],
   "source": [
    "prices = [1, 20, 5, 35, 21, 12, 18, 16]\n",
    "\n",
    "for price in prices:\n",
    "    if price < 10:\n",
    "        print(f'A price of ${price} is too low!')\n",
    "    \n",
    "    elif price >=15:\n",
    "        print(f'A price of ${price} is too high!')\n",
    "    \n",
    "    else:\n",
    "        print(f'A price of ${price} is about right!')"
   ]
  },
  {
   "cell_type": "markdown",
   "metadata": {},
   "source": [
    "___\n",
    "### Exercise 2a.01\n",
    "This is a staple of programming courses... Create a for loop to iterate over all the items in the following list of numbers and check if each number is odd or even, and print the appropriate statement (\"The number x is odd\" or \"The number x is even\"). To find out whether a number is odd or even check out this [page](https://www.programiz.com/python-programming/examples/odd-even). "
   ]
  },
  {
   "cell_type": "code",
   "execution_count": 16,
   "metadata": {},
   "outputs": [
    {
     "name": "stdout",
     "output_type": "stream",
     "text": [
      "The number 1 is Odd\n",
      "The number 2 is Even\n",
      "The number 3 is Odd\n",
      "The number 4 is Even\n",
      "The number 5 is Odd\n",
      "The number 6 is Even\n",
      "The number 7 is Odd\n",
      "The number 8 is Even\n",
      "The number 9 is Odd\n",
      "The number 10 is Even\n"
     ]
    }
   ],
   "source": [
    "numbers = [1, 2, 3, 4, 5, 6, 7, 8, 9, 10]\n",
    "\n",
    "for number in numbers:\n",
    "    if (number % 2) == 0:\n",
    "        print(f'The number {number} is Even')\n",
    "    else:\n",
    "        print(f'The number {number} is Odd')"
   ]
  },
  {
   "cell_type": "markdown",
   "metadata": {},
   "source": [
    "___\n",
    "### Exercise 2a.02\n",
    "Your investment company holds a tech portfolio whose constituents are contained in the list `portfolio_firms`. Your investment algorithm has produced a list of `interesting_firms` to buy. Your job now is to create a list of firms to buy because they are interesting but they are NOT already in your portfolio.\n",
    "1. Start by creating an [empty list](https://www.geeksforgeeks.org/declare-an-empty-list-in-python/) called `buy_list`\n",
    "1. Create a for loop that checks if each firm in the interesting list is already in the portfolio\n",
    "1. If the firm is not in the portfolio it should be [appended](https://www.w3schools.com/python/ref_list_append.asp) to the buy list.\n",
    "1. At the end of the loop print the content of your buy list."
   ]
  },
  {
   "cell_type": "code",
   "execution_count": 17,
   "metadata": {},
   "outputs": [
    {
     "name": "stdout",
     "output_type": "stream",
     "text": [
      "['Nvidia', 'Cisco', 'Adobe', 'Salesforce']\n"
     ]
    }
   ],
   "source": [
    "portfolio_firms = ['Apple', 'Amazon', 'Google', 'Oracle']\n",
    "\n",
    "interesting_firms = ['Apple', 'Nvidia', 'Cisco', 'Google', 'Adobe', 'Salesforce']\n",
    "\n",
    "buy_list = []\n",
    "\n",
    "for firm in interesting_firms:\n",
    "    if firm not in portfolio_firms:\n",
    "        buy_list.append(firm)\n",
    "\n",
    "print(buy_list)"
   ]
  }
 ],
 "metadata": {
  "kernelspec": {
   "display_name": "Python 3 (ipykernel)",
   "language": "python",
   "name": "python3"
  },
  "language_info": {
   "codemirror_mode": {
    "name": "ipython",
    "version": 3
   },
   "file_extension": ".py",
   "mimetype": "text/x-python",
   "name": "python",
   "nbconvert_exporter": "python",
   "pygments_lexer": "ipython3",
   "version": "3.11.4"
  }
 },
 "nbformat": 4,
 "nbformat_minor": 4
}
