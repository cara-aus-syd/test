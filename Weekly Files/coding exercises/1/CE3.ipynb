{
 "cells": [
  {
   "cell_type": "markdown",
   "id": "3027c6a8-05d5-4cb0-9f85-75200fbda2de",
   "metadata": {},
   "source": [
    "# Week 3 - Coding Exercise\n",
    "This notebook **is the deliverable** for your weekly coding exercises. Below you will find the text of the exercise and the space to write your code. Feel free to **add additional code cells** if needed. \n",
    "\n",
    "## Completion Instructions\n",
    "1. Some exercises will ask you to perform a calculation and assign the result to a variable with a **specific name**. Assigning the result to a variable with the wrong name will result in **0 marks** for that point.\n",
    "1. Some exercises will ask you to perform a calculation and assign the result to a varaible of a **specific type** (number, Series, DataFrame, etc.). Assigning the result to a variable of the wrong type will result in **0 marks** for that point. You can check the type of an object with the function **[`type()`](https://www.codingem.com/type-of-in-python/)**.\n",
    "1. The **final result** of each point should be **shown on screen**. For example if you are asked to assign the result of a calculation to a number called `Total`, this number should be visible on screen. If the result is a DataFrame or Series you should show only a few rows with **[`df.head()`](https://pandas.pydata.org/docs/reference/api/pandas.DataFrame.head.html)** or, if more appropriate, **[`df.tail()`](https://pandas.pydata.org/docs/reference/api/pandas.DataFrame.tail.html)**. If a final result is not shown on screen, it will lead to **0 marks** for that point.\n",
    "1. You should not \"hard-code\" numbers into your calculations if this can be avoided. For example if you need to use the \"number of columns\" in a DataFrame in a calculation, you should use a command/function to calculate the number of columns and not simply count the columns and use `7` (a hard-coded number) in your calculations. Using hard-coded numbers when this is unnecessary may result in **0 marks** for that point. \n",
    "\n",
    "\n",
    "## Submission Instructions\n",
    "1. Do not change the **name of the file**. Canvas will automatically add your name and student ID to the file. (**Attention:** If you submit multiple times in Canvas, the software will automatically add a number at the end of your file name. This is ok).\n",
    "1. Before submitting the notebook please **check that it runs properly** from top to bottom. To do this, save the file, close it, then re-open it and press the fast-forward button at the top of the notebook or _Restart and Run All Cells_ from the _Kernel_ menu. You can see a discussion of this in this [video](https://youtu.be/P0NyuTGddPo). If your file has a breaking error that does not allow us to run the notebook from top to bottom you will receive a **penalty of 5 marks**. \n",
    "___"
   ]
  },
  {
   "cell_type": "markdown",
   "id": "117619cd-8306-4015-8d59-7a9db942f9bd",
   "metadata": {},
   "source": [
    "#### Identification\n",
    "Please enter your **name** and your **student ID** number in this markdown cell:\n",
    "\n",
    "* **Student Name:** XXXXXX\n",
    "* **Student ID:** XXXXXX\n",
    "\n",
    "Missing name or ID will result in **1 mark penalty**."
   ]
  },
  {
   "cell_type": "markdown",
   "id": "6cd185d7-6bd9-4494-bf4f-9de602ebc758",
   "metadata": {},
   "source": [
    "___\n",
    "#### Import Statements\n",
    "Add in the following cell all the import statements that you need to run the entire notebook. Import statements anywhere else in the notebook will result in a **penalty of 1 mark**."
   ]
  },
  {
   "cell_type": "code",
   "execution_count": null,
   "id": "54d5ccc4-cfde-4a20-923b-cdde4e252ea0",
   "metadata": {},
   "outputs": [],
   "source": []
  },
  {
   "cell_type": "markdown",
   "id": "805d758b-71f4-4b03-aa2f-68ade6d1ec81",
   "metadata": {},
   "source": [
    "___\n",
    "### Exercise CE3.01\n",
    "The file `CE3_ROE.csv` contains data on the Return on Equity of worldwide companies in the MSCI World Index, together with a numerical sector code and the country where each company is headquartered. Load its content into a DataFrame called `firm_roe`. Choose the appropriate index for this DataFrame. **[Point 1: 1 Mark]**"
   ]
  },
  {
   "cell_type": "code",
   "execution_count": null,
   "id": "f32865c0-3efb-48d9-ae8b-3b6db34fb30a",
   "metadata": {},
   "outputs": [],
   "source": []
  },
  {
   "cell_type": "markdown",
   "id": "0bf25d9c-fa4f-45c8-bc3f-78ef186cd163",
   "metadata": {},
   "source": [
    "The _Energy Minerals_ sector (Sector ID: 2100), has a very high average ROE (50.4%!). Let's create a new DataFrame called `energy_firms` that has the same columns of `firm_roe` but contains only firms in the Energy Minerals sector **[Point 2: 1 Mark]**:"
   ]
  },
  {
   "cell_type": "code",
   "execution_count": null,
   "id": "0342f927-89f2-4e66-b02f-ae75934a52f6",
   "metadata": {},
   "outputs": [],
   "source": []
  },
  {
   "cell_type": "markdown",
   "id": "cc086819-7bc2-4428-9f99-e9a499fe4531",
   "metadata": {},
   "source": [
    "We are concerned that the high average ROE may be due to few [outliers](https://en.wikipedia.org/wiki/Outlier), maybe because of an error in data entry. Sort the `energy_firms` DataFrame in descending order by ROE and using the `.head()` method show on screen the five firms with the highest ROE **[Point 3: 1 Mark]**:"
   ]
  },
  {
   "cell_type": "code",
   "execution_count": null,
   "id": "c4edae09-275f-433b-ac80-605d0039b526",
   "metadata": {},
   "outputs": [],
   "source": []
  },
  {
   "cell_type": "markdown",
   "id": "37c8bf16-4ff6-4069-9dd8-91160c38949f",
   "metadata": {},
   "source": [
    "You should be able to observe that **there are two firms** in the sample with ROE greater than 1000%. These outliers may skew our estimation of the average ROE. Calculate the average ROE of energy firms without considering observations where the ROE is greater than 1000% (please notice that in the file numbers are written in percentage points, so 1000% appears as 1000). The result should be a number and should be assigned to a variable called `adjusted_average_roe` **[Point 4: 1 Mark]**."
   ]
  },
  {
   "cell_type": "code",
   "execution_count": null,
   "id": "9a88a71e-4569-448f-b5f3-cb4688ea62a9",
   "metadata": {},
   "outputs": [],
   "source": []
  },
  {
   "cell_type": "markdown",
   "id": "5620b8d7",
   "metadata": {},
   "source": [
    "___\n",
    "### Exercise CE3.02\n",
    "Again, the file `CE3_ROE.csv` contains data on the Return on Equity of worldwide companies in the MSCI World Index together with a numerical sector code and the country where each company is headquartered. Load its content into a DataFrame called `firm_roe_new`. Choose the appropriate index for this DataFrame."
   ]
  },
  {
   "cell_type": "code",
   "execution_count": null,
   "id": "f0029573",
   "metadata": {
    "scrolled": false
   },
   "outputs": [],
   "source": []
  },
  {
   "cell_type": "markdown",
   "id": "417c4e29",
   "metadata": {},
   "source": [
    "The file `CE3_Sector.csv` contains the name of the industry associated with each sector code. Load its content into a DataFrame called `sectors`."
   ]
  },
  {
   "cell_type": "code",
   "execution_count": null,
   "id": "a575ec89",
   "metadata": {
    "scrolled": true
   },
   "outputs": [],
   "source": []
  },
  {
   "cell_type": "markdown",
   "id": "16136d91",
   "metadata": {},
   "source": [
    "Combine `firm_roe_new` and `sectors` into a single DataFrame called `firm_sector` that should have:\n",
    "* The Symbol of the company as index\n",
    "* Only three columns, one with the ROE, one with the country, and one with the sector (the **name** not the numeric code)\n",
    "\n",
    "You may need more than one command to achieve the final result, we will not consider the intermediate results but only the final form of `firm_sector` **[Point 5: 1 Mark]**."
   ]
  },
  {
   "cell_type": "code",
   "execution_count": null,
   "id": "66cdefd3",
   "metadata": {
    "scrolled": false
   },
   "outputs": [],
   "source": []
  },
  {
   "cell_type": "markdown",
   "id": "32bf5123",
   "metadata": {},
   "source": [
    "Calculate the average Return on Equity of all 'Consumer Durables' firms (across all countries). Assign this number to a variable called `consumer_durables_roe` **[Point 6: 1 Mark]**"
   ]
  },
  {
   "cell_type": "code",
   "execution_count": null,
   "id": "90dd601f",
   "metadata": {
    "scrolled": true
   },
   "outputs": [],
   "source": []
  },
  {
   "cell_type": "markdown",
   "id": "0543f5aa",
   "metadata": {},
   "source": [
    "Plot the average return of the stocks in each industry in a (horizontal) bar plot with the following caracteristics **[Point 7: 1 Mark]**:\n",
    "* Size of 12x12\n",
    "* Title _\"Return on Equity by Sector\"_\n",
    "* The names of the industries on the vertical axis\n",
    "* The horizontal bars should be brown\n",
    "* A visible grid"
   ]
  },
  {
   "cell_type": "code",
   "execution_count": null,
   "id": "f521448e",
   "metadata": {},
   "outputs": [],
   "source": []
  },
  {
   "cell_type": "markdown",
   "id": "17c6ed75-4362-4119-8d03-ee575acfa390",
   "metadata": {},
   "source": [
    "___\n",
    "### Exercise CE3.03\n",
    "The file `CE3_Market.xlsx` contains daily returns for the ASX 200 and the Russell 2000 (US Small companies). Load its content in a DataFrame called `index_returns` and choose the appropriate index for it. The file also has a column that indicates the day of the week. \n",
    "\n",
    "You should load directly from the excel file without exporting from Excel to CSV first (please notice that the workbook has two work sheets, and you are **not allowed to change** the original file...) **[Point 8: 1 Mark]**."
   ]
  },
  {
   "cell_type": "code",
   "execution_count": null,
   "id": "4e060f80-ad29-413a-8a63-1caefd04f4a4",
   "metadata": {},
   "outputs": [],
   "source": []
  },
  {
   "cell_type": "markdown",
   "id": "df778baf-1d3a-49eb-b515-56c7feb54bc4",
   "metadata": {},
   "source": [
    "Calculate the percentage of days in which wht ASX 200 performs worse than the Russell 2000. This result, a number, should be assigned to a variable called `australia_worst` **[Point 9: 1 Mark]**.\n",
    "\n",
    "**ATTENTION:** There are multiple ways to solve this problem, we will consider them all correct as long as:\n",
    "1. The final number is correct \n",
    "1. There is no manual imputation of numbers. For example, you do not print on screen all the values and count them manually. The result should come out of your code. "
   ]
  },
  {
   "cell_type": "code",
   "execution_count": null,
   "id": "3556b3c5-9880-4a5d-aa15-1b662e5ed5ba",
   "metadata": {},
   "outputs": [],
   "source": []
  },
  {
   "cell_type": "markdown",
   "id": "5d9afcb4-d460-4b19-89dc-7f0018a7bd4f",
   "metadata": {},
   "source": [
    "For the US market, calculate the difference between the average daily return on Fridays and the average daily return on Mondays. Assign the result, a number, to a variable called `weekend_effect` **[Point 10: 1 Mark]**."
   ]
  },
  {
   "cell_type": "code",
   "execution_count": null,
   "id": "11f7668c-f3c0-4849-81fe-f7da8b1999cb",
   "metadata": {},
   "outputs": [],
   "source": []
  }
 ],
 "metadata": {
  "kernelspec": {
   "display_name": "Python 3 (ipykernel)",
   "language": "python",
   "name": "python3"
  },
  "language_info": {
   "codemirror_mode": {
    "name": "ipython",
    "version": 3
   },
   "file_extension": ".py",
   "mimetype": "text/x-python",
   "name": "python",
   "nbconvert_exporter": "python",
   "pygments_lexer": "ipython3",
   "version": "3.9.12"
  }
 },
 "nbformat": 4,
 "nbformat_minor": 5
}
