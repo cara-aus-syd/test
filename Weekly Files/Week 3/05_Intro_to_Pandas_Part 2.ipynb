{
 "cells": [
  {
   "cell_type": "code",
   "execution_count": 1,
   "id": "23ea6022",
   "metadata": {},
   "outputs": [],
   "source": [
    "import pandas as pd\n",
    "import numpy as np\n",
    "import matplotlib.pyplot as plt\n",
    "plt.style.use('fivethirtyeight')\n",
    "plt.rcParams['font.size'] = 10\n",
    "plt.rcParams['lines.linewidth'] = 3\n",
    "%matplotlib inline"
   ]
  },
  {
   "cell_type": "markdown",
   "id": "21697829",
   "metadata": {},
   "source": [
    "# Advanced Pandas\n",
    "Padas will be our main tool for data management and data analysis. Here we explore a few advanced topics on how to use Pandas efficiently:\n",
    "1. How to **group** observations and perform calculations on the different sub-groups of data\n",
    "1. How to **combine** different datasets\n",
    "1. How to use logical operators to **select** groups of observations"
   ]
  },
  {
   "cell_type": "markdown",
   "id": "34a73496",
   "metadata": {},
   "source": [
    "___\n",
    "## Part 1 - GroupBy Operations\n",
    "Pandas has powerful and flexible **grouping capabilities**. They work similarly to pivot tables in Microsoft Excel where we can group observations based on some varaible and then we can perform calculations on the different groups. Let's start by loading our data on size and beta of US listed companies"
   ]
  },
  {
   "cell_type": "code",
   "execution_count": 12,
   "id": "ccf18b88",
   "metadata": {},
   "outputs": [
    {
     "data": {
      "text/html": [
       "<div>\n",
       "<style scoped>\n",
       "    .dataframe tbody tr th:only-of-type {\n",
       "        vertical-align: middle;\n",
       "    }\n",
       "\n",
       "    .dataframe tbody tr th {\n",
       "        vertical-align: top;\n",
       "    }\n",
       "\n",
       "    .dataframe thead th {\n",
       "        text-align: right;\n",
       "    }\n",
       "</style>\n",
       "<table border=\"1\" class=\"dataframe\">\n",
       "  <thead>\n",
       "    <tr style=\"text-align: right;\">\n",
       "      <th></th>\n",
       "      <th>name</th>\n",
       "      <th>industry</th>\n",
       "      <th>size</th>\n",
       "      <th>ret</th>\n",
       "      <th>beta</th>\n",
       "    </tr>\n",
       "    <tr>\n",
       "      <th>ticker</th>\n",
       "      <th></th>\n",
       "      <th></th>\n",
       "      <th></th>\n",
       "      <th></th>\n",
       "      <th></th>\n",
       "    </tr>\n",
       "  </thead>\n",
       "  <tbody>\n",
       "    <tr>\n",
       "      <th>AAPL</th>\n",
       "      <td>APPLE INC</td>\n",
       "      <td>Business Equipment</td>\n",
       "      <td>643.12012</td>\n",
       "      <td>0.236708</td>\n",
       "      <td>1.289383</td>\n",
       "    </tr>\n",
       "    <tr>\n",
       "      <th>XOM</th>\n",
       "      <td>EXXON MOBIL CORP</td>\n",
       "      <td>Oil, Gas, and Coal</td>\n",
       "      <td>391.48221</td>\n",
       "      <td>-0.016955</td>\n",
       "      <td>0.493250</td>\n",
       "    </tr>\n",
       "    <tr>\n",
       "      <th>MSFT</th>\n",
       "      <td>MICROSOFT CORP</td>\n",
       "      <td>Business Equipment</td>\n",
       "      <td>381.72610</td>\n",
       "      <td>0.304496</td>\n",
       "      <td>1.195665</td>\n",
       "    </tr>\n",
       "    <tr>\n",
       "      <th>JNJ</th>\n",
       "      <td>JOHNSON &amp; JOHNSON</td>\n",
       "      <td>Healthcare</td>\n",
       "      <td>292.70294</td>\n",
       "      <td>0.098696</td>\n",
       "      <td>0.461693</td>\n",
       "    </tr>\n",
       "    <tr>\n",
       "      <th>WFC</th>\n",
       "      <td>WELLS FARGO &amp; CO NEW</td>\n",
       "      <td>Finance</td>\n",
       "      <td>284.38553</td>\n",
       "      <td>0.027379</td>\n",
       "      <td>0.839797</td>\n",
       "    </tr>\n",
       "  </tbody>\n",
       "</table>\n",
       "</div>"
      ],
      "text/plain": [
       "                        name            industry       size       ret  \\\n",
       "ticker                                                                  \n",
       "AAPL               APPLE INC  Business Equipment  643.12012  0.236708   \n",
       "XOM         EXXON MOBIL CORP  Oil, Gas, and Coal  391.48221 -0.016955   \n",
       "MSFT          MICROSOFT CORP  Business Equipment  381.72610  0.304496   \n",
       "JNJ        JOHNSON & JOHNSON          Healthcare  292.70294  0.098696   \n",
       "WFC     WELLS FARGO & CO NEW             Finance  284.38553  0.027379   \n",
       "\n",
       "            beta  \n",
       "ticker            \n",
       "AAPL    1.289383  \n",
       "XOM     0.493250  \n",
       "MSFT    1.195665  \n",
       "JNJ     0.461693  \n",
       "WFC     0.839797  "
      ]
     },
     "execution_count": 12,
     "metadata": {},
     "output_type": "execute_result"
    }
   ],
   "source": [
    "shares = pd.read_csv('shares.csv', index_col='ticker')\n",
    "shares.head()"
   ]
  },
  {
   "cell_type": "markdown",
   "id": "4e14e52b",
   "metadata": {},
   "source": [
    "The following code groups by the `industry` column and outputs statistics for the single groups:"
   ]
  },
  {
   "cell_type": "code",
   "execution_count": 13,
   "id": "6146f22a",
   "metadata": {},
   "outputs": [],
   "source": [
    "industries = shares.groupby('industry')"
   ]
  },
  {
   "cell_type": "markdown",
   "id": "e0e1dad5",
   "metadata": {},
   "source": [
    "The result of this operation is a weird object that cannot be visualized. It is only useful to perform operations on the groups"
   ]
  },
  {
   "cell_type": "code",
   "execution_count": 14,
   "id": "ec234c8d",
   "metadata": {},
   "outputs": [
    {
     "data": {
      "text/plain": [
       "<pandas.core.groupby.generic.DataFrameGroupBy object at 0x12ef4e590>"
      ]
     },
     "execution_count": 14,
     "metadata": {},
     "output_type": "execute_result"
    }
   ],
   "source": [
    "industries"
   ]
  },
  {
   "cell_type": "markdown",
   "id": "99722595",
   "metadata": {},
   "source": [
    "We can start by counting how many observations (companies) there are in every group using the [**`GroupBy.size()`**](https://pandas.pydata.org/docs/reference/api/pandas.core.groupby.GroupBy.size.html). Please notice that \"size\" here is a method of the groupby operator and has nothing to do with the column called `size` in the original DataFrame."
   ]
  },
  {
   "cell_type": "code",
   "execution_count": 15,
   "id": "e5870543",
   "metadata": {},
   "outputs": [
    {
     "data": {
      "text/plain": [
       "industry\n",
       "Business Equipment       197\n",
       "Chemicals                 57\n",
       "Consumer Durables         33\n",
       "Consumer non Durables     98\n",
       "Finance                  246\n",
       "Healthcare               128\n",
       "Manufacturing            197\n",
       "Oil, Gas, and Coal        72\n",
       "Other                    177\n",
       "Retail                   141\n",
       "Telecommunications        40\n",
       "Utilities                 57\n",
       "dtype: int64"
      ]
     },
     "execution_count": 15,
     "metadata": {},
     "output_type": "execute_result"
    }
   ],
   "source": [
    "industries.size() "
   ]
  },
  {
   "cell_type": "markdown",
   "id": "4efe6894",
   "metadata": {},
   "source": [
    "Now that our companies are grouped by industry we can easily measure the **average beta by industry**. We just need to apply the `.mean()` method to the groupby object. "
   ]
  },
  {
   "cell_type": "code",
   "execution_count": 16,
   "id": "a35a0d34",
   "metadata": {},
   "outputs": [
    {
     "data": {
      "text/plain": [
       "industry\n",
       "Business Equipment       1.626038\n",
       "Chemicals                1.011927\n",
       "Consumer Durables        1.402230\n",
       "Consumer non Durables    0.921691\n",
       "Finance                  0.889086\n",
       "Healthcare               1.056634\n",
       "Manufacturing            1.192749\n",
       "Oil, Gas, and Coal       1.043445\n",
       "Other                    1.115744\n",
       "Retail                   1.117096\n",
       "Telecommunications       1.324042\n",
       "Utilities                0.411085\n",
       "Name: beta, dtype: float64"
      ]
     },
     "execution_count": 16,
     "metadata": {},
     "output_type": "execute_result"
    }
   ],
   "source": [
    "industries['beta'].mean()"
   ]
  },
  {
   "cell_type": "markdown",
   "id": "1e062da7",
   "metadata": {},
   "source": [
    "We can use the generic [**`GroupBy.agggregate()`**](https://pandas.pydata.org/docs/reference/api/pandas.core.groupby.DataFrameGroupBy.aggregate.html) method to ask for any number of arbitrary group statistics. For example here we want to learn the best, worst and average performance of the firms in each industry:"
   ]
  },
  {
   "cell_type": "code",
   "execution_count": 17,
   "id": "8be2f3fb",
   "metadata": {},
   "outputs": [
    {
     "data": {
      "text/html": [
       "<div>\n",
       "<style scoped>\n",
       "    .dataframe tbody tr th:only-of-type {\n",
       "        vertical-align: middle;\n",
       "    }\n",
       "\n",
       "    .dataframe tbody tr th {\n",
       "        vertical-align: top;\n",
       "    }\n",
       "\n",
       "    .dataframe thead th {\n",
       "        text-align: right;\n",
       "    }\n",
       "</style>\n",
       "<table border=\"1\" class=\"dataframe\">\n",
       "  <thead>\n",
       "    <tr style=\"text-align: right;\">\n",
       "      <th></th>\n",
       "      <th>min</th>\n",
       "      <th>max</th>\n",
       "      <th>mean</th>\n",
       "    </tr>\n",
       "    <tr>\n",
       "      <th>industry</th>\n",
       "      <th></th>\n",
       "      <th></th>\n",
       "      <th></th>\n",
       "    </tr>\n",
       "  </thead>\n",
       "  <tbody>\n",
       "    <tr>\n",
       "      <th>Business Equipment</th>\n",
       "      <td>-0.310205</td>\n",
       "      <td>0.765975</td>\n",
       "      <td>0.108934</td>\n",
       "    </tr>\n",
       "    <tr>\n",
       "      <th>Chemicals</th>\n",
       "      <td>-0.614735</td>\n",
       "      <td>0.336840</td>\n",
       "      <td>0.037285</td>\n",
       "    </tr>\n",
       "    <tr>\n",
       "      <th>Consumer Durables</th>\n",
       "      <td>-0.258810</td>\n",
       "      <td>0.225435</td>\n",
       "      <td>0.034719</td>\n",
       "    </tr>\n",
       "    <tr>\n",
       "      <th>Consumer non Durables</th>\n",
       "      <td>-0.668633</td>\n",
       "      <td>0.293459</td>\n",
       "      <td>0.043510</td>\n",
       "    </tr>\n",
       "    <tr>\n",
       "      <th>Finance</th>\n",
       "      <td>-0.673303</td>\n",
       "      <td>0.325035</td>\n",
       "      <td>0.084814</td>\n",
       "    </tr>\n",
       "    <tr>\n",
       "      <th>Healthcare</th>\n",
       "      <td>-0.617889</td>\n",
       "      <td>0.578339</td>\n",
       "      <td>0.019449</td>\n",
       "    </tr>\n",
       "    <tr>\n",
       "      <th>Manufacturing</th>\n",
       "      <td>-0.447244</td>\n",
       "      <td>0.431358</td>\n",
       "      <td>0.060195</td>\n",
       "    </tr>\n",
       "    <tr>\n",
       "      <th>Oil, Gas, and Coal</th>\n",
       "      <td>-0.617344</td>\n",
       "      <td>0.312777</td>\n",
       "      <td>-0.136099</td>\n",
       "    </tr>\n",
       "    <tr>\n",
       "      <th>Other</th>\n",
       "      <td>-0.584756</td>\n",
       "      <td>0.459846</td>\n",
       "      <td>0.052756</td>\n",
       "    </tr>\n",
       "    <tr>\n",
       "      <th>Retail</th>\n",
       "      <td>-0.556325</td>\n",
       "      <td>0.378866</td>\n",
       "      <td>-0.002004</td>\n",
       "    </tr>\n",
       "    <tr>\n",
       "      <th>Telecommunications</th>\n",
       "      <td>-0.589366</td>\n",
       "      <td>0.353242</td>\n",
       "      <td>0.060016</td>\n",
       "    </tr>\n",
       "    <tr>\n",
       "      <th>Utilities</th>\n",
       "      <td>-0.259129</td>\n",
       "      <td>0.211912</td>\n",
       "      <td>0.093593</td>\n",
       "    </tr>\n",
       "  </tbody>\n",
       "</table>\n",
       "</div>"
      ],
      "text/plain": [
       "                            min       max      mean\n",
       "industry                                           \n",
       "Business Equipment    -0.310205  0.765975  0.108934\n",
       "Chemicals             -0.614735  0.336840  0.037285\n",
       "Consumer Durables     -0.258810  0.225435  0.034719\n",
       "Consumer non Durables -0.668633  0.293459  0.043510\n",
       "Finance               -0.673303  0.325035  0.084814\n",
       "Healthcare            -0.617889  0.578339  0.019449\n",
       "Manufacturing         -0.447244  0.431358  0.060195\n",
       "Oil, Gas, and Coal    -0.617344  0.312777 -0.136099\n",
       "Other                 -0.584756  0.459846  0.052756\n",
       "Retail                -0.556325  0.378866 -0.002004\n",
       "Telecommunications    -0.589366  0.353242  0.060016\n",
       "Utilities             -0.259129  0.211912  0.093593"
      ]
     },
     "execution_count": 17,
     "metadata": {},
     "output_type": "execute_result"
    }
   ],
   "source": [
    "industries['ret'].aggregate([min, max, np.mean])"
   ]
  },
  {
   "cell_type": "markdown",
   "id": "8f216c2a-80cb-4a4b-bcee-8148f35b7a6c",
   "metadata": {},
   "source": [
    "___\n",
    "#### Small Coding Issue\n",
    "In the code here above, we have used the `DataFrame.Groupby()` operator to create an intermediate object, `industries`, and then we have used this object to perform all the others calculations. Strictly speaking **this is not necessary**, we can avoid the creation of this intermediate object by _chaining_ our calculation methods, such as `.mean()`, directly to the `DataFrame.Groupby()` operator as follows"
   ]
  },
  {
   "cell_type": "code",
   "execution_count": 18,
   "id": "ba5c9c4f-2988-4b72-902f-b66252204b5d",
   "metadata": {},
   "outputs": [
    {
     "data": {
      "text/plain": [
       "industry\n",
       "Business Equipment       197\n",
       "Chemicals                 57\n",
       "Consumer Durables         33\n",
       "Consumer non Durables     98\n",
       "Finance                  246\n",
       "Healthcare               128\n",
       "Manufacturing            197\n",
       "Oil, Gas, and Coal        72\n",
       "Other                    177\n",
       "Retail                   141\n",
       "Telecommunications        40\n",
       "Utilities                 57\n",
       "dtype: int64"
      ]
     },
     "execution_count": 18,
     "metadata": {},
     "output_type": "execute_result"
    }
   ],
   "source": [
    "shares.groupby('industry').size()"
   ]
  },
  {
   "cell_type": "code",
   "execution_count": 9,
   "id": "d0ad863c-a216-47f4-bb32-49dd1331b7ef",
   "metadata": {},
   "outputs": [
    {
     "data": {
      "text/plain": [
       "industry\n",
       "Business Equipment       1.626038\n",
       "Chemicals                1.011927\n",
       "Consumer Durables        1.402230\n",
       "Consumer non Durables    0.921691\n",
       "Finance                  0.889086\n",
       "Healthcare               1.056634\n",
       "Manufacturing            1.192749\n",
       "Oil, Gas, and Coal       1.043445\n",
       "Other                    1.115744\n",
       "Retail                   1.117096\n",
       "Telecommunications       1.324042\n",
       "Utilities                0.411085\n",
       "Name: beta, dtype: float64"
      ]
     },
     "execution_count": 9,
     "metadata": {},
     "output_type": "execute_result"
    }
   ],
   "source": [
    "shares.groupby('industry')['beta'].mean()"
   ]
  },
  {
   "cell_type": "markdown",
   "id": "ae017577",
   "metadata": {},
   "source": [
    "___\n",
    "### Exercise 5.01\n",
    "The file `tesla_month.csv` contains monthly return for Tesla (from 2010 to the end of 2020). The file also indicates the calendar month of each observation\n",
    "* Load the data in a DataFrame called `tesla_data`indexed by the column `date`\n",
    "* Show on screen the first lines of `tesla_data`"
   ]
  },
  {
   "cell_type": "code",
   "execution_count": 4,
   "id": "ed4dd36e",
   "metadata": {},
   "outputs": [
    {
     "data": {
      "text/html": [
       "<div>\n",
       "<style scoped>\n",
       "    .dataframe tbody tr th:only-of-type {\n",
       "        vertical-align: middle;\n",
       "    }\n",
       "\n",
       "    .dataframe tbody tr th {\n",
       "        vertical-align: top;\n",
       "    }\n",
       "\n",
       "    .dataframe thead th {\n",
       "        text-align: right;\n",
       "    }\n",
       "</style>\n",
       "<table border=\"1\" class=\"dataframe\">\n",
       "  <thead>\n",
       "    <tr style=\"text-align: right;\">\n",
       "      <th></th>\n",
       "      <th>month</th>\n",
       "      <th>ret</th>\n",
       "    </tr>\n",
       "    <tr>\n",
       "      <th>date</th>\n",
       "      <th></th>\n",
       "      <th></th>\n",
       "    </tr>\n",
       "  </thead>\n",
       "  <tbody>\n",
       "    <tr>\n",
       "      <th>30jul2010</th>\n",
       "      <td>7</td>\n",
       "      <td>-0.163240</td>\n",
       "    </tr>\n",
       "    <tr>\n",
       "      <th>31aug2010</th>\n",
       "      <td>8</td>\n",
       "      <td>-0.023069</td>\n",
       "    </tr>\n",
       "    <tr>\n",
       "      <th>30sep2010</th>\n",
       "      <td>9</td>\n",
       "      <td>0.047485</td>\n",
       "    </tr>\n",
       "    <tr>\n",
       "      <th>29oct2010</th>\n",
       "      <td>10</td>\n",
       "      <td>0.070326</td>\n",
       "    </tr>\n",
       "    <tr>\n",
       "      <th>30nov2010</th>\n",
       "      <td>11</td>\n",
       "      <td>0.617674</td>\n",
       "    </tr>\n",
       "  </tbody>\n",
       "</table>\n",
       "</div>"
      ],
      "text/plain": [
       "           month       ret\n",
       "date                      \n",
       "30jul2010      7 -0.163240\n",
       "31aug2010      8 -0.023069\n",
       "30sep2010      9  0.047485\n",
       "29oct2010     10  0.070326\n",
       "30nov2010     11  0.617674"
      ]
     },
     "execution_count": 4,
     "metadata": {},
     "output_type": "execute_result"
    }
   ],
   "source": [
    "tesla_data = pd.read_csv('tesla_month.csv', index_col='date')\n",
    "tesla_data.head()"
   ]
  },
  {
   "cell_type": "markdown",
   "id": "522e0c4f",
   "metadata": {},
   "source": [
    "**Group the DataFrame by calendar month** and create an object called `mean_ret` with the **annualized mean return** for every calendar month (annualize the returns by simply multiplying them by 12)."
   ]
  },
  {
   "cell_type": "code",
   "execution_count": 15,
   "id": "e156b6b7",
   "metadata": {},
   "outputs": [
    {
     "data": {
      "text/plain": [
       "month\n",
       "1     0.891550\n",
       "2     0.540444\n",
       "3    -0.132749\n",
       "4     1.355619\n",
       "5     0.873019\n",
       "6     1.279513\n",
       "7     0.141083\n",
       "8     1.077492\n",
       "9    -0.187213\n",
       "10    0.347365\n",
       "11    1.411360\n",
       "12    0.390980\n",
       "Name: ret, dtype: float64"
      ]
     },
     "execution_count": 15,
     "metadata": {},
     "output_type": "execute_result"
    }
   ],
   "source": [
    "mean_ret = tesla_data.groupby('month')['ret'].mean()\n",
    "mean_ret \n",
    "mean_ret * 12\n",
    "\n"
   ]
  },
  {
   "cell_type": "markdown",
   "id": "f004731d",
   "metadata": {},
   "source": [
    "Create an object called `std_ret` with the **annualized standard deviation** for every calendar month (annualize the standard deviation by simply multiplying them by the squred root of 12)."
   ]
  },
  {
   "cell_type": "code",
   "execution_count": 33,
   "id": "a97b8188",
   "metadata": {},
   "outputs": [
    {
     "data": {
      "text/plain": [
       "month\n",
       "1     0.750011\n",
       "2     0.420921\n",
       "3     0.562179\n",
       "4     0.728184\n",
       "5     0.969757\n",
       "6     0.376590\n",
       "7     0.559631\n",
       "8     0.859891\n",
       "9     0.296676\n",
       "10    0.576737\n",
       "11    0.821465\n",
       "12    0.556751\n",
       "Name: ret, dtype: float64"
      ]
     },
     "execution_count": 33,
     "metadata": {},
     "output_type": "execute_result"
    }
   ],
   "source": [
    "std_ret = tesla_data.groupby('month')['ret'].std()* np.sqrt(12)\n",
    "std_ret\n",
    "\n"
   ]
  },
  {
   "cell_type": "markdown",
   "id": "6420c02a",
   "metadata": {},
   "source": [
    "Using the two objects `mean_ret` and `std_ret`, calculate the Sharpe Ratio of Tesla in every calendar month assuming a risk free rate of 1%. For simplicity let's use the simple definition of Sharpe ratio:\n",
    "\n",
    "$$ S = \\frac{E[r] - rf}{\\sigma_{r}} $$"
   ]
  },
  {
   "cell_type": "code",
   "execution_count": 20,
   "id": "d8c7e481",
   "metadata": {},
   "outputs": [
    {
     "data": {
      "text/plain": [
       "month\n",
       "1     0.296966\n",
       "2     0.288348\n",
       "3    -0.129785\n",
       "4     0.489838\n",
       "5     0.224157\n",
       "6     0.888824\n",
       "7     0.010875\n",
       "8     0.321441\n",
       "9    -0.298928\n",
       "10    0.113803\n",
       "11    0.453803\n",
       "12    0.140503\n",
       "Name: ret, dtype: float64"
      ]
     },
     "execution_count": 20,
     "metadata": {},
     "output_type": "execute_result"
    }
   ],
   "source": [
    "sharpe = (mean_ret - 0.01)/std_ret \n",
    "sharpe\n"
   ]
  },
  {
   "cell_type": "markdown",
   "id": "3a1804fb",
   "metadata": {},
   "source": [
    "___\n",
    "## Part 2 - Concatenation, Joining, and Merging\n",
    "This section walks through different approaches to combine two simple data sets in the form of DataFrame objects. The two simple data sets are:"
   ]
  },
  {
   "cell_type": "code",
   "execution_count": 10,
   "id": "1c786ce2",
   "metadata": {},
   "outputs": [
    {
     "data": {
      "text/html": [
       "<div>\n",
       "<style scoped>\n",
       "    .dataframe tbody tr th:only-of-type {\n",
       "        vertical-align: middle;\n",
       "    }\n",
       "\n",
       "    .dataframe tbody tr th {\n",
       "        vertical-align: top;\n",
       "    }\n",
       "\n",
       "    .dataframe thead th {\n",
       "        text-align: right;\n",
       "    }\n",
       "</style>\n",
       "<table border=\"1\" class=\"dataframe\">\n",
       "  <thead>\n",
       "    <tr style=\"text-align: right;\">\n",
       "      <th></th>\n",
       "      <th>size</th>\n",
       "    </tr>\n",
       "    <tr>\n",
       "      <th>ticker</th>\n",
       "      <th></th>\n",
       "    </tr>\n",
       "  </thead>\n",
       "  <tbody>\n",
       "    <tr>\n",
       "      <th>AAPL</th>\n",
       "      <td>643.1201</td>\n",
       "    </tr>\n",
       "    <tr>\n",
       "      <th>XOM</th>\n",
       "      <td>391.4822</td>\n",
       "    </tr>\n",
       "    <tr>\n",
       "      <th>MSFT</th>\n",
       "      <td>381.7261</td>\n",
       "    </tr>\n",
       "    <tr>\n",
       "      <th>JNJ</th>\n",
       "      <td>292.7029</td>\n",
       "    </tr>\n",
       "    <tr>\n",
       "      <th>WFC</th>\n",
       "      <td>284.3855</td>\n",
       "    </tr>\n",
       "  </tbody>\n",
       "</table>\n",
       "</div>"
      ],
      "text/plain": [
       "            size\n",
       "ticker          \n",
       "AAPL    643.1201\n",
       "XOM     391.4822\n",
       "MSFT    381.7261\n",
       "JNJ     292.7029\n",
       "WFC     284.3855"
      ]
     },
     "execution_count": 10,
     "metadata": {},
     "output_type": "execute_result"
    }
   ],
   "source": [
    "shares_1 = pd.read_csv('shares_1.csv', index_col='ticker')\n",
    "shares_1"
   ]
  },
  {
   "cell_type": "code",
   "execution_count": 11,
   "id": "b983f10f",
   "metadata": {},
   "outputs": [
    {
     "data": {
      "text/html": [
       "<div>\n",
       "<style scoped>\n",
       "    .dataframe tbody tr th:only-of-type {\n",
       "        vertical-align: middle;\n",
       "    }\n",
       "\n",
       "    .dataframe tbody tr th {\n",
       "        vertical-align: top;\n",
       "    }\n",
       "\n",
       "    .dataframe thead th {\n",
       "        text-align: right;\n",
       "    }\n",
       "</style>\n",
       "<table border=\"1\" class=\"dataframe\">\n",
       "  <thead>\n",
       "    <tr style=\"text-align: right;\">\n",
       "      <th></th>\n",
       "      <th>beta</th>\n",
       "    </tr>\n",
       "    <tr>\n",
       "      <th>ticker</th>\n",
       "      <th></th>\n",
       "    </tr>\n",
       "  </thead>\n",
       "  <tbody>\n",
       "    <tr>\n",
       "      <th>AAPL</th>\n",
       "      <td>1.28938</td>\n",
       "    </tr>\n",
       "    <tr>\n",
       "      <th>XOM</th>\n",
       "      <td>0.49325</td>\n",
       "    </tr>\n",
       "    <tr>\n",
       "      <th>MSFT</th>\n",
       "      <td>1.19567</td>\n",
       "    </tr>\n",
       "    <tr>\n",
       "      <th>WMT</th>\n",
       "      <td>0.52437</td>\n",
       "    </tr>\n",
       "    <tr>\n",
       "      <th>GE</th>\n",
       "      <td>1.18979</td>\n",
       "    </tr>\n",
       "  </tbody>\n",
       "</table>\n",
       "</div>"
      ],
      "text/plain": [
       "           beta\n",
       "ticker         \n",
       "AAPL    1.28938\n",
       "XOM     0.49325\n",
       "MSFT    1.19567\n",
       "WMT     0.52437\n",
       "GE      1.18979"
      ]
     },
     "execution_count": 11,
     "metadata": {},
     "output_type": "execute_result"
    }
   ],
   "source": [
    "shares_2 = pd.read_csv('shares_2.csv', index_col='ticker')\n",
    "shares_2"
   ]
  },
  {
   "cell_type": "markdown",
   "id": "a7289f3c",
   "metadata": {
    "tags": []
   },
   "source": [
    "#### Concatenation\n",
    "Concatenation or appending basically means that **rows are added** from one DataFrame object to another one. This can be accomplished via the The **[`pandas.concat()`](https://pandas.pydata.org/pandas-docs/stable/reference/api/pandas.concat.html)** function."
   ]
  },
  {
   "cell_type": "code",
   "execution_count": 12,
   "id": "9d68b4ea",
   "metadata": {},
   "outputs": [
    {
     "data": {
      "text/html": [
       "<div>\n",
       "<style scoped>\n",
       "    .dataframe tbody tr th:only-of-type {\n",
       "        vertical-align: middle;\n",
       "    }\n",
       "\n",
       "    .dataframe tbody tr th {\n",
       "        vertical-align: top;\n",
       "    }\n",
       "\n",
       "    .dataframe thead th {\n",
       "        text-align: right;\n",
       "    }\n",
       "</style>\n",
       "<table border=\"1\" class=\"dataframe\">\n",
       "  <thead>\n",
       "    <tr style=\"text-align: right;\">\n",
       "      <th></th>\n",
       "      <th>size</th>\n",
       "      <th>beta</th>\n",
       "    </tr>\n",
       "    <tr>\n",
       "      <th>ticker</th>\n",
       "      <th></th>\n",
       "      <th></th>\n",
       "    </tr>\n",
       "  </thead>\n",
       "  <tbody>\n",
       "    <tr>\n",
       "      <th>AAPL</th>\n",
       "      <td>643.1201</td>\n",
       "      <td>NaN</td>\n",
       "    </tr>\n",
       "    <tr>\n",
       "      <th>XOM</th>\n",
       "      <td>391.4822</td>\n",
       "      <td>NaN</td>\n",
       "    </tr>\n",
       "    <tr>\n",
       "      <th>MSFT</th>\n",
       "      <td>381.7261</td>\n",
       "      <td>NaN</td>\n",
       "    </tr>\n",
       "    <tr>\n",
       "      <th>JNJ</th>\n",
       "      <td>292.7029</td>\n",
       "      <td>NaN</td>\n",
       "    </tr>\n",
       "    <tr>\n",
       "      <th>WFC</th>\n",
       "      <td>284.3855</td>\n",
       "      <td>NaN</td>\n",
       "    </tr>\n",
       "    <tr>\n",
       "      <th>AAPL</th>\n",
       "      <td>NaN</td>\n",
       "      <td>1.28938</td>\n",
       "    </tr>\n",
       "    <tr>\n",
       "      <th>XOM</th>\n",
       "      <td>NaN</td>\n",
       "      <td>0.49325</td>\n",
       "    </tr>\n",
       "    <tr>\n",
       "      <th>MSFT</th>\n",
       "      <td>NaN</td>\n",
       "      <td>1.19567</td>\n",
       "    </tr>\n",
       "    <tr>\n",
       "      <th>WMT</th>\n",
       "      <td>NaN</td>\n",
       "      <td>0.52437</td>\n",
       "    </tr>\n",
       "    <tr>\n",
       "      <th>GE</th>\n",
       "      <td>NaN</td>\n",
       "      <td>1.18979</td>\n",
       "    </tr>\n",
       "  </tbody>\n",
       "</table>\n",
       "</div>"
      ],
      "text/plain": [
       "            size     beta\n",
       "ticker                   \n",
       "AAPL    643.1201      NaN\n",
       "XOM     391.4822      NaN\n",
       "MSFT    381.7261      NaN\n",
       "JNJ     292.7029      NaN\n",
       "WFC     284.3855      NaN\n",
       "AAPL         NaN  1.28938\n",
       "XOM          NaN  0.49325\n",
       "MSFT         NaN  1.19567\n",
       "WMT          NaN  0.52437\n",
       "GE           NaN  1.18979"
      ]
     },
     "execution_count": 12,
     "metadata": {},
     "output_type": "execute_result"
    }
   ],
   "source": [
    "shares_concat = pd.concat((shares_1, shares_2), sort=False)\n",
    "shares_concat"
   ]
  },
  {
   "cell_type": "markdown",
   "id": "f61ec09c",
   "metadata": {},
   "source": [
    "This concatenation does not do exactly what we want. The two frames are just put one on top of the other. Sometimes this is what we are looking for, but here we end up, for example, with two different rows for `AAPL` and `MSFT` each one with only one variable present."
   ]
  },
  {
   "cell_type": "markdown",
   "id": "c5f79c97",
   "metadata": {},
   "source": [
    "#### Joining\n",
    "When joining the two data sets using the [**`DataFrame.join()`**](https://pandas.pydata.org/pandas-docs/stable/reference/api/pandas.DataFrame.join.html) method, the sequence of the DataFrame objects also matters but in a different way. **Only the index values from the first DataFrame** object are used. This default behavior is called a **left join**:"
   ]
  },
  {
   "cell_type": "code",
   "execution_count": 13,
   "id": "7a754a10",
   "metadata": {},
   "outputs": [
    {
     "data": {
      "text/html": [
       "<div>\n",
       "<style scoped>\n",
       "    .dataframe tbody tr th:only-of-type {\n",
       "        vertical-align: middle;\n",
       "    }\n",
       "\n",
       "    .dataframe tbody tr th {\n",
       "        vertical-align: top;\n",
       "    }\n",
       "\n",
       "    .dataframe thead th {\n",
       "        text-align: right;\n",
       "    }\n",
       "</style>\n",
       "<table border=\"1\" class=\"dataframe\">\n",
       "  <thead>\n",
       "    <tr style=\"text-align: right;\">\n",
       "      <th></th>\n",
       "      <th>size</th>\n",
       "      <th>beta</th>\n",
       "    </tr>\n",
       "    <tr>\n",
       "      <th>ticker</th>\n",
       "      <th></th>\n",
       "      <th></th>\n",
       "    </tr>\n",
       "  </thead>\n",
       "  <tbody>\n",
       "    <tr>\n",
       "      <th>AAPL</th>\n",
       "      <td>643.1201</td>\n",
       "      <td>1.28938</td>\n",
       "    </tr>\n",
       "    <tr>\n",
       "      <th>XOM</th>\n",
       "      <td>391.4822</td>\n",
       "      <td>0.49325</td>\n",
       "    </tr>\n",
       "    <tr>\n",
       "      <th>MSFT</th>\n",
       "      <td>381.7261</td>\n",
       "      <td>1.19567</td>\n",
       "    </tr>\n",
       "    <tr>\n",
       "      <th>JNJ</th>\n",
       "      <td>292.7029</td>\n",
       "      <td>NaN</td>\n",
       "    </tr>\n",
       "    <tr>\n",
       "      <th>WFC</th>\n",
       "      <td>284.3855</td>\n",
       "      <td>NaN</td>\n",
       "    </tr>\n",
       "  </tbody>\n",
       "</table>\n",
       "</div>"
      ],
      "text/plain": [
       "            size     beta\n",
       "ticker                   \n",
       "AAPL    643.1201  1.28938\n",
       "XOM     391.4822  0.49325\n",
       "MSFT    381.7261  1.19567\n",
       "JNJ     292.7029      NaN\n",
       "WFC     284.3855      NaN"
      ]
     },
     "execution_count": 13,
     "metadata": {},
     "output_type": "execute_result"
    }
   ],
   "source": [
    "shares_joined = shares_1.join(shares_2)\n",
    "shares_joined"
   ]
  },
  {
   "cell_type": "markdown",
   "id": "f06e85f5",
   "metadata": {},
   "source": [
    "As you can see `shares_1` **is on the left** and thus has control of the joining. Only the index items from this DataFrame are used. If we change the order we will get a different result."
   ]
  },
  {
   "cell_type": "code",
   "execution_count": 14,
   "id": "ff31aee1",
   "metadata": {},
   "outputs": [
    {
     "data": {
      "text/html": [
       "<div>\n",
       "<style scoped>\n",
       "    .dataframe tbody tr th:only-of-type {\n",
       "        vertical-align: middle;\n",
       "    }\n",
       "\n",
       "    .dataframe tbody tr th {\n",
       "        vertical-align: top;\n",
       "    }\n",
       "\n",
       "    .dataframe thead th {\n",
       "        text-align: right;\n",
       "    }\n",
       "</style>\n",
       "<table border=\"1\" class=\"dataframe\">\n",
       "  <thead>\n",
       "    <tr style=\"text-align: right;\">\n",
       "      <th></th>\n",
       "      <th>beta</th>\n",
       "      <th>size</th>\n",
       "    </tr>\n",
       "    <tr>\n",
       "      <th>ticker</th>\n",
       "      <th></th>\n",
       "      <th></th>\n",
       "    </tr>\n",
       "  </thead>\n",
       "  <tbody>\n",
       "    <tr>\n",
       "      <th>AAPL</th>\n",
       "      <td>1.28938</td>\n",
       "      <td>643.1201</td>\n",
       "    </tr>\n",
       "    <tr>\n",
       "      <th>XOM</th>\n",
       "      <td>0.49325</td>\n",
       "      <td>391.4822</td>\n",
       "    </tr>\n",
       "    <tr>\n",
       "      <th>MSFT</th>\n",
       "      <td>1.19567</td>\n",
       "      <td>381.7261</td>\n",
       "    </tr>\n",
       "    <tr>\n",
       "      <th>WMT</th>\n",
       "      <td>0.52437</td>\n",
       "      <td>NaN</td>\n",
       "    </tr>\n",
       "    <tr>\n",
       "      <th>GE</th>\n",
       "      <td>1.18979</td>\n",
       "      <td>NaN</td>\n",
       "    </tr>\n",
       "  </tbody>\n",
       "</table>\n",
       "</div>"
      ],
      "text/plain": [
       "           beta      size\n",
       "ticker                   \n",
       "AAPL    1.28938  643.1201\n",
       "XOM     0.49325  391.4822\n",
       "MSFT    1.19567  381.7261\n",
       "WMT     0.52437       NaN\n",
       "GE      1.18979       NaN"
      ]
     },
     "execution_count": 14,
     "metadata": {},
     "output_type": "execute_result"
    }
   ],
   "source": [
    "shares_joined = shares_2.join(shares_1)\n",
    "shares_joined"
   ]
  },
  {
   "cell_type": "markdown",
   "id": "76dc8ca1",
   "metadata": {},
   "source": [
    "There are a total of four different join methods available, each leading to a different behavior with regard to how index values and the corresponding data rows are handled. The default one is the **left join** where the DataFrame \"on the left\" decides which index items are retained:"
   ]
  },
  {
   "cell_type": "code",
   "execution_count": 15,
   "id": "d1627c48",
   "metadata": {},
   "outputs": [
    {
     "data": {
      "text/html": [
       "<div>\n",
       "<style scoped>\n",
       "    .dataframe tbody tr th:only-of-type {\n",
       "        vertical-align: middle;\n",
       "    }\n",
       "\n",
       "    .dataframe tbody tr th {\n",
       "        vertical-align: top;\n",
       "    }\n",
       "\n",
       "    .dataframe thead th {\n",
       "        text-align: right;\n",
       "    }\n",
       "</style>\n",
       "<table border=\"1\" class=\"dataframe\">\n",
       "  <thead>\n",
       "    <tr style=\"text-align: right;\">\n",
       "      <th></th>\n",
       "      <th>size</th>\n",
       "      <th>beta</th>\n",
       "    </tr>\n",
       "    <tr>\n",
       "      <th>ticker</th>\n",
       "      <th></th>\n",
       "      <th></th>\n",
       "    </tr>\n",
       "  </thead>\n",
       "  <tbody>\n",
       "    <tr>\n",
       "      <th>AAPL</th>\n",
       "      <td>643.1201</td>\n",
       "      <td>1.28938</td>\n",
       "    </tr>\n",
       "    <tr>\n",
       "      <th>XOM</th>\n",
       "      <td>391.4822</td>\n",
       "      <td>0.49325</td>\n",
       "    </tr>\n",
       "    <tr>\n",
       "      <th>MSFT</th>\n",
       "      <td>381.7261</td>\n",
       "      <td>1.19567</td>\n",
       "    </tr>\n",
       "    <tr>\n",
       "      <th>JNJ</th>\n",
       "      <td>292.7029</td>\n",
       "      <td>NaN</td>\n",
       "    </tr>\n",
       "    <tr>\n",
       "      <th>WFC</th>\n",
       "      <td>284.3855</td>\n",
       "      <td>NaN</td>\n",
       "    </tr>\n",
       "  </tbody>\n",
       "</table>\n",
       "</div>"
      ],
      "text/plain": [
       "            size     beta\n",
       "ticker                   \n",
       "AAPL    643.1201  1.28938\n",
       "XOM     391.4822  0.49325\n",
       "MSFT    381.7261  1.19567\n",
       "JNJ     292.7029      NaN\n",
       "WFC     284.3855      NaN"
      ]
     },
     "execution_count": 15,
     "metadata": {},
     "output_type": "execute_result"
    }
   ],
   "source": [
    "shares_joined = shares_1.join(shares_2, how='left')\n",
    "shares_joined"
   ]
  },
  {
   "cell_type": "markdown",
   "id": "12d1c64a",
   "metadata": {},
   "source": [
    "With a **right join** we can give control to the DataFrame on the right without having to change the order:"
   ]
  },
  {
   "cell_type": "code",
   "execution_count": 16,
   "id": "fb4f539c",
   "metadata": {},
   "outputs": [
    {
     "data": {
      "text/html": [
       "<div>\n",
       "<style scoped>\n",
       "    .dataframe tbody tr th:only-of-type {\n",
       "        vertical-align: middle;\n",
       "    }\n",
       "\n",
       "    .dataframe tbody tr th {\n",
       "        vertical-align: top;\n",
       "    }\n",
       "\n",
       "    .dataframe thead th {\n",
       "        text-align: right;\n",
       "    }\n",
       "</style>\n",
       "<table border=\"1\" class=\"dataframe\">\n",
       "  <thead>\n",
       "    <tr style=\"text-align: right;\">\n",
       "      <th></th>\n",
       "      <th>size</th>\n",
       "      <th>beta</th>\n",
       "    </tr>\n",
       "    <tr>\n",
       "      <th>ticker</th>\n",
       "      <th></th>\n",
       "      <th></th>\n",
       "    </tr>\n",
       "  </thead>\n",
       "  <tbody>\n",
       "    <tr>\n",
       "      <th>AAPL</th>\n",
       "      <td>643.1201</td>\n",
       "      <td>1.28938</td>\n",
       "    </tr>\n",
       "    <tr>\n",
       "      <th>XOM</th>\n",
       "      <td>391.4822</td>\n",
       "      <td>0.49325</td>\n",
       "    </tr>\n",
       "    <tr>\n",
       "      <th>MSFT</th>\n",
       "      <td>381.7261</td>\n",
       "      <td>1.19567</td>\n",
       "    </tr>\n",
       "    <tr>\n",
       "      <th>WMT</th>\n",
       "      <td>NaN</td>\n",
       "      <td>0.52437</td>\n",
       "    </tr>\n",
       "    <tr>\n",
       "      <th>GE</th>\n",
       "      <td>NaN</td>\n",
       "      <td>1.18979</td>\n",
       "    </tr>\n",
       "  </tbody>\n",
       "</table>\n",
       "</div>"
      ],
      "text/plain": [
       "            size     beta\n",
       "ticker                   \n",
       "AAPL    643.1201  1.28938\n",
       "XOM     391.4822  0.49325\n",
       "MSFT    381.7261  1.19567\n",
       "WMT          NaN  0.52437\n",
       "GE           NaN  1.18979"
      ]
     },
     "execution_count": 16,
     "metadata": {},
     "output_type": "execute_result"
    }
   ],
   "source": [
    "shares_joined = shares_1.join(shares_2, how='right')\n",
    "shares_joined"
   ]
  },
  {
   "cell_type": "markdown",
   "id": "48718485",
   "metadata": {},
   "source": [
    "With an **inner join** only the intersection of the two frames is retained, the items that appear in both:"
   ]
  },
  {
   "cell_type": "code",
   "execution_count": 17,
   "id": "5e5c2eaa",
   "metadata": {},
   "outputs": [
    {
     "data": {
      "text/html": [
       "<div>\n",
       "<style scoped>\n",
       "    .dataframe tbody tr th:only-of-type {\n",
       "        vertical-align: middle;\n",
       "    }\n",
       "\n",
       "    .dataframe tbody tr th {\n",
       "        vertical-align: top;\n",
       "    }\n",
       "\n",
       "    .dataframe thead th {\n",
       "        text-align: right;\n",
       "    }\n",
       "</style>\n",
       "<table border=\"1\" class=\"dataframe\">\n",
       "  <thead>\n",
       "    <tr style=\"text-align: right;\">\n",
       "      <th></th>\n",
       "      <th>size</th>\n",
       "      <th>beta</th>\n",
       "    </tr>\n",
       "    <tr>\n",
       "      <th>ticker</th>\n",
       "      <th></th>\n",
       "      <th></th>\n",
       "    </tr>\n",
       "  </thead>\n",
       "  <tbody>\n",
       "    <tr>\n",
       "      <th>AAPL</th>\n",
       "      <td>643.1201</td>\n",
       "      <td>1.28938</td>\n",
       "    </tr>\n",
       "    <tr>\n",
       "      <th>XOM</th>\n",
       "      <td>391.4822</td>\n",
       "      <td>0.49325</td>\n",
       "    </tr>\n",
       "    <tr>\n",
       "      <th>MSFT</th>\n",
       "      <td>381.7261</td>\n",
       "      <td>1.19567</td>\n",
       "    </tr>\n",
       "  </tbody>\n",
       "</table>\n",
       "</div>"
      ],
      "text/plain": [
       "            size     beta\n",
       "ticker                   \n",
       "AAPL    643.1201  1.28938\n",
       "XOM     391.4822  0.49325\n",
       "MSFT    381.7261  1.19567"
      ]
     },
     "execution_count": 17,
     "metadata": {},
     "output_type": "execute_result"
    }
   ],
   "source": [
    "shares_joined = shares_1.join(shares_2, how='inner')\n",
    "shares_joined"
   ]
  },
  {
   "cell_type": "markdown",
   "id": "0059c884",
   "metadata": {},
   "source": [
    "Finally, with an **outer join** all the items from both DataFrames are retained and combined:"
   ]
  },
  {
   "cell_type": "code",
   "execution_count": 18,
   "id": "6ef2b9e2",
   "metadata": {},
   "outputs": [
    {
     "data": {
      "text/html": [
       "<div>\n",
       "<style scoped>\n",
       "    .dataframe tbody tr th:only-of-type {\n",
       "        vertical-align: middle;\n",
       "    }\n",
       "\n",
       "    .dataframe tbody tr th {\n",
       "        vertical-align: top;\n",
       "    }\n",
       "\n",
       "    .dataframe thead th {\n",
       "        text-align: right;\n",
       "    }\n",
       "</style>\n",
       "<table border=\"1\" class=\"dataframe\">\n",
       "  <thead>\n",
       "    <tr style=\"text-align: right;\">\n",
       "      <th></th>\n",
       "      <th>size</th>\n",
       "      <th>beta</th>\n",
       "    </tr>\n",
       "    <tr>\n",
       "      <th>ticker</th>\n",
       "      <th></th>\n",
       "      <th></th>\n",
       "    </tr>\n",
       "  </thead>\n",
       "  <tbody>\n",
       "    <tr>\n",
       "      <th>AAPL</th>\n",
       "      <td>643.1201</td>\n",
       "      <td>1.28938</td>\n",
       "    </tr>\n",
       "    <tr>\n",
       "      <th>GE</th>\n",
       "      <td>NaN</td>\n",
       "      <td>1.18979</td>\n",
       "    </tr>\n",
       "    <tr>\n",
       "      <th>JNJ</th>\n",
       "      <td>292.7029</td>\n",
       "      <td>NaN</td>\n",
       "    </tr>\n",
       "    <tr>\n",
       "      <th>MSFT</th>\n",
       "      <td>381.7261</td>\n",
       "      <td>1.19567</td>\n",
       "    </tr>\n",
       "    <tr>\n",
       "      <th>WFC</th>\n",
       "      <td>284.3855</td>\n",
       "      <td>NaN</td>\n",
       "    </tr>\n",
       "    <tr>\n",
       "      <th>WMT</th>\n",
       "      <td>NaN</td>\n",
       "      <td>0.52437</td>\n",
       "    </tr>\n",
       "    <tr>\n",
       "      <th>XOM</th>\n",
       "      <td>391.4822</td>\n",
       "      <td>0.49325</td>\n",
       "    </tr>\n",
       "  </tbody>\n",
       "</table>\n",
       "</div>"
      ],
      "text/plain": [
       "            size     beta\n",
       "ticker                   \n",
       "AAPL    643.1201  1.28938\n",
       "GE           NaN  1.18979\n",
       "JNJ     292.7029      NaN\n",
       "MSFT    381.7261  1.19567\n",
       "WFC     284.3855      NaN\n",
       "WMT          NaN  0.52437\n",
       "XOM     391.4822  0.49325"
      ]
     },
     "execution_count": 18,
     "metadata": {},
     "output_type": "execute_result"
    }
   ],
   "source": [
    "shares_joined = shares_1.join(shares_2, how='outer')\n",
    "shares_joined"
   ]
  },
  {
   "cell_type": "markdown",
   "id": "02d991e8",
   "metadata": {},
   "source": [
    "#### Merging\n",
    "While a **join** operation takes place based **on the indices** of the DataFrame objects to be joined, a **merge** operation typically takes place **on a column shared** between the two data sets using the funcion [**`pandas.merge()`**](https://pandas.pydata.org/pandas-docs/stable/reference/api/pandas.merge.html). To this end, let's load the data again, this time we keep the ticker as an additional column:"
   ]
  },
  {
   "cell_type": "code",
   "execution_count": 19,
   "id": "f7d6b2fd",
   "metadata": {},
   "outputs": [
    {
     "data": {
      "text/html": [
       "<div>\n",
       "<style scoped>\n",
       "    .dataframe tbody tr th:only-of-type {\n",
       "        vertical-align: middle;\n",
       "    }\n",
       "\n",
       "    .dataframe tbody tr th {\n",
       "        vertical-align: top;\n",
       "    }\n",
       "\n",
       "    .dataframe thead th {\n",
       "        text-align: right;\n",
       "    }\n",
       "</style>\n",
       "<table border=\"1\" class=\"dataframe\">\n",
       "  <thead>\n",
       "    <tr style=\"text-align: right;\">\n",
       "      <th></th>\n",
       "      <th>ticker</th>\n",
       "      <th>size</th>\n",
       "    </tr>\n",
       "  </thead>\n",
       "  <tbody>\n",
       "    <tr>\n",
       "      <th>0</th>\n",
       "      <td>AAPL</td>\n",
       "      <td>643.1201</td>\n",
       "    </tr>\n",
       "    <tr>\n",
       "      <th>1</th>\n",
       "      <td>XOM</td>\n",
       "      <td>391.4822</td>\n",
       "    </tr>\n",
       "    <tr>\n",
       "      <th>2</th>\n",
       "      <td>MSFT</td>\n",
       "      <td>381.7261</td>\n",
       "    </tr>\n",
       "    <tr>\n",
       "      <th>3</th>\n",
       "      <td>JNJ</td>\n",
       "      <td>292.7029</td>\n",
       "    </tr>\n",
       "    <tr>\n",
       "      <th>4</th>\n",
       "      <td>WFC</td>\n",
       "      <td>284.3855</td>\n",
       "    </tr>\n",
       "  </tbody>\n",
       "</table>\n",
       "</div>"
      ],
      "text/plain": [
       "  ticker      size\n",
       "0   AAPL  643.1201\n",
       "1    XOM  391.4822\n",
       "2   MSFT  381.7261\n",
       "3    JNJ  292.7029\n",
       "4    WFC  284.3855"
      ]
     },
     "execution_count": 19,
     "metadata": {},
     "output_type": "execute_result"
    }
   ],
   "source": [
    "shares_1b = pd.read_csv('shares_1.csv')\n",
    "shares_1b"
   ]
  },
  {
   "cell_type": "code",
   "execution_count": 20,
   "id": "052f3abd",
   "metadata": {},
   "outputs": [
    {
     "data": {
      "text/html": [
       "<div>\n",
       "<style scoped>\n",
       "    .dataframe tbody tr th:only-of-type {\n",
       "        vertical-align: middle;\n",
       "    }\n",
       "\n",
       "    .dataframe tbody tr th {\n",
       "        vertical-align: top;\n",
       "    }\n",
       "\n",
       "    .dataframe thead th {\n",
       "        text-align: right;\n",
       "    }\n",
       "</style>\n",
       "<table border=\"1\" class=\"dataframe\">\n",
       "  <thead>\n",
       "    <tr style=\"text-align: right;\">\n",
       "      <th></th>\n",
       "      <th>ticker</th>\n",
       "      <th>beta</th>\n",
       "    </tr>\n",
       "  </thead>\n",
       "  <tbody>\n",
       "    <tr>\n",
       "      <th>0</th>\n",
       "      <td>AAPL</td>\n",
       "      <td>1.28938</td>\n",
       "    </tr>\n",
       "    <tr>\n",
       "      <th>1</th>\n",
       "      <td>XOM</td>\n",
       "      <td>0.49325</td>\n",
       "    </tr>\n",
       "    <tr>\n",
       "      <th>2</th>\n",
       "      <td>MSFT</td>\n",
       "      <td>1.19567</td>\n",
       "    </tr>\n",
       "    <tr>\n",
       "      <th>3</th>\n",
       "      <td>WMT</td>\n",
       "      <td>0.52437</td>\n",
       "    </tr>\n",
       "    <tr>\n",
       "      <th>4</th>\n",
       "      <td>GE</td>\n",
       "      <td>1.18979</td>\n",
       "    </tr>\n",
       "  </tbody>\n",
       "</table>\n",
       "</div>"
      ],
      "text/plain": [
       "  ticker     beta\n",
       "0   AAPL  1.28938\n",
       "1    XOM  0.49325\n",
       "2   MSFT  1.19567\n",
       "3    WMT  0.52437\n",
       "4     GE  1.18979"
      ]
     },
     "execution_count": 20,
     "metadata": {},
     "output_type": "execute_result"
    }
   ],
   "source": [
    "shares_2b = pd.read_csv('shares_2.csv')\n",
    "shares_2b"
   ]
  },
  {
   "cell_type": "markdown",
   "id": "ceab53a5",
   "metadata": {},
   "source": [
    "By default, the merge operation takes place based **on all the columns that share the same name** in the two DataFrames."
   ]
  },
  {
   "cell_type": "code",
   "execution_count": 21,
   "id": "d9aca761",
   "metadata": {},
   "outputs": [
    {
     "data": {
      "text/html": [
       "<div>\n",
       "<style scoped>\n",
       "    .dataframe tbody tr th:only-of-type {\n",
       "        vertical-align: middle;\n",
       "    }\n",
       "\n",
       "    .dataframe tbody tr th {\n",
       "        vertical-align: top;\n",
       "    }\n",
       "\n",
       "    .dataframe thead th {\n",
       "        text-align: right;\n",
       "    }\n",
       "</style>\n",
       "<table border=\"1\" class=\"dataframe\">\n",
       "  <thead>\n",
       "    <tr style=\"text-align: right;\">\n",
       "      <th></th>\n",
       "      <th>ticker</th>\n",
       "      <th>size</th>\n",
       "      <th>beta</th>\n",
       "    </tr>\n",
       "  </thead>\n",
       "  <tbody>\n",
       "    <tr>\n",
       "      <th>0</th>\n",
       "      <td>AAPL</td>\n",
       "      <td>643.1201</td>\n",
       "      <td>1.28938</td>\n",
       "    </tr>\n",
       "    <tr>\n",
       "      <th>1</th>\n",
       "      <td>XOM</td>\n",
       "      <td>391.4822</td>\n",
       "      <td>0.49325</td>\n",
       "    </tr>\n",
       "    <tr>\n",
       "      <th>2</th>\n",
       "      <td>MSFT</td>\n",
       "      <td>381.7261</td>\n",
       "      <td>1.19567</td>\n",
       "    </tr>\n",
       "  </tbody>\n",
       "</table>\n",
       "</div>"
      ],
      "text/plain": [
       "  ticker      size     beta\n",
       "0   AAPL  643.1201  1.28938\n",
       "1    XOM  391.4822  0.49325\n",
       "2   MSFT  381.7261  1.19567"
      ]
     },
     "execution_count": 21,
     "metadata": {},
     "output_type": "execute_result"
    }
   ],
   "source": [
    "shares_merged = pd.merge(shares_1b,shares_2b)\n",
    "shares_merged"
   ]
  },
  {
   "cell_type": "markdown",
   "id": "08d5f315",
   "metadata": {},
   "source": [
    "If we have multiple common columns but want to merge on a specific one, **we can specify** the merging column(s)"
   ]
  },
  {
   "cell_type": "code",
   "execution_count": 22,
   "id": "4a793d1c",
   "metadata": {},
   "outputs": [
    {
     "data": {
      "text/html": [
       "<div>\n",
       "<style scoped>\n",
       "    .dataframe tbody tr th:only-of-type {\n",
       "        vertical-align: middle;\n",
       "    }\n",
       "\n",
       "    .dataframe tbody tr th {\n",
       "        vertical-align: top;\n",
       "    }\n",
       "\n",
       "    .dataframe thead th {\n",
       "        text-align: right;\n",
       "    }\n",
       "</style>\n",
       "<table border=\"1\" class=\"dataframe\">\n",
       "  <thead>\n",
       "    <tr style=\"text-align: right;\">\n",
       "      <th></th>\n",
       "      <th>ticker</th>\n",
       "      <th>size</th>\n",
       "      <th>beta</th>\n",
       "    </tr>\n",
       "  </thead>\n",
       "  <tbody>\n",
       "    <tr>\n",
       "      <th>0</th>\n",
       "      <td>AAPL</td>\n",
       "      <td>643.1201</td>\n",
       "      <td>1.28938</td>\n",
       "    </tr>\n",
       "    <tr>\n",
       "      <th>1</th>\n",
       "      <td>XOM</td>\n",
       "      <td>391.4822</td>\n",
       "      <td>0.49325</td>\n",
       "    </tr>\n",
       "    <tr>\n",
       "      <th>2</th>\n",
       "      <td>MSFT</td>\n",
       "      <td>381.7261</td>\n",
       "      <td>1.19567</td>\n",
       "    </tr>\n",
       "  </tbody>\n",
       "</table>\n",
       "</div>"
      ],
      "text/plain": [
       "  ticker      size     beta\n",
       "0   AAPL  643.1201  1.28938\n",
       "1    XOM  391.4822  0.49325\n",
       "2   MSFT  381.7261  1.19567"
      ]
     },
     "execution_count": 22,
     "metadata": {},
     "output_type": "execute_result"
    }
   ],
   "source": [
    "shares_merged = pd.merge(shares_1b,shares_2b, on='ticker')\n",
    "shares_merged"
   ]
  },
  {
   "cell_type": "markdown",
   "id": "54489623",
   "metadata": {},
   "source": [
    "The merging column(s) **do not have to have the same name** in the two DataFrames"
   ]
  },
  {
   "cell_type": "code",
   "execution_count": 23,
   "id": "0f92e844",
   "metadata": {},
   "outputs": [
    {
     "data": {
      "text/html": [
       "<div>\n",
       "<style scoped>\n",
       "    .dataframe tbody tr th:only-of-type {\n",
       "        vertical-align: middle;\n",
       "    }\n",
       "\n",
       "    .dataframe tbody tr th {\n",
       "        vertical-align: top;\n",
       "    }\n",
       "\n",
       "    .dataframe thead th {\n",
       "        text-align: right;\n",
       "    }\n",
       "</style>\n",
       "<table border=\"1\" class=\"dataframe\">\n",
       "  <thead>\n",
       "    <tr style=\"text-align: right;\">\n",
       "      <th></th>\n",
       "      <th>ticker</th>\n",
       "      <th>size</th>\n",
       "      <th>beta</th>\n",
       "    </tr>\n",
       "  </thead>\n",
       "  <tbody>\n",
       "    <tr>\n",
       "      <th>0</th>\n",
       "      <td>AAPL</td>\n",
       "      <td>643.1201</td>\n",
       "      <td>1.28938</td>\n",
       "    </tr>\n",
       "    <tr>\n",
       "      <th>1</th>\n",
       "      <td>XOM</td>\n",
       "      <td>391.4822</td>\n",
       "      <td>0.49325</td>\n",
       "    </tr>\n",
       "    <tr>\n",
       "      <th>2</th>\n",
       "      <td>MSFT</td>\n",
       "      <td>381.7261</td>\n",
       "      <td>1.19567</td>\n",
       "    </tr>\n",
       "  </tbody>\n",
       "</table>\n",
       "</div>"
      ],
      "text/plain": [
       "  ticker      size     beta\n",
       "0   AAPL  643.1201  1.28938\n",
       "1    XOM  391.4822  0.49325\n",
       "2   MSFT  381.7261  1.19567"
      ]
     },
     "execution_count": 23,
     "metadata": {},
     "output_type": "execute_result"
    }
   ],
   "source": [
    "shares_merged = pd.merge(shares_1b,shares_2b, left_on='ticker', right_on='ticker')\n",
    "shares_merged"
   ]
  },
  {
   "cell_type": "markdown",
   "id": "d50dbc46",
   "metadata": {},
   "source": [
    "We can finally also specify whether the merger should be **left, right, outer or inner,** with the latter being the default."
   ]
  },
  {
   "cell_type": "code",
   "execution_count": 24,
   "id": "e3966910",
   "metadata": {},
   "outputs": [
    {
     "data": {
      "text/html": [
       "<div>\n",
       "<style scoped>\n",
       "    .dataframe tbody tr th:only-of-type {\n",
       "        vertical-align: middle;\n",
       "    }\n",
       "\n",
       "    .dataframe tbody tr th {\n",
       "        vertical-align: top;\n",
       "    }\n",
       "\n",
       "    .dataframe thead th {\n",
       "        text-align: right;\n",
       "    }\n",
       "</style>\n",
       "<table border=\"1\" class=\"dataframe\">\n",
       "  <thead>\n",
       "    <tr style=\"text-align: right;\">\n",
       "      <th></th>\n",
       "      <th>ticker</th>\n",
       "      <th>size</th>\n",
       "      <th>beta</th>\n",
       "    </tr>\n",
       "  </thead>\n",
       "  <tbody>\n",
       "    <tr>\n",
       "      <th>0</th>\n",
       "      <td>AAPL</td>\n",
       "      <td>643.1201</td>\n",
       "      <td>1.28938</td>\n",
       "    </tr>\n",
       "    <tr>\n",
       "      <th>1</th>\n",
       "      <td>XOM</td>\n",
       "      <td>391.4822</td>\n",
       "      <td>0.49325</td>\n",
       "    </tr>\n",
       "    <tr>\n",
       "      <th>2</th>\n",
       "      <td>MSFT</td>\n",
       "      <td>381.7261</td>\n",
       "      <td>1.19567</td>\n",
       "    </tr>\n",
       "    <tr>\n",
       "      <th>3</th>\n",
       "      <td>JNJ</td>\n",
       "      <td>292.7029</td>\n",
       "      <td>NaN</td>\n",
       "    </tr>\n",
       "    <tr>\n",
       "      <th>4</th>\n",
       "      <td>WFC</td>\n",
       "      <td>284.3855</td>\n",
       "      <td>NaN</td>\n",
       "    </tr>\n",
       "    <tr>\n",
       "      <th>5</th>\n",
       "      <td>WMT</td>\n",
       "      <td>NaN</td>\n",
       "      <td>0.52437</td>\n",
       "    </tr>\n",
       "    <tr>\n",
       "      <th>6</th>\n",
       "      <td>GE</td>\n",
       "      <td>NaN</td>\n",
       "      <td>1.18979</td>\n",
       "    </tr>\n",
       "  </tbody>\n",
       "</table>\n",
       "</div>"
      ],
      "text/plain": [
       "  ticker      size     beta\n",
       "0   AAPL  643.1201  1.28938\n",
       "1    XOM  391.4822  0.49325\n",
       "2   MSFT  381.7261  1.19567\n",
       "3    JNJ  292.7029      NaN\n",
       "4    WFC  284.3855      NaN\n",
       "5    WMT       NaN  0.52437\n",
       "6     GE       NaN  1.18979"
      ]
     },
     "execution_count": 24,
     "metadata": {},
     "output_type": "execute_result"
    }
   ],
   "source": [
    "shares_merged = pd.merge(shares_1b,shares_2b, on='ticker', how='outer')\n",
    "shares_merged"
   ]
  },
  {
   "cell_type": "markdown",
   "id": "3cada60d",
   "metadata": {},
   "source": [
    "___\n",
    "### Exercise 5.02\n",
    "The file `tesla_ret.csv` contains monthly returns for Tesla, while `tesla_vol.csv` contains monthly trading volumes. Load these files into two DataFrames (`tesla_ret` and `tesla_vol`). Both DataFrames should be indexed by the column `time`."
   ]
  },
  {
   "cell_type": "code",
   "execution_count": 42,
   "id": "006e0ef4",
   "metadata": {},
   "outputs": [
    {
     "data": {
      "text/html": [
       "<div>\n",
       "<style scoped>\n",
       "    .dataframe tbody tr th:only-of-type {\n",
       "        vertical-align: middle;\n",
       "    }\n",
       "\n",
       "    .dataframe tbody tr th {\n",
       "        vertical-align: top;\n",
       "    }\n",
       "\n",
       "    .dataframe thead th {\n",
       "        text-align: right;\n",
       "    }\n",
       "</style>\n",
       "<table border=\"1\" class=\"dataframe\">\n",
       "  <thead>\n",
       "    <tr style=\"text-align: right;\">\n",
       "      <th></th>\n",
       "      <th>month</th>\n",
       "      <th>ret</th>\n",
       "      <th>volume</th>\n",
       "    </tr>\n",
       "    <tr>\n",
       "      <th>time</th>\n",
       "      <th></th>\n",
       "      <th></th>\n",
       "      <th></th>\n",
       "    </tr>\n",
       "  </thead>\n",
       "  <tbody>\n",
       "    <tr>\n",
       "      <th>30jul2010</th>\n",
       "      <td>7</td>\n",
       "      <td>-0.163240</td>\n",
       "      <td>NaN</td>\n",
       "    </tr>\n",
       "    <tr>\n",
       "      <th>31aug2010</th>\n",
       "      <td>8</td>\n",
       "      <td>-0.023069</td>\n",
       "      <td>NaN</td>\n",
       "    </tr>\n",
       "    <tr>\n",
       "      <th>30sep2010</th>\n",
       "      <td>9</td>\n",
       "      <td>0.047485</td>\n",
       "      <td>NaN</td>\n",
       "    </tr>\n",
       "    <tr>\n",
       "      <th>29oct2010</th>\n",
       "      <td>10</td>\n",
       "      <td>0.070326</td>\n",
       "      <td>NaN</td>\n",
       "    </tr>\n",
       "    <tr>\n",
       "      <th>30nov2010</th>\n",
       "      <td>11</td>\n",
       "      <td>0.617674</td>\n",
       "      <td>NaN</td>\n",
       "    </tr>\n",
       "    <tr>\n",
       "      <th>...</th>\n",
       "      <td>...</td>\n",
       "      <td>...</td>\n",
       "      <td>...</td>\n",
       "    </tr>\n",
       "    <tr>\n",
       "      <th>31aug2020</th>\n",
       "      <td>8</td>\n",
       "      <td>NaN</td>\n",
       "      <td>4051970.0</td>\n",
       "    </tr>\n",
       "    <tr>\n",
       "      <th>30sep2020</th>\n",
       "      <td>9</td>\n",
       "      <td>NaN</td>\n",
       "      <td>17331954.0</td>\n",
       "    </tr>\n",
       "    <tr>\n",
       "      <th>30oct2020</th>\n",
       "      <td>10</td>\n",
       "      <td>NaN</td>\n",
       "      <td>8330610.0</td>\n",
       "    </tr>\n",
       "    <tr>\n",
       "      <th>30nov2020</th>\n",
       "      <td>11</td>\n",
       "      <td>NaN</td>\n",
       "      <td>7811501.0</td>\n",
       "    </tr>\n",
       "    <tr>\n",
       "      <th>31dec2020</th>\n",
       "      <td>12</td>\n",
       "      <td>NaN</td>\n",
       "      <td>11962716.0</td>\n",
       "    </tr>\n",
       "  </tbody>\n",
       "</table>\n",
       "<p>252 rows × 3 columns</p>\n",
       "</div>"
      ],
      "text/plain": [
       "           month       ret      volume\n",
       "time                                  \n",
       "30jul2010      7 -0.163240         NaN\n",
       "31aug2010      8 -0.023069         NaN\n",
       "30sep2010      9  0.047485         NaN\n",
       "29oct2010     10  0.070326         NaN\n",
       "30nov2010     11  0.617674         NaN\n",
       "...          ...       ...         ...\n",
       "31aug2020      8       NaN   4051970.0\n",
       "30sep2020      9       NaN  17331954.0\n",
       "30oct2020     10       NaN   8330610.0\n",
       "30nov2020     11       NaN   7811501.0\n",
       "31dec2020     12       NaN  11962716.0\n",
       "\n",
       "[252 rows x 3 columns]"
      ]
     },
     "execution_count": 42,
     "metadata": {},
     "output_type": "execute_result"
    }
   ],
   "source": [
    "tesla_1 = pd.read_csv('tesla_ret.csv', index_col='time')\n",
    "tesla_1\n",
    "\n",
    "tesla_2 = pd.read_csv('tesla_vol.csv', index_col='time')\n",
    "tesla_2\n",
    "\n",
    "tesla_concat = pd.concat((tesla_1, tesla_2), sort=False)\n",
    "tesla_concat\n",
    "\n"
   ]
  },
  {
   "cell_type": "markdown",
   "id": "a9762e33",
   "metadata": {},
   "source": [
    "Create a DataFrame `tesla` by **joining** `tesla_ret` and `tesla_vol`. \n",
    "\n",
    "**WARNING:** while [**`DataFrame.join()`**](https://pandas.pydata.org/pandas-docs/stable/reference/api/pandas.DataFrame.join.html) is perfectly appropriate here (we want to match observations on the date variable contained in the index) there is one additional complication: the two DataFrames have a column with the same name... This will create an error in the simple joining function because **the resulting DataFrame would have two columns with the same name** and this is not allowed! To solve this issue look at the help page for [**`DataFrame.join()`**](https://pandas.pydata.org/pandas-docs/stable/reference/api/pandas.DataFrame.join.html) at the `lsuffix` and `rsuffix` parameters."
   ]
  },
  {
   "cell_type": "code",
   "execution_count": 49,
   "id": "aab565e9",
   "metadata": {},
   "outputs": [
    {
     "data": {
      "text/html": [
       "<div>\n",
       "<style scoped>\n",
       "    .dataframe tbody tr th:only-of-type {\n",
       "        vertical-align: middle;\n",
       "    }\n",
       "\n",
       "    .dataframe tbody tr th {\n",
       "        vertical-align: top;\n",
       "    }\n",
       "\n",
       "    .dataframe thead th {\n",
       "        text-align: right;\n",
       "    }\n",
       "</style>\n",
       "<table border=\"1\" class=\"dataframe\">\n",
       "  <thead>\n",
       "    <tr style=\"text-align: right;\">\n",
       "      <th></th>\n",
       "      <th>monthleft</th>\n",
       "      <th>ret</th>\n",
       "      <th>month</th>\n",
       "      <th>volume</th>\n",
       "    </tr>\n",
       "    <tr>\n",
       "      <th>time</th>\n",
       "      <th></th>\n",
       "      <th></th>\n",
       "      <th></th>\n",
       "      <th></th>\n",
       "    </tr>\n",
       "  </thead>\n",
       "  <tbody>\n",
       "    <tr>\n",
       "      <th>30jul2010</th>\n",
       "      <td>7</td>\n",
       "      <td>-0.163240</td>\n",
       "      <td>7</td>\n",
       "      <td>657886</td>\n",
       "    </tr>\n",
       "    <tr>\n",
       "      <th>31aug2010</th>\n",
       "      <td>8</td>\n",
       "      <td>-0.023069</td>\n",
       "      <td>8</td>\n",
       "      <td>153193</td>\n",
       "    </tr>\n",
       "    <tr>\n",
       "      <th>30sep2010</th>\n",
       "      <td>9</td>\n",
       "      <td>0.047485</td>\n",
       "      <td>9</td>\n",
       "      <td>183742</td>\n",
       "    </tr>\n",
       "    <tr>\n",
       "      <th>29oct2010</th>\n",
       "      <td>10</td>\n",
       "      <td>0.070326</td>\n",
       "      <td>10</td>\n",
       "      <td>67145</td>\n",
       "    </tr>\n",
       "    <tr>\n",
       "      <th>30nov2010</th>\n",
       "      <td>11</td>\n",
       "      <td>0.617674</td>\n",
       "      <td>11</td>\n",
       "      <td>288315</td>\n",
       "    </tr>\n",
       "    <tr>\n",
       "      <th>...</th>\n",
       "      <td>...</td>\n",
       "      <td>...</td>\n",
       "      <td>...</td>\n",
       "      <td>...</td>\n",
       "    </tr>\n",
       "    <tr>\n",
       "      <th>31aug2020</th>\n",
       "      <td>8</td>\n",
       "      <td>0.741452</td>\n",
       "      <td>8</td>\n",
       "      <td>4051970</td>\n",
       "    </tr>\n",
       "    <tr>\n",
       "      <th>30sep2020</th>\n",
       "      <td>9</td>\n",
       "      <td>-0.139087</td>\n",
       "      <td>9</td>\n",
       "      <td>17331954</td>\n",
       "    </tr>\n",
       "    <tr>\n",
       "      <th>30oct2020</th>\n",
       "      <td>10</td>\n",
       "      <td>-0.095499</td>\n",
       "      <td>10</td>\n",
       "      <td>8330610</td>\n",
       "    </tr>\n",
       "    <tr>\n",
       "      <th>30nov2020</th>\n",
       "      <td>11</td>\n",
       "      <td>0.462736</td>\n",
       "      <td>11</td>\n",
       "      <td>7811501</td>\n",
       "    </tr>\n",
       "    <tr>\n",
       "      <th>31dec2020</th>\n",
       "      <td>12</td>\n",
       "      <td>0.243252</td>\n",
       "      <td>12</td>\n",
       "      <td>11962716</td>\n",
       "    </tr>\n",
       "  </tbody>\n",
       "</table>\n",
       "<p>126 rows × 4 columns</p>\n",
       "</div>"
      ],
      "text/plain": [
       "           monthleft       ret  month    volume\n",
       "time                                           \n",
       "30jul2010          7 -0.163240      7    657886\n",
       "31aug2010          8 -0.023069      8    153193\n",
       "30sep2010          9  0.047485      9    183742\n",
       "29oct2010         10  0.070326     10     67145\n",
       "30nov2010         11  0.617674     11    288315\n",
       "...              ...       ...    ...       ...\n",
       "31aug2020          8  0.741452      8   4051970\n",
       "30sep2020          9 -0.139087      9  17331954\n",
       "30oct2020         10 -0.095499     10   8330610\n",
       "30nov2020         11  0.462736     11   7811501\n",
       "31dec2020         12  0.243252     12  11962716\n",
       "\n",
       "[126 rows x 4 columns]"
      ]
     },
     "execution_count": 49,
     "metadata": {},
     "output_type": "execute_result"
    }
   ],
   "source": [
    "tesla_joined = tesla_1.join(tesla_2, lsuffix = 'left' )\n",
    "tesla_joined\n"
   ]
  },
  {
   "cell_type": "markdown",
   "id": "54513776",
   "metadata": {},
   "source": [
    "If you have done your job properly, you should have two columns with **slightly different name but the same content** (the calendar month). Now drop one of the two columns (look at the [**`DataFrame.drop()`**](https://pandas.pydata.org/pandas-docs/stable/reference/api/pandas.DataFrame.drop.html) method."
   ]
  },
  {
   "cell_type": "code",
   "execution_count": 52,
   "id": "ede694dc-53e1-4d2f-93d2-de9912e21950",
   "metadata": {},
   "outputs": [
    {
     "data": {
      "text/html": [
       "<div>\n",
       "<style scoped>\n",
       "    .dataframe tbody tr th:only-of-type {\n",
       "        vertical-align: middle;\n",
       "    }\n",
       "\n",
       "    .dataframe tbody tr th {\n",
       "        vertical-align: top;\n",
       "    }\n",
       "\n",
       "    .dataframe thead th {\n",
       "        text-align: right;\n",
       "    }\n",
       "</style>\n",
       "<table border=\"1\" class=\"dataframe\">\n",
       "  <thead>\n",
       "    <tr style=\"text-align: right;\">\n",
       "      <th></th>\n",
       "      <th>ret</th>\n",
       "      <th>month</th>\n",
       "      <th>volume</th>\n",
       "    </tr>\n",
       "    <tr>\n",
       "      <th>time</th>\n",
       "      <th></th>\n",
       "      <th></th>\n",
       "      <th></th>\n",
       "    </tr>\n",
       "  </thead>\n",
       "  <tbody>\n",
       "    <tr>\n",
       "      <th>30jul2010</th>\n",
       "      <td>-0.163240</td>\n",
       "      <td>7</td>\n",
       "      <td>657886</td>\n",
       "    </tr>\n",
       "    <tr>\n",
       "      <th>31aug2010</th>\n",
       "      <td>-0.023069</td>\n",
       "      <td>8</td>\n",
       "      <td>153193</td>\n",
       "    </tr>\n",
       "    <tr>\n",
       "      <th>30sep2010</th>\n",
       "      <td>0.047485</td>\n",
       "      <td>9</td>\n",
       "      <td>183742</td>\n",
       "    </tr>\n",
       "    <tr>\n",
       "      <th>29oct2010</th>\n",
       "      <td>0.070326</td>\n",
       "      <td>10</td>\n",
       "      <td>67145</td>\n",
       "    </tr>\n",
       "    <tr>\n",
       "      <th>30nov2010</th>\n",
       "      <td>0.617674</td>\n",
       "      <td>11</td>\n",
       "      <td>288315</td>\n",
       "    </tr>\n",
       "    <tr>\n",
       "      <th>...</th>\n",
       "      <td>...</td>\n",
       "      <td>...</td>\n",
       "      <td>...</td>\n",
       "    </tr>\n",
       "    <tr>\n",
       "      <th>31aug2020</th>\n",
       "      <td>0.741452</td>\n",
       "      <td>8</td>\n",
       "      <td>4051970</td>\n",
       "    </tr>\n",
       "    <tr>\n",
       "      <th>30sep2020</th>\n",
       "      <td>-0.139087</td>\n",
       "      <td>9</td>\n",
       "      <td>17331954</td>\n",
       "    </tr>\n",
       "    <tr>\n",
       "      <th>30oct2020</th>\n",
       "      <td>-0.095499</td>\n",
       "      <td>10</td>\n",
       "      <td>8330610</td>\n",
       "    </tr>\n",
       "    <tr>\n",
       "      <th>30nov2020</th>\n",
       "      <td>0.462736</td>\n",
       "      <td>11</td>\n",
       "      <td>7811501</td>\n",
       "    </tr>\n",
       "    <tr>\n",
       "      <th>31dec2020</th>\n",
       "      <td>0.243252</td>\n",
       "      <td>12</td>\n",
       "      <td>11962716</td>\n",
       "    </tr>\n",
       "  </tbody>\n",
       "</table>\n",
       "<p>126 rows × 3 columns</p>\n",
       "</div>"
      ],
      "text/plain": [
       "                ret  month    volume\n",
       "time                                \n",
       "30jul2010 -0.163240      7    657886\n",
       "31aug2010 -0.023069      8    153193\n",
       "30sep2010  0.047485      9    183742\n",
       "29oct2010  0.070326     10     67145\n",
       "30nov2010  0.617674     11    288315\n",
       "...             ...    ...       ...\n",
       "31aug2020  0.741452      8   4051970\n",
       "30sep2020 -0.139087      9  17331954\n",
       "30oct2020 -0.095499     10   8330610\n",
       "30nov2020  0.462736     11   7811501\n",
       "31dec2020  0.243252     12  11962716\n",
       "\n",
       "[126 rows x 3 columns]"
      ]
     },
     "execution_count": 52,
     "metadata": {},
     "output_type": "execute_result"
    }
   ],
   "source": [
    "tesla = tesla_joined.drop(columns = 'monthleft')\n",
    "tesla"
   ]
  },
  {
   "cell_type": "markdown",
   "id": "de69b724",
   "metadata": {},
   "source": [
    "Finally change the name of the remaining column back to `month` using the [**`DataFrame.rename()`**](https://pandas.pydata.org/pandas-docs/stable/reference/api/pandas.DataFrame.rename.html) method."
   ]
  },
  {
   "cell_type": "code",
   "execution_count": 58,
   "id": "f7212668",
   "metadata": {},
   "outputs": [
    {
     "ename": "SyntaxError",
     "evalue": "invalid syntax (3393626092.py, line 1)",
     "output_type": "error",
     "traceback": [
      "\u001b[0;36m  Cell \u001b[0;32mIn[58], line 1\u001b[0;36m\u001b[0m\n\u001b[0;31m    monthleft = {**'DataFrame.rename'()**}\u001b[0m\n\u001b[0m                                         ^\u001b[0m\n\u001b[0;31mSyntaxError\u001b[0m\u001b[0;31m:\u001b[0m invalid syntax\n"
     ]
    }
   ],
   "source": [
    "monthleft = {**'DataFrame.rename'()**}\n"
   ]
  },
  {
   "cell_type": "markdown",
   "id": "37054de4",
   "metadata": {},
   "source": [
    "___\n",
    "## Part 3 - Complex Selection\n",
    "Often, data selection is accomplished by formulation of conditions on column values, and potentially combining multiple such conditions logically. Let's reload again our intitial DataFrame:"
   ]
  },
  {
   "cell_type": "code",
   "execution_count": 25,
   "id": "f14a0a3c",
   "metadata": {},
   "outputs": [
    {
     "data": {
      "text/html": [
       "<div>\n",
       "<style scoped>\n",
       "    .dataframe tbody tr th:only-of-type {\n",
       "        vertical-align: middle;\n",
       "    }\n",
       "\n",
       "    .dataframe tbody tr th {\n",
       "        vertical-align: top;\n",
       "    }\n",
       "\n",
       "    .dataframe thead th {\n",
       "        text-align: right;\n",
       "    }\n",
       "</style>\n",
       "<table border=\"1\" class=\"dataframe\">\n",
       "  <thead>\n",
       "    <tr style=\"text-align: right;\">\n",
       "      <th></th>\n",
       "      <th>name</th>\n",
       "      <th>industry</th>\n",
       "      <th>size</th>\n",
       "      <th>ret</th>\n",
       "      <th>beta</th>\n",
       "    </tr>\n",
       "    <tr>\n",
       "      <th>ticker</th>\n",
       "      <th></th>\n",
       "      <th></th>\n",
       "      <th></th>\n",
       "      <th></th>\n",
       "      <th></th>\n",
       "    </tr>\n",
       "  </thead>\n",
       "  <tbody>\n",
       "    <tr>\n",
       "      <th>AAPL</th>\n",
       "      <td>APPLE INC</td>\n",
       "      <td>Business Equipment</td>\n",
       "      <td>643.12012</td>\n",
       "      <td>0.236708</td>\n",
       "      <td>1.289383</td>\n",
       "    </tr>\n",
       "    <tr>\n",
       "      <th>XOM</th>\n",
       "      <td>EXXON MOBIL CORP</td>\n",
       "      <td>Oil, Gas, and Coal</td>\n",
       "      <td>391.48221</td>\n",
       "      <td>-0.016955</td>\n",
       "      <td>0.493250</td>\n",
       "    </tr>\n",
       "    <tr>\n",
       "      <th>MSFT</th>\n",
       "      <td>MICROSOFT CORP</td>\n",
       "      <td>Business Equipment</td>\n",
       "      <td>381.72610</td>\n",
       "      <td>0.304496</td>\n",
       "      <td>1.195665</td>\n",
       "    </tr>\n",
       "    <tr>\n",
       "      <th>JNJ</th>\n",
       "      <td>JOHNSON &amp; JOHNSON</td>\n",
       "      <td>Healthcare</td>\n",
       "      <td>292.70294</td>\n",
       "      <td>0.098696</td>\n",
       "      <td>0.461693</td>\n",
       "    </tr>\n",
       "    <tr>\n",
       "      <th>WFC</th>\n",
       "      <td>WELLS FARGO &amp; CO NEW</td>\n",
       "      <td>Finance</td>\n",
       "      <td>284.38553</td>\n",
       "      <td>0.027379</td>\n",
       "      <td>0.839797</td>\n",
       "    </tr>\n",
       "  </tbody>\n",
       "</table>\n",
       "</div>"
      ],
      "text/plain": [
       "                        name            industry       size       ret  \\\n",
       "ticker                                                                  \n",
       "AAPL               APPLE INC  Business Equipment  643.12012  0.236708   \n",
       "XOM         EXXON MOBIL CORP  Oil, Gas, and Coal  391.48221 -0.016955   \n",
       "MSFT          MICROSOFT CORP  Business Equipment  381.72610  0.304496   \n",
       "JNJ        JOHNSON & JOHNSON          Healthcare  292.70294  0.098696   \n",
       "WFC     WELLS FARGO & CO NEW             Finance  284.38553  0.027379   \n",
       "\n",
       "            beta  \n",
       "ticker            \n",
       "AAPL    1.289383  \n",
       "XOM     0.493250  \n",
       "MSFT    1.195665  \n",
       "JNJ     0.461693  \n",
       "WFC     0.839797  "
      ]
     },
     "execution_count": 25,
     "metadata": {},
     "output_type": "execute_result"
    }
   ],
   "source": [
    "shares = pd.read_csv('shares.csv', index_col='ticker')\n",
    "shares.head()"
   ]
  },
  {
   "cell_type": "markdown",
   "id": "acc2f4f3",
   "metadata": {},
   "source": [
    "Let's see how a logical condition works in Pandas. Let's ask **whether betas are greater than one**:"
   ]
  },
  {
   "cell_type": "code",
   "execution_count": 26,
   "id": "6cb50590",
   "metadata": {},
   "outputs": [
    {
     "data": {
      "text/plain": [
       "ticker\n",
       "AAPL      True\n",
       "XOM      False\n",
       "MSFT      True\n",
       "JNJ      False\n",
       "WFC      False\n",
       "         ...  \n",
       "BIOS      True\n",
       "PVA      False\n",
       "NLS       True\n",
       "PHIIK    False\n",
       "CECO     False\n",
       "Name: beta, Length: 1443, dtype: bool"
      ]
     },
     "execution_count": 26,
     "metadata": {},
     "output_type": "execute_result"
    }
   ],
   "source": [
    "shares['beta']>1"
   ]
  },
  {
   "cell_type": "markdown",
   "id": "518decd3",
   "metadata": {},
   "source": [
    "This returns a series of boolean operators (`True` or `False`) that tell us, for each company, whether the beta is greater than one. We can use this series to **select only the companies with high beta**."
   ]
  },
  {
   "cell_type": "code",
   "execution_count": 27,
   "id": "4e0b5ca0",
   "metadata": {},
   "outputs": [
    {
     "data": {
      "text/html": [
       "<div>\n",
       "<style scoped>\n",
       "    .dataframe tbody tr th:only-of-type {\n",
       "        vertical-align: middle;\n",
       "    }\n",
       "\n",
       "    .dataframe tbody tr th {\n",
       "        vertical-align: top;\n",
       "    }\n",
       "\n",
       "    .dataframe thead th {\n",
       "        text-align: right;\n",
       "    }\n",
       "</style>\n",
       "<table border=\"1\" class=\"dataframe\">\n",
       "  <thead>\n",
       "    <tr style=\"text-align: right;\">\n",
       "      <th></th>\n",
       "      <th>name</th>\n",
       "      <th>industry</th>\n",
       "      <th>size</th>\n",
       "      <th>ret</th>\n",
       "      <th>beta</th>\n",
       "    </tr>\n",
       "    <tr>\n",
       "      <th>ticker</th>\n",
       "      <th></th>\n",
       "      <th></th>\n",
       "      <th></th>\n",
       "      <th></th>\n",
       "      <th></th>\n",
       "    </tr>\n",
       "  </thead>\n",
       "  <tbody>\n",
       "    <tr>\n",
       "      <th>AAPL</th>\n",
       "      <td>APPLE INC</td>\n",
       "      <td>Business Equipment</td>\n",
       "      <td>643.120120</td>\n",
       "      <td>0.236708</td>\n",
       "      <td>1.289383</td>\n",
       "    </tr>\n",
       "    <tr>\n",
       "      <th>MSFT</th>\n",
       "      <td>MICROSOFT CORP</td>\n",
       "      <td>Business Equipment</td>\n",
       "      <td>381.726100</td>\n",
       "      <td>0.304496</td>\n",
       "      <td>1.195665</td>\n",
       "    </tr>\n",
       "    <tr>\n",
       "      <th>GE</th>\n",
       "      <td>GENERAL ELECTRIC CO</td>\n",
       "      <td>Manufacturing</td>\n",
       "      <td>253.766190</td>\n",
       "      <td>-0.121686</td>\n",
       "      <td>1.189791</td>\n",
       "    </tr>\n",
       "    <tr>\n",
       "      <th>JPM</th>\n",
       "      <td>JPMORGAN CHASE &amp; CO</td>\n",
       "      <td>Finance</td>\n",
       "      <td>233.935870</td>\n",
       "      <td>0.204319</td>\n",
       "      <td>1.381404</td>\n",
       "    </tr>\n",
       "    <tr>\n",
       "      <th>ORCL</th>\n",
       "      <td>ORACLE CORP</td>\n",
       "      <td>Business Equipment</td>\n",
       "      <td>197.479780</td>\n",
       "      <td>0.049413</td>\n",
       "      <td>1.428508</td>\n",
       "    </tr>\n",
       "    <tr>\n",
       "      <th>...</th>\n",
       "      <td>...</td>\n",
       "      <td>...</td>\n",
       "      <td>...</td>\n",
       "      <td>...</td>\n",
       "      <td>...</td>\n",
       "    </tr>\n",
       "    <tr>\n",
       "      <th>XOXO</th>\n",
       "      <td>X O GROUP INC</td>\n",
       "      <td>Consumer non Durables</td>\n",
       "      <td>0.489539</td>\n",
       "      <td>0.136323</td>\n",
       "      <td>1.405959</td>\n",
       "    </tr>\n",
       "    <tr>\n",
       "      <th>FORM</th>\n",
       "      <td>FORMFACTOR INC</td>\n",
       "      <td>Business Equipment</td>\n",
       "      <td>0.486055</td>\n",
       "      <td>0.247368</td>\n",
       "      <td>1.265079</td>\n",
       "    </tr>\n",
       "    <tr>\n",
       "      <th>EXAR</th>\n",
       "      <td>EXAR CORP</td>\n",
       "      <td>Business Equipment</td>\n",
       "      <td>0.480165</td>\n",
       "      <td>0.049870</td>\n",
       "      <td>1.230422</td>\n",
       "    </tr>\n",
       "    <tr>\n",
       "      <th>BIOS</th>\n",
       "      <td>BIOSCRIP INC</td>\n",
       "      <td>Healthcare</td>\n",
       "      <td>0.479773</td>\n",
       "      <td>-0.118045</td>\n",
       "      <td>1.202475</td>\n",
       "    </tr>\n",
       "    <tr>\n",
       "      <th>NLS</th>\n",
       "      <td>NAUTILUS INC</td>\n",
       "      <td>Consumer non Durables</td>\n",
       "      <td>0.475240</td>\n",
       "      <td>-0.350838</td>\n",
       "      <td>2.129668</td>\n",
       "    </tr>\n",
       "  </tbody>\n",
       "</table>\n",
       "<p>766 rows × 5 columns</p>\n",
       "</div>"
      ],
      "text/plain": [
       "                       name               industry        size       ret  \\\n",
       "ticker                                                                     \n",
       "AAPL              APPLE INC     Business Equipment  643.120120  0.236708   \n",
       "MSFT         MICROSOFT CORP     Business Equipment  381.726100  0.304496   \n",
       "GE      GENERAL ELECTRIC CO          Manufacturing  253.766190 -0.121686   \n",
       "JPM     JPMORGAN CHASE & CO                Finance  233.935870  0.204319   \n",
       "ORCL            ORACLE CORP     Business Equipment  197.479780  0.049413   \n",
       "...                     ...                    ...         ...       ...   \n",
       "XOXO          X O GROUP INC  Consumer non Durables    0.489539  0.136323   \n",
       "FORM         FORMFACTOR INC     Business Equipment    0.486055  0.247368   \n",
       "EXAR              EXAR CORP     Business Equipment    0.480165  0.049870   \n",
       "BIOS           BIOSCRIP INC             Healthcare    0.479773 -0.118045   \n",
       "NLS            NAUTILUS INC  Consumer non Durables    0.475240 -0.350838   \n",
       "\n",
       "            beta  \n",
       "ticker            \n",
       "AAPL    1.289383  \n",
       "MSFT    1.195665  \n",
       "GE      1.189791  \n",
       "JPM     1.381404  \n",
       "ORCL    1.428508  \n",
       "...          ...  \n",
       "XOXO    1.405959  \n",
       "FORM    1.265079  \n",
       "EXAR    1.230422  \n",
       "BIOS    1.202475  \n",
       "NLS     2.129668  \n",
       "\n",
       "[766 rows x 5 columns]"
      ]
     },
     "execution_count": 27,
     "metadata": {},
     "output_type": "execute_result"
    }
   ],
   "source": [
    "shares[shares['beta']>1]"
   ]
  },
  {
   "cell_type": "markdown",
   "id": "1d5357d5",
   "metadata": {},
   "source": [
    "This command returns the portion of the original DataFrame with only the high-risk companies. Of course, we can **combine multiple logical conditions**. For example, let's ask for the high-risk company in the _finance_ industry. We need to use the [`&` logical operator](https://pandas.pydata.org/docs/user_guide/indexing.html#boolean-indexing) to combine the conditions and each condition should be in parenthesis (don't ask me why...)."
   ]
  },
  {
   "cell_type": "code",
   "execution_count": 28,
   "id": "d6525816",
   "metadata": {},
   "outputs": [
    {
     "data": {
      "text/html": [
       "<div>\n",
       "<style scoped>\n",
       "    .dataframe tbody tr th:only-of-type {\n",
       "        vertical-align: middle;\n",
       "    }\n",
       "\n",
       "    .dataframe tbody tr th {\n",
       "        vertical-align: top;\n",
       "    }\n",
       "\n",
       "    .dataframe thead th {\n",
       "        text-align: right;\n",
       "    }\n",
       "</style>\n",
       "<table border=\"1\" class=\"dataframe\">\n",
       "  <thead>\n",
       "    <tr style=\"text-align: right;\">\n",
       "      <th></th>\n",
       "      <th>name</th>\n",
       "      <th>industry</th>\n",
       "      <th>size</th>\n",
       "      <th>ret</th>\n",
       "      <th>beta</th>\n",
       "    </tr>\n",
       "    <tr>\n",
       "      <th>ticker</th>\n",
       "      <th></th>\n",
       "      <th></th>\n",
       "      <th></th>\n",
       "      <th></th>\n",
       "      <th></th>\n",
       "    </tr>\n",
       "  </thead>\n",
       "  <tbody>\n",
       "    <tr>\n",
       "      <th>JPM</th>\n",
       "      <td>JPMORGAN CHASE &amp; CO</td>\n",
       "      <td>Finance</td>\n",
       "      <td>233.935870</td>\n",
       "      <td>0.204319</td>\n",
       "      <td>1.381404</td>\n",
       "    </tr>\n",
       "    <tr>\n",
       "      <th>BAC</th>\n",
       "      <td>BANK OF AMERICA CORP</td>\n",
       "      <td>Finance</td>\n",
       "      <td>188.139280</td>\n",
       "      <td>0.164614</td>\n",
       "      <td>1.351432</td>\n",
       "    </tr>\n",
       "    <tr>\n",
       "      <th>AXP</th>\n",
       "      <td>AMERICAN EXPRESS CO</td>\n",
       "      <td>Finance</td>\n",
       "      <td>96.266350</td>\n",
       "      <td>0.076522</td>\n",
       "      <td>1.366297</td>\n",
       "    </tr>\n",
       "    <tr>\n",
       "      <th>GS</th>\n",
       "      <td>GOLDMAN SACHS GROUP INC</td>\n",
       "      <td>Finance</td>\n",
       "      <td>84.421883</td>\n",
       "      <td>0.050442</td>\n",
       "      <td>1.532228</td>\n",
       "    </tr>\n",
       "    <tr>\n",
       "      <th>AIG</th>\n",
       "      <td>AMERICAN INTERNATIONAL GROUP INC</td>\n",
       "      <td>Finance</td>\n",
       "      <td>78.409073</td>\n",
       "      <td>0.004156</td>\n",
       "      <td>1.790988</td>\n",
       "    </tr>\n",
       "    <tr>\n",
       "      <th>...</th>\n",
       "      <td>...</td>\n",
       "      <td>...</td>\n",
       "      <td>...</td>\n",
       "      <td>...</td>\n",
       "      <td>...</td>\n",
       "    </tr>\n",
       "    <tr>\n",
       "      <th>HAFC</th>\n",
       "      <td>HANMI FINANCIAL CORP</td>\n",
       "      <td>Finance</td>\n",
       "      <td>0.695957</td>\n",
       "      <td>0.013905</td>\n",
       "      <td>1.175250</td>\n",
       "    </tr>\n",
       "    <tr>\n",
       "      <th>RECN</th>\n",
       "      <td>RESOURCES CONNECTION INC</td>\n",
       "      <td>Finance</td>\n",
       "      <td>0.619260</td>\n",
       "      <td>0.027879</td>\n",
       "      <td>1.232413</td>\n",
       "    </tr>\n",
       "    <tr>\n",
       "      <th>AI</th>\n",
       "      <td>ARLINGTON ASSET INVESTMENT CORP</td>\n",
       "      <td>Finance</td>\n",
       "      <td>0.599204</td>\n",
       "      <td>-0.132750</td>\n",
       "      <td>1.826897</td>\n",
       "    </tr>\n",
       "    <tr>\n",
       "      <th>GBL</th>\n",
       "      <td>GAMCO INVESTORS INC</td>\n",
       "      <td>Finance</td>\n",
       "      <td>0.581668</td>\n",
       "      <td>-0.153290</td>\n",
       "      <td>1.217434</td>\n",
       "    </tr>\n",
       "    <tr>\n",
       "      <th>PLUS</th>\n",
       "      <td>EPLUS INC</td>\n",
       "      <td>Finance</td>\n",
       "      <td>0.559955</td>\n",
       "      <td>0.173690</td>\n",
       "      <td>1.083553</td>\n",
       "    </tr>\n",
       "  </tbody>\n",
       "</table>\n",
       "<p>75 rows × 5 columns</p>\n",
       "</div>"
      ],
      "text/plain": [
       "                                    name industry        size       ret  \\\n",
       "ticker                                                                    \n",
       "JPM                  JPMORGAN CHASE & CO  Finance  233.935870  0.204319   \n",
       "BAC                 BANK OF AMERICA CORP  Finance  188.139280  0.164614   \n",
       "AXP                  AMERICAN EXPRESS CO  Finance   96.266350  0.076522   \n",
       "GS               GOLDMAN SACHS GROUP INC  Finance   84.421883  0.050442   \n",
       "AIG     AMERICAN INTERNATIONAL GROUP INC  Finance   78.409073  0.004156   \n",
       "...                                  ...      ...         ...       ...   \n",
       "HAFC                HANMI FINANCIAL CORP  Finance    0.695957  0.013905   \n",
       "RECN            RESOURCES CONNECTION INC  Finance    0.619260  0.027879   \n",
       "AI       ARLINGTON ASSET INVESTMENT CORP  Finance    0.599204 -0.132750   \n",
       "GBL                  GAMCO INVESTORS INC  Finance    0.581668 -0.153290   \n",
       "PLUS                           EPLUS INC  Finance    0.559955  0.173690   \n",
       "\n",
       "            beta  \n",
       "ticker            \n",
       "JPM     1.381404  \n",
       "BAC     1.351432  \n",
       "AXP     1.366297  \n",
       "GS      1.532228  \n",
       "AIG     1.790988  \n",
       "...          ...  \n",
       "HAFC    1.175250  \n",
       "RECN    1.232413  \n",
       "AI      1.826897  \n",
       "GBL     1.217434  \n",
       "PLUS    1.083553  \n",
       "\n",
       "[75 rows x 5 columns]"
      ]
     },
     "execution_count": 28,
     "metadata": {},
     "output_type": "execute_result"
    }
   ],
   "source": [
    "shares[(shares['beta']>1) & (shares['industry']=='Finance')]"
   ]
  },
  {
   "cell_type": "markdown",
   "id": "dee60391",
   "metadata": {},
   "source": [
    "We can of course **concatenate as many conditions** as we want. Here we ask for high-risk finance companies with market capitalization greater than $100b:"
   ]
  },
  {
   "cell_type": "code",
   "execution_count": 29,
   "id": "ceb079a0",
   "metadata": {},
   "outputs": [
    {
     "data": {
      "text/html": [
       "<div>\n",
       "<style scoped>\n",
       "    .dataframe tbody tr th:only-of-type {\n",
       "        vertical-align: middle;\n",
       "    }\n",
       "\n",
       "    .dataframe tbody tr th {\n",
       "        vertical-align: top;\n",
       "    }\n",
       "\n",
       "    .dataframe thead th {\n",
       "        text-align: right;\n",
       "    }\n",
       "</style>\n",
       "<table border=\"1\" class=\"dataframe\">\n",
       "  <thead>\n",
       "    <tr style=\"text-align: right;\">\n",
       "      <th></th>\n",
       "      <th>name</th>\n",
       "      <th>industry</th>\n",
       "      <th>size</th>\n",
       "      <th>ret</th>\n",
       "      <th>beta</th>\n",
       "    </tr>\n",
       "    <tr>\n",
       "      <th>ticker</th>\n",
       "      <th></th>\n",
       "      <th></th>\n",
       "      <th></th>\n",
       "      <th></th>\n",
       "      <th></th>\n",
       "    </tr>\n",
       "  </thead>\n",
       "  <tbody>\n",
       "    <tr>\n",
       "      <th>JPM</th>\n",
       "      <td>JPMORGAN CHASE &amp; CO</td>\n",
       "      <td>Finance</td>\n",
       "      <td>233.93587</td>\n",
       "      <td>0.204319</td>\n",
       "      <td>1.381404</td>\n",
       "    </tr>\n",
       "    <tr>\n",
       "      <th>BAC</th>\n",
       "      <td>BANK OF AMERICA CORP</td>\n",
       "      <td>Finance</td>\n",
       "      <td>188.13928</td>\n",
       "      <td>0.164614</td>\n",
       "      <td>1.351432</td>\n",
       "    </tr>\n",
       "  </tbody>\n",
       "</table>\n",
       "</div>"
      ],
      "text/plain": [
       "                        name industry       size       ret      beta\n",
       "ticker                                                              \n",
       "JPM      JPMORGAN CHASE & CO  Finance  233.93587  0.204319  1.381404\n",
       "BAC     BANK OF AMERICA CORP  Finance  188.13928  0.164614  1.351432"
      ]
     },
     "execution_count": 29,
     "metadata": {},
     "output_type": "execute_result"
    }
   ],
   "source": [
    "shares[(shares['beta']>1) & (shares['industry']=='Finance') & (shares['size']>100)]"
   ]
  },
  {
   "cell_type": "markdown",
   "id": "76f8b692",
   "metadata": {},
   "source": [
    "___\n",
    "### Exercise 5.03\n",
    "Using the DataFrame `shares` introduced in this notebook calculate the average size of all the companies in the `Healthcare` industry"
   ]
  },
  {
   "cell_type": "code",
   "execution_count": null,
   "id": "ff8a35a4",
   "metadata": {},
   "outputs": [],
   "source": []
  },
  {
   "cell_type": "markdown",
   "id": "7e596be5",
   "metadata": {},
   "source": [
    "If you have done your calculation correctly, the answer should be around `16.8616`. Is the average size affected by beta? Calculate the average size of healthcare companies with beta above (or equal to) one and with beta below one."
   ]
  },
  {
   "cell_type": "code",
   "execution_count": null,
   "id": "75a4360b",
   "metadata": {},
   "outputs": [],
   "source": []
  },
  {
   "cell_type": "code",
   "execution_count": null,
   "id": "a988d0d9",
   "metadata": {},
   "outputs": [],
   "source": []
  },
  {
   "cell_type": "markdown",
   "id": "ced08fea",
   "metadata": {},
   "source": [
    "If you have done your calculations correctly, you should see that high risk companies have a much smaller average size (`7.737`) compared to low risk companies (`25.986`). \n",
    "\n",
    "To have a more robust understanding of the relationship between size and risk **calculate the correlation** between the column `size` and the column `beta` in the DataFrame `df` considering only healthcare companies. \n",
    "\n",
    "**HINT:** The method [**`DataFrame.corr()`**](https://pandas.pydata.org/docs/reference/api/pandas.DataFrame.corr.html) automatically calculates the correlation between all the (numerical) columns in a DataFrame."
   ]
  },
  {
   "cell_type": "code",
   "execution_count": null,
   "id": "b3cc7aee",
   "metadata": {},
   "outputs": [],
   "source": []
  },
  {
   "cell_type": "markdown",
   "id": "7b77fdf3",
   "metadata": {},
   "source": [
    "If you have done the calculation correctly you should have a confirmation of the negative relationship between size and risk, with a correlation coefficient of `-0.260`."
   ]
  },
  {
   "cell_type": "markdown",
   "id": "bbdb50c4-0fe6-49b2-8be9-a512b72d53f0",
   "metadata": {
    "tags": []
   },
   "source": [
    "___\n",
    "## Additional Exercises\n",
    "\n",
    "### Exercise 5.04\n",
    "Using the data in the DataFrame `shares` created in this notebook, generate a series called `finance` with the beta of all the companies in the finance industry."
   ]
  },
  {
   "cell_type": "code",
   "execution_count": null,
   "id": "73a9c667-3bb9-432c-873a-a47d3c56fdf9",
   "metadata": {},
   "outputs": [],
   "source": []
  },
  {
   "cell_type": "markdown",
   "id": "cb6c4a16-fd55-4d67-9141-8aac16c77341",
   "metadata": {},
   "source": [
    "Now that you have the series, plot an histogram to show the distribution of the betas. The graph should be titled _\"Financial Companies\"_"
   ]
  },
  {
   "cell_type": "code",
   "execution_count": null,
   "id": "66d5210c-849d-483e-93f2-4c7b4aedc822",
   "metadata": {},
   "outputs": [],
   "source": []
  },
  {
   "cell_type": "markdown",
   "id": "78244607-3f80-4c70-8048-5c17585d75f1",
   "metadata": {},
   "source": [
    "Now transform `finance` into a DataFrame. To achieve this, you may want to have a look at the method **[`Series.to_frame()`](https://pandas.pydata.org/docs/reference/api/pandas.Series.to_frame.html)**. "
   ]
  },
  {
   "cell_type": "code",
   "execution_count": null,
   "id": "3a0df6ac-1130-48c2-9809-9bbf5dedf78d",
   "metadata": {},
   "outputs": [],
   "source": []
  },
  {
   "cell_type": "markdown",
   "id": "9a265ca8-da22-46f6-b85a-07620b14a2d5",
   "metadata": {},
   "source": [
    "**ATTENTION** This point will ask you to learn new python functions using the help files.\n",
    "\n",
    "Once you have a DataFrame, add a column called `Description` with the word `High` if the beta is higher than `1` and `Low` if the beta is lower than `1`. An easy way to change the value of a column based on a logical condition is the NumPy function **[`np.where()`](https://numpy.org/doc/stable/reference/generated/numpy.where.html)**. Alternatively you can have a look at the method **[`Series.mask()`](https://pandas.pydata.org/docs/reference/api/pandas.Series.mask.html)**."
   ]
  },
  {
   "cell_type": "code",
   "execution_count": null,
   "id": "0385e04b-4653-4173-9e8e-17c1b6b098ce",
   "metadata": {},
   "outputs": [],
   "source": []
  },
  {
   "cell_type": "code",
   "execution_count": null,
   "id": "522454ef-82d9-4578-a12f-d6750c1b433b",
   "metadata": {},
   "outputs": [],
   "source": []
  }
 ],
 "metadata": {
  "kernelspec": {
   "display_name": "Python 3 (ipykernel)",
   "language": "python",
   "name": "python3"
  },
  "language_info": {
   "codemirror_mode": {
    "name": "ipython",
    "version": 3
   },
   "file_extension": ".py",
   "mimetype": "text/x-python",
   "name": "python",
   "nbconvert_exporter": "python",
   "pygments_lexer": "ipython3",
   "version": "3.11.4"
  }
 },
 "nbformat": 4,
 "nbformat_minor": 5
}
