{
 "cells": [
  {
   "cell_type": "markdown",
   "metadata": {},
   "source": [
    "# Introduction to Python - Modules and Packages\n",
    "A major feature of Python as an ecosystem, compared to just being a programming language, is the **availability of a large number of packages and tools** created by its users and made freely available to the Python community.\n",
    "\n",
    "These packages and tools generally **have to be imported** when needed (e.g., a plotting library when we know we are going to create graphs). \n",
    "\n",
    "Importing means **making a package available** to the current namespace and the current Python interpreter process. Python itself already comes with a large set of packages and modules that enhance the basic interpreter in different directions, known as the Python Standard Library. For example, basic mathematical calculations can be done without any importing, while more specialized mathematical functions need to be imported through the math module."
   ]
  },
  {
   "cell_type": "code",
   "execution_count": null,
   "metadata": {},
   "outputs": [],
   "source": [
    "100 * 2.5 + 50"
   ]
  },
  {
   "attachments": {},
   "cell_type": "markdown",
   "metadata": {},
   "source": [
    "For some reason that has been lost to mankind, **the basic Python code does not have the logarithmic function**. If we were to run the following line of code\n",
    "\n",
    "```python\n",
    "log(10)\n",
    "```\n",
    "We would receive the following error message (please try yourselves to run the line in an empty cell...).\n",
    "\n",
    "![Screen Shot 2021-07-21 at 10.15.22 am.png](attachment:11848b45-1cfd-4573-b186-116b34c2a123.png)\n",
    "\n",
    "As usual we go directly to the last line of the error message and we can get a pretty good idea of what happened: `NameError: name 'log' is not defined`. This means that there is no `log()` function defined.\n",
    "\n",
    "This is a real bummer. The log function is essential for many financial calculations. To get around this issue we need to run the following two lines of code:"
   ]
  },
  {
   "cell_type": "code",
   "execution_count": null,
   "metadata": {},
   "outputs": [],
   "source": [
    "import math\n",
    "\n",
    "math.log(10)"
   ]
  },
  {
   "cell_type": "markdown",
   "metadata": {},
   "source": [
    "As you can see we have imported the [math](https://docs.python.org/3/library/math.html) module that contains the `log` function. With this we can then perform our calculation. \n",
    "\n",
    "Since the `log()` function is part of a module, to use it **we need to specify the name of the module** where the function has to be found, hence the use of `math.log()`.\n",
    "\n",
    "Alternatively, if we know that we only need a specific function **from within a module we can import the function directly** into our general namespace:"
   ]
  },
  {
   "cell_type": "code",
   "execution_count": null,
   "metadata": {},
   "outputs": [],
   "source": [
    "from math import log\n",
    "\n",
    "log(25)"
   ]
  },
  {
   "cell_type": "markdown",
   "metadata": {},
   "source": [
    "The function `log()` is now part of our general namespace and can be called directly. This way of proceeding is not always wise because the name of the imported function **could conclict with another name** (of a variable or another object) already present in our space. \n",
    "\n",
    "A third way to import a module, is to **provide a \"nickname\"**. This is particularly useful when the original name of the module is somewhat long."
   ]
  },
  {
   "cell_type": "code",
   "execution_count": null,
   "metadata": {},
   "outputs": [],
   "source": [
    "import math as ma\n",
    "\n",
    "ma.log(30)"
   ]
  },
  {
   "cell_type": "markdown",
   "metadata": {},
   "source": [
    "Nicknames should be **short and easy to associate** with the original module. Always remember that your code will be used by other people and needs to be as readable as possible.\n",
    "\n",
    "Also many common packages have widely used **standard nicknames**, so better stick with them:\n",
    "* numpy --> np\n",
    "* pandas --> pd\n",
    "* statsmodel -->sm\n",
    "\n",
    "The standard nicknames can usually be found perusing the help files of the different modules."
   ]
  },
  {
   "cell_type": "markdown",
   "metadata": {},
   "source": [
    "Another common practice, when using notebooks, is to add all the **`import`** statements in a separate cell at the top of the notebook. This allows the reader/user to know what packages are necessary to run the notebook.\n",
    "\n",
    "Most of the packages we will need in this subject come with the standard Anaconda distribution of Python. **New packages can be installed** using the Anaconda Navigator, in the Environments tab, or using line commands in your terminal using the:\n",
    "* [Conda command](https://docs.anaconda.com/anaconda/user-guide/tasks/install-packages/)\n",
    "* [Pip Install command](https://packaging.python.org/tutorials/installing-packages/#use-pip-for-installing)"
   ]
  },
  {
   "cell_type": "markdown",
   "metadata": {},
   "source": [
    "### The Scientific Stack\n",
    "There is a certain set of packages that is collectively labeled the scientific stack. This stack comprises, among others, the following packages:\n",
    "\n",
    "[NumPy](http://www.numpy.org/) (imported as `np`) provides a **multidimensional array** object to store homogeneous or heterogeneous data; it also provides optimized functions/methods to operate on this array object.\n",
    "\n",
    "[pandas](http://pandas.pydata.org/) (imported as `pd`) builds on NumPy and provides richer classes for the management and analysis of **time series and tabular data**; it is tightly integrated with matplotlib for plotting and PyTables for data storage and retrieval.\n",
    "\n",
    "[statsmodels](https://www.statsmodels.org/stable/index.html) (imported as `sm`) is a widely used model for **statistical analysis** , and in particular for doing regressions. \n",
    "\n",
    "[matplotlib](http://www.matplotlib.org/) is the most popular **plotting and visualization** package for Python, providing both 2D and 3D visualization capabilities.\n",
    "\n",
    "[SciPy](http://www.scipy.org/) is a collection of subpackages and functions implementing important standard functionality often needed in **science or finance**; for example, one finds functions for cubic splines interpolation as well as for numerical integration.\n",
    "\n",
    "[scikit-learn](http://scikit-learn.org/) is a popular **machine learning** (ML) package that provides a unified application programming interface (API) for many different ML algorithms, such as for estimation, classification, or clustering."
   ]
  },
  {
   "cell_type": "markdown",
   "metadata": {},
   "source": [
    "___\n",
    "## Part 2 - A quick dive into NumPy\n",
    "We will spend most of our coding time using Pandas, to which we will dedicate two entire lectures, but **if Pandas is the John Lennon** of data analysis using Python, **then NumPy is the Paul McCartney**. This is a rather convoluted methaphor to express the idea that Pandas is built on NumPy and its main benefit is to **make NumPy functionalities easier** and more intuitive to use.\n",
    "\n",
    "NumPy provides a multidimensional array object to store homogeneous or heterogeneousdata arrays and supports **vectorization of code**.\n",
    "\n",
    "Numpy Arrays are the objects we will use to perform all type of _\"matrix stuff\"_ in Python. Beside allowing us to use the powerful tools of matrix algebra, this will also allow us to _\"vectorize\"_ some of our code. Vectorized code refers to operations that are performed on multiple components of a vector at the same time (in one line of code). Vectorized code **runs much faster** than the equivalent for-loop."
   ]
  },
  {
   "cell_type": "code",
   "execution_count": null,
   "metadata": {},
   "outputs": [],
   "source": [
    "import numpy as np\n",
    "# we import the numpy package with the standard abbreviation"
   ]
  },
  {
   "cell_type": "code",
   "execution_count": null,
   "metadata": {},
   "outputs": [],
   "source": [
    "# creates an ndarray object out of a list object with floats (numbers).\n",
    "a = np.array([0, 0.5, 1.0, 1.5, 2.0])  \n",
    "a"
   ]
  },
  {
   "cell_type": "code",
   "execution_count": null,
   "metadata": {},
   "outputs": [],
   "source": [
    "# let's check the type of this new object\n",
    "type(a)"
   ]
  },
  {
   "cell_type": "code",
   "execution_count": null,
   "metadata": {},
   "outputs": [],
   "source": [
    "# the generator arange() works in the same way as range() in the standard Python\n",
    "a = np.arange(2, 20, 2)\n",
    "a"
   ]
  },
  {
   "cell_type": "markdown",
   "metadata": {},
   "source": [
    "We can **use indexing** to refer to specific elements of a one-dimensional array using the same notation we have seen for lists and other indexable objects."
   ]
  },
  {
   "cell_type": "code",
   "execution_count": null,
   "metadata": {},
   "outputs": [],
   "source": [
    "# we can extract the first two items\n",
    "a[:2]"
   ]
  },
  {
   "cell_type": "code",
   "execution_count": null,
   "metadata": {},
   "outputs": [],
   "source": [
    "# or we can skip the first five items\n",
    "a[5:]"
   ]
  },
  {
   "cell_type": "code",
   "execution_count": null,
   "metadata": {},
   "outputs": [],
   "source": [
    "# or isolate items in the middle\n",
    "a[3:7]"
   ]
  },
  {
   "cell_type": "markdown",
   "metadata": {},
   "source": [
    "A major feature of the ndarray class is the multitude of **built-in methods**. For instance:"
   ]
  },
  {
   "cell_type": "code",
   "execution_count": null,
   "metadata": {},
   "outputs": [],
   "source": [
    "# we can find the sum of the elements\n",
    "a.sum()"
   ]
  },
  {
   "cell_type": "code",
   "execution_count": null,
   "metadata": {},
   "outputs": [],
   "source": [
    "# their standard deviation\n",
    "a.std()"
   ]
  },
  {
   "cell_type": "code",
   "execution_count": null,
   "metadata": {},
   "outputs": [],
   "source": [
    "# the cumulative sum, or running total\n",
    "a.cumsum()"
   ]
  },
  {
   "cell_type": "markdown",
   "metadata": {},
   "source": [
    "Another major feature is the (vectorized) **mathematical operations** defined on ndarray objects:"
   ]
  },
  {
   "cell_type": "code",
   "execution_count": null,
   "metadata": {},
   "outputs": [],
   "source": [
    "# we can easily multiply all the elements by 2 with a single line of code, we apply the calculation to the entire vector\n",
    "2 * a"
   ]
  },
  {
   "cell_type": "code",
   "execution_count": null,
   "metadata": {},
   "outputs": [],
   "source": [
    "# or we can square each element\n",
    "a ** 2"
   ]
  },
  {
   "cell_type": "markdown",
   "metadata": {},
   "source": [
    "**Universal functions** are another important feature of the NumPy package. They are “universal” in the sense that they in general operate on ndarray objects as well as on basic Python data types."
   ]
  },
  {
   "cell_type": "code",
   "execution_count": null,
   "metadata": {},
   "outputs": [],
   "source": [
    "# we can apply the exponent function to an element\n",
    "np.exp(a[2])"
   ]
  },
  {
   "cell_type": "code",
   "execution_count": null,
   "metadata": {},
   "outputs": [],
   "source": [
    "# or we can calculate the sq root of an element\n",
    "np.sqrt(a[3])"
   ]
  },
  {
   "cell_type": "markdown",
   "metadata": {},
   "source": [
    "### Special generators\n",
    "To create a new array we can use **`np.array()`** as we have done at the beginning, but we can also use the following generators"
   ]
  },
  {
   "cell_type": "code",
   "execution_count": null,
   "metadata": {},
   "outputs": [],
   "source": [
    "# we can create an array full of zeros with two rows and three columns\n",
    "np.zeros((2, 3))"
   ]
  },
  {
   "cell_type": "code",
   "execution_count": null,
   "metadata": {},
   "outputs": [],
   "source": [
    "# or we many need an array full of ones\n",
    "np.ones((4, 1)) "
   ]
  },
  {
   "cell_type": "markdown",
   "metadata": {},
   "source": [
    "___\n",
    "### Exercise 3.01\n",
    "A three-assets portfolio is represented by the vector of weights (`weights`) and the vector of the expected returns (`exp_ret`). Calculate the expected return of the portfolio `port_ret` by multiplying the two vectors. **HINT:** you should remember that if $w$ is the $(1\\times n)$ vector of portfolio weights and $r$ is the $(1\\times n)$ vector of asset returns, then the portfolio return is:\n",
    "\n",
    "$$ R = w \\times r^{T} $$\n",
    "\n",
    "where $^{T}$ indicates the transposed vector.\n",
    "\n",
    "**IMPORTANT**: please notice that while numpy arrays look like matrices, they behave differently. Most operations, such as multiplication, work element by element, rather than vector-wise. If you want to _\"multiply two vectors\"_ you need to use [np.dot()](https://numpy.org/doc/stable/reference/generated/numpy.dot.html), or alternatively [np.matmul()](https://numpy.org/doc/stable/reference/generated/numpy.matmul.html). You may also want to use the transpose function [np.transpose()](https://numpy.org/doc/stable/reference/generated/numpy.transpose.html)."
   ]
  },
  {
   "cell_type": "code",
   "execution_count": null,
   "metadata": {},
   "outputs": [],
   "source": [
    "weights = np.array([0.25, 0.50, 0.25])\n",
    "\n",
    "exp_ret = np.array([0.02, 0.08, 0.15])"
   ]
  },
  {
   "cell_type": "code",
   "execution_count": null,
   "metadata": {},
   "outputs": [],
   "source": [
    "port_ret = np.dot(weights,np.transpose(exp_ret))\n",
    "port_ret"
   ]
  },
  {
   "cell_type": "code",
   "execution_count": null,
   "metadata": {},
   "outputs": [],
   "source": [
    "\n"
   ]
  },
  {
   "cell_type": "markdown",
   "metadata": {},
   "source": [
    "If you have done your calculation correctly you should obtain an expected return of `0.0824999`.\n",
    "\n",
    "Calculate now the standard deviation of the portfolio (`port_vol`) knowing that `var_cov` is the variance-covariance matrix of the three assets. In case your portfolio matrix algebra is not super-fresh, remember that if $w$ is the $(1\\times n)$ weight vector and $\\Sigma$ is $(n\\times n)$ the variance-covariance matrix, then the portfolio variance is:\n",
    "$$ \\sigma^{2} = w\\cdot \\Sigma \\cdot w^{T} $$"
   ]
  },
  {
   "cell_type": "code",
   "execution_count": null,
   "metadata": {},
   "outputs": [],
   "source": [
    "var_cov = np.array([[0.00044597, 0.00035873, 0.00023459],\n",
    "                   [0.00035873, 0.00104901, 0.00103017],\n",
    "                   [0.00023459, 0.00103017, 0.00417047]])"
   ]
  },
  {
   "cell_type": "code",
   "execution_count": null,
   "metadata": {},
   "outputs": [],
   "source": [
    "port_vol = np.sqrt(np.dot(weights,np.dot(var_cov,np.transpose(weights))))\n",
    "port_vol"
   ]
  },
  {
   "cell_type": "markdown",
   "metadata": {},
   "source": [
    "And the result should be `0.03045`. PS: remember that the standard deviation is the square root of the variance!"
   ]
  }
 ],
 "metadata": {
  "kernelspec": {
   "display_name": "Python 3 (ipykernel)",
   "language": "python",
   "name": "python3"
  },
  "language_info": {
   "codemirror_mode": {
    "name": "ipython",
    "version": 3
   },
   "file_extension": ".py",
   "mimetype": "text/x-python",
   "name": "python",
   "nbconvert_exporter": "python",
   "pygments_lexer": "ipython3",
   "version": "3.11.4"
  }
 },
 "nbformat": 4,
 "nbformat_minor": 4
}
