{
 "cells": [
  {
   "cell_type": "markdown",
   "id": "3027c6a8-05d5-4cb0-9f85-75200fbda2de",
   "metadata": {},
   "source": [
    "# Week 5 - Coding Exercise\n",
    "This notebook **is the deliverable** for your weekly coding exercises. Below you will find the text of the exercise and the space to write your code. Feel free to **add additional code cells** if needed. \n",
    "\n",
    "## Completion Instructions\n",
    "1. You are allowed to add additional **cells**. \n",
    "1. Unless specified otherwise, you can use as many **intermediate steps** as you want to get to the final result of each point. We will only mark the final result.\n",
    "1. Some exercises will ask you to perform a calculation and assign the result to a variable with a **specific name**. Assigning the result to a variable with the wrong name will result in **0 marks** for that point.\n",
    "1. Some exercises will ask you to perform a calculation and assign the result to a variable of a **specific type** (number, Series, DataFrame, etc.). Assigning the result to a variable of the wrong type will result in **0 marks** for that point. You can check the type of an object with the function **[`type()`](https://www.codingem.com/type-of-in-python/)**.\n",
    "1. The **final result** of each point should be **shown on screen**. For example if you are asked to assign the result of a calculation to a number called `Total`, this number should be visible on screen. If the result is a DataFrame or Series you should show only a few rows with **[`df.head()`](https://pandas.pydata.org/docs/reference/api/pandas.DataFrame.head.html)** or, if more appropriate, **[`df.tail()`](https://pandas.pydata.org/docs/reference/api/pandas.DataFrame.tail.html)**. If a final result is not shown on screen, it will lead to **0 marks** for that point.\n",
    "1. You should not \"hard-code\" numbers into your calculations if this can be avoided. For example if you need to use the \"number of columns\" in a DataFrame in a calculation, you should use a command/function to calculate the number of columns and not simply count the columns and use `7` (a hard-coded number) in your calculations. Using hard-coded numbers when this is unnecessary may result in **0 marks** for that point. \n",
    "\n",
    "\n",
    "## Submission Instructions\n",
    "1. Do not change the **name of the file**. Canvas will automatically add your name and student ID to the file.\n",
    "1. Before submitting the notebook please **check that it runs properly** from top to bottom. To do this, save the file, close it, than re-open it and press the fast-forward button at the top of the notebook or _Restart and Run All Cells_ from the _Kernel_ menu. You can see a discussion of this in this [video](https://youtu.be/P0NyuTGddPo). If your file has a breaking error that does not allow to run the notebook from top to bottom you will receive a **penalty of 5 marks**. \n",
    "___"
   ]
  },
  {
   "cell_type": "markdown",
   "id": "117619cd-8306-4015-8d59-7a9db942f9bd",
   "metadata": {},
   "source": [
    "#### Identification\n",
    "Please enter your **name** and your **student ID** number in this markdown cell:\n",
    "\n",
    "* **Student Name:** Janet Yellen\n",
    "* **Student ID:** 123456\n",
    "\n",
    "Missing name or ID will result in **1 mark penalty**."
   ]
  },
  {
   "cell_type": "markdown",
   "id": "6cd185d7-6bd9-4494-bf4f-9de602ebc758",
   "metadata": {},
   "source": [
    "___\n",
    "#### Import Statements\n",
    "Add in the following cell all the import statements that you need to run the entire notebook. Import statements anywhere else in the notebook will result in a **penalty of 1 mark**."
   ]
  },
  {
   "cell_type": "code",
   "execution_count": 1,
   "id": "54d5ccc4-cfde-4a20-923b-cdde4e252ea0",
   "metadata": {},
   "outputs": [],
   "source": [
    "import numpy as np\n",
    "import pandas as pd\n",
    "from scipy import stats\n",
    "import matplotlib.pyplot as plt\n",
    "plt.style.use('bmh')\n",
    "%matplotlib inline"
   ]
  },
  {
   "cell_type": "markdown",
   "id": "805d758b-71f4-4b03-aa2f-68ade6d1ec81",
   "metadata": {},
   "source": [
    "___\n",
    "### Exercise CE5.01\n",
    "The file `CE5_HSI.csv` contains data on the value of the Hang Seng Index (Hong Kong Stock Market). Load its content into a DataFrame called `hsi_price`. Choose the appropriate index for this DataFrame and be sure that the column with the dates is properly recognized by Pandas as date values **[Point 1: 1 Mark]**."
   ]
  },
  {
   "cell_type": "code",
   "execution_count": 2,
   "id": "f32865c0-3efb-48d9-ae8b-3b6db34fb30a",
   "metadata": {},
   "outputs": [
    {
     "data": {
      "text/html": [
       "<div>\n",
       "<style scoped>\n",
       "    .dataframe tbody tr th:only-of-type {\n",
       "        vertical-align: middle;\n",
       "    }\n",
       "\n",
       "    .dataframe tbody tr th {\n",
       "        vertical-align: top;\n",
       "    }\n",
       "\n",
       "    .dataframe thead th {\n",
       "        text-align: right;\n",
       "    }\n",
       "</style>\n",
       "<table border=\"1\" class=\"dataframe\">\n",
       "  <thead>\n",
       "    <tr style=\"text-align: right;\">\n",
       "      <th></th>\n",
       "      <th>Price</th>\n",
       "    </tr>\n",
       "    <tr>\n",
       "      <th>Date</th>\n",
       "      <th></th>\n",
       "    </tr>\n",
       "  </thead>\n",
       "  <tbody>\n",
       "    <tr>\n",
       "      <th>1986-12-31</th>\n",
       "      <td>2568.300049</td>\n",
       "    </tr>\n",
       "    <tr>\n",
       "      <th>1987-01-02</th>\n",
       "      <td>2540.100098</td>\n",
       "    </tr>\n",
       "    <tr>\n",
       "      <th>1987-01-05</th>\n",
       "      <td>2552.399902</td>\n",
       "    </tr>\n",
       "    <tr>\n",
       "      <th>1987-01-06</th>\n",
       "      <td>2583.899902</td>\n",
       "    </tr>\n",
       "    <tr>\n",
       "      <th>1987-01-07</th>\n",
       "      <td>2607.100098</td>\n",
       "    </tr>\n",
       "  </tbody>\n",
       "</table>\n",
       "</div>"
      ],
      "text/plain": [
       "                  Price\n",
       "Date                   \n",
       "1986-12-31  2568.300049\n",
       "1987-01-02  2540.100098\n",
       "1987-01-05  2552.399902\n",
       "1987-01-06  2583.899902\n",
       "1987-01-07  2607.100098"
      ]
     },
     "execution_count": 2,
     "metadata": {},
     "output_type": "execute_result"
    }
   ],
   "source": [
    "hsi_price = pd.read_csv('CE5_HSI.csv', parse_dates=['Date']).set_index('Date')\n",
    "hsi_price.head()"
   ]
  },
  {
   "cell_type": "markdown",
   "id": "37c8bf16-4ff6-4069-9dd8-91160c38949f",
   "metadata": {},
   "source": [
    "Create a DataFrame called `past_returns` with a single column (titled `Past Return`) containing the (log) returns of the market over the previous 252 days. This may take a few intermediate steps, but at the end your object should have the following features **[Point 2: 1 Mark]**:\n",
    "- Be a DataFrame (not a Series)\n",
    "- Be indexed by Date\n",
    "- Have no missing values\n",
    "- Have a single column titled `Past Return`"
   ]
  },
  {
   "cell_type": "code",
   "execution_count": 3,
   "id": "f2c5d1ec-c79d-4c14-a62e-7cd66b7d7cf0",
   "metadata": {},
   "outputs": [
    {
     "data": {
      "text/html": [
       "<div>\n",
       "<style scoped>\n",
       "    .dataframe tbody tr th:only-of-type {\n",
       "        vertical-align: middle;\n",
       "    }\n",
       "\n",
       "    .dataframe tbody tr th {\n",
       "        vertical-align: top;\n",
       "    }\n",
       "\n",
       "    .dataframe thead th {\n",
       "        text-align: right;\n",
       "    }\n",
       "</style>\n",
       "<table border=\"1\" class=\"dataframe\">\n",
       "  <thead>\n",
       "    <tr style=\"text-align: right;\">\n",
       "      <th></th>\n",
       "      <th>Past Return</th>\n",
       "    </tr>\n",
       "    <tr>\n",
       "      <th>Date</th>\n",
       "      <th></th>\n",
       "    </tr>\n",
       "  </thead>\n",
       "  <tbody>\n",
       "    <tr>\n",
       "      <th>1988-01-11</th>\n",
       "      <td>-0.067442</td>\n",
       "    </tr>\n",
       "    <tr>\n",
       "      <th>1988-01-12</th>\n",
       "      <td>-0.039222</td>\n",
       "    </tr>\n",
       "    <tr>\n",
       "      <th>1988-01-13</th>\n",
       "      <td>-0.068338</td>\n",
       "    </tr>\n",
       "    <tr>\n",
       "      <th>1988-01-14</th>\n",
       "      <td>-0.069051</td>\n",
       "    </tr>\n",
       "    <tr>\n",
       "      <th>1988-01-15</th>\n",
       "      <td>-0.070430</td>\n",
       "    </tr>\n",
       "  </tbody>\n",
       "</table>\n",
       "</div>"
      ],
      "text/plain": [
       "            Past Return\n",
       "Date                   \n",
       "1988-01-11    -0.067442\n",
       "1988-01-12    -0.039222\n",
       "1988-01-13    -0.068338\n",
       "1988-01-14    -0.069051\n",
       "1988-01-15    -0.070430"
      ]
     },
     "execution_count": 3,
     "metadata": {},
     "output_type": "execute_result"
    }
   ],
   "source": [
    "past_returns = np.log(hsi_price / hsi_price.shift(252))\n",
    "past_returns.dropna(inplace=True)\n",
    "past_returns.rename(columns={'Price':'Past Return'}, inplace=True)\n",
    "past_returns.head()"
   ]
  },
  {
   "cell_type": "markdown",
   "id": "694eec21-8181-459b-a81d-fb2e87b7830c",
   "metadata": {},
   "source": [
    "Create a for loop that iterates over the numbers `21, 63, 126` and, for every iteration **[Point 3: 1 Mark]**:\n",
    "- Calculates the return of the market over the next `N` days with `N` being 21, 63 or 126.\n",
    "- Using the relevant function from [Scipy](https://scipy.org/) calculates the Pearson Correlation between `Past Return` and the returns of the market over the next `N` days.\n",
    "- Prints on screen a string that says: _Holding period: N, Correlation: xxx, P-Value: xxx_ (where xxx are the results of the Scypy function)"
   ]
  },
  {
   "cell_type": "code",
   "execution_count": 4,
   "id": "b0791d71-5d80-488c-b94d-84f4b0304b34",
   "metadata": {},
   "outputs": [
    {
     "name": "stdout",
     "output_type": "stream",
     "text": [
      "Holding period: 21, Correlation: -0.045551459313040096, P-Value: 2.1134862817712132e-05\n",
      "Holding period: 63, Correlation: -0.1114222279812427, P-Value: 2.3784559138385555e-25\n",
      "Holding period: 126, Correlation: -0.14019160968512795, P-Value: 5.113725051608849e-39\n"
     ]
    }
   ],
   "source": [
    "for future in [21, 63, 126]:\n",
    "    future_ret = np.log(hsi_price.shift(-future) / hsi_price)\n",
    "    future_ret.rename(columns={'Price':'Future Return'}, inplace=True)\n",
    "    future_ret.dropna(inplace=True)\n",
    "    temp = past_returns.join(future_ret, how='inner')\n",
    "    corr, pvalue = stats.pearsonr(temp['Past Return'], temp['Future Return'])\n",
    "    print(f'Holding period: {future}, Correlation: {corr}, P-Value: {pvalue}')"
   ]
  },
  {
   "cell_type": "markdown",
   "id": "3c1c554e-ac9e-46ee-b01d-84c4ed961aac",
   "metadata": {},
   "source": [
    "___\n",
    "### Exercise CE5.02\n",
    "The files `CE5_Futures_Prices.csv` and `CE5_Futures_Types.csv` contain the same data used in the Notebook 6B (Multi Asset Momentum). Load them in two DataFrames:\n",
    "- `fut_data`, with the content of `CE5_Futures_Prices.csv`, indexed by Name and Date.\n",
    "- `fut_types`, with the content of `CE5_Futures_Types.csv`, indexed in whichever way you want (no specific requirement)\n",
    "\n",
    "Create a DataFrame called `FX_rates` with the same structure as `fut_data` (same columns, index variables, etc.) but containing only the observations where the asset is a `Exchange Rate` type **[Point 4: 1 Mark]**."
   ]
  },
  {
   "cell_type": "code",
   "execution_count": 5,
   "id": "997ebdba-b176-4610-8c80-5128f3869fe3",
   "metadata": {},
   "outputs": [
    {
     "data": {
      "text/html": [
       "<div>\n",
       "<style scoped>\n",
       "    .dataframe tbody tr th:only-of-type {\n",
       "        vertical-align: middle;\n",
       "    }\n",
       "\n",
       "    .dataframe tbody tr th {\n",
       "        vertical-align: top;\n",
       "    }\n",
       "\n",
       "    .dataframe thead th {\n",
       "        text-align: right;\n",
       "    }\n",
       "</style>\n",
       "<table border=\"1\" class=\"dataframe\">\n",
       "  <thead>\n",
       "    <tr style=\"text-align: right;\">\n",
       "      <th></th>\n",
       "      <th></th>\n",
       "      <th>Price</th>\n",
       "    </tr>\n",
       "    <tr>\n",
       "      <th>Name</th>\n",
       "      <th>Date</th>\n",
       "      <th></th>\n",
       "    </tr>\n",
       "  </thead>\n",
       "  <tbody>\n",
       "    <tr>\n",
       "      <th rowspan=\"5\" valign=\"top\">AEX</th>\n",
       "      <th>1983-01-31</th>\n",
       "      <td>48.37</td>\n",
       "    </tr>\n",
       "    <tr>\n",
       "      <th>1983-02-28</th>\n",
       "      <td>51.26</td>\n",
       "    </tr>\n",
       "    <tr>\n",
       "      <th>1983-03-31</th>\n",
       "      <td>60.24</td>\n",
       "    </tr>\n",
       "    <tr>\n",
       "      <th>1983-04-29</th>\n",
       "      <td>57.42</td>\n",
       "    </tr>\n",
       "    <tr>\n",
       "      <th>1983-05-31</th>\n",
       "      <td>58.88</td>\n",
       "    </tr>\n",
       "  </tbody>\n",
       "</table>\n",
       "</div>"
      ],
      "text/plain": [
       "                 Price\n",
       "Name Date             \n",
       "AEX  1983-01-31  48.37\n",
       "     1983-02-28  51.26\n",
       "     1983-03-31  60.24\n",
       "     1983-04-29  57.42\n",
       "     1983-05-31  58.88"
      ]
     },
     "execution_count": 5,
     "metadata": {},
     "output_type": "execute_result"
    }
   ],
   "source": [
    "fut_data = pd.read_csv('CE5_Futures_Prices.csv', parse_dates=['Date']).set_index(['Name', 'Date'])\n",
    "fut_data.head()"
   ]
  },
  {
   "cell_type": "code",
   "execution_count": 6,
   "id": "6c5515da-c463-4de4-9d14-d4e0919c6536",
   "metadata": {},
   "outputs": [
    {
     "data": {
      "text/html": [
       "<div>\n",
       "<style scoped>\n",
       "    .dataframe tbody tr th:only-of-type {\n",
       "        vertical-align: middle;\n",
       "    }\n",
       "\n",
       "    .dataframe tbody tr th {\n",
       "        vertical-align: top;\n",
       "    }\n",
       "\n",
       "    .dataframe thead th {\n",
       "        text-align: right;\n",
       "    }\n",
       "</style>\n",
       "<table border=\"1\" class=\"dataframe\">\n",
       "  <thead>\n",
       "    <tr style=\"text-align: right;\">\n",
       "      <th></th>\n",
       "      <th>Type</th>\n",
       "    </tr>\n",
       "    <tr>\n",
       "      <th>Name</th>\n",
       "      <th></th>\n",
       "    </tr>\n",
       "  </thead>\n",
       "  <tbody>\n",
       "    <tr>\n",
       "      <th>AUS10Y</th>\n",
       "      <td>Bonds</td>\n",
       "    </tr>\n",
       "    <tr>\n",
       "      <th>AUS3Y</th>\n",
       "      <td>Bonds</td>\n",
       "    </tr>\n",
       "    <tr>\n",
       "      <th>CAN10Y</th>\n",
       "      <td>Bonds</td>\n",
       "    </tr>\n",
       "    <tr>\n",
       "      <th>GER10Y</th>\n",
       "      <td>Bonds</td>\n",
       "    </tr>\n",
       "    <tr>\n",
       "      <th>ITA10Y</th>\n",
       "      <td>Bonds</td>\n",
       "    </tr>\n",
       "  </tbody>\n",
       "</table>\n",
       "</div>"
      ],
      "text/plain": [
       "         Type\n",
       "Name         \n",
       "AUS10Y  Bonds\n",
       "AUS3Y   Bonds\n",
       "CAN10Y  Bonds\n",
       "GER10Y  Bonds\n",
       "ITA10Y  Bonds"
      ]
     },
     "execution_count": 6,
     "metadata": {},
     "output_type": "execute_result"
    }
   ],
   "source": [
    "fut_types = pd.read_csv('CE5_Futures_Types.csv').set_index('Name')\n",
    "fut_types.head()"
   ]
  },
  {
   "cell_type": "code",
   "execution_count": 7,
   "id": "48344e8d-c3ec-416c-a741-3598c60467ba",
   "metadata": {},
   "outputs": [
    {
     "data": {
      "text/html": [
       "<div>\n",
       "<style scoped>\n",
       "    .dataframe tbody tr th:only-of-type {\n",
       "        vertical-align: middle;\n",
       "    }\n",
       "\n",
       "    .dataframe tbody tr th {\n",
       "        vertical-align: top;\n",
       "    }\n",
       "\n",
       "    .dataframe thead th {\n",
       "        text-align: right;\n",
       "    }\n",
       "</style>\n",
       "<table border=\"1\" class=\"dataframe\">\n",
       "  <thead>\n",
       "    <tr style=\"text-align: right;\">\n",
       "      <th></th>\n",
       "      <th></th>\n",
       "      <th>Price</th>\n",
       "    </tr>\n",
       "    <tr>\n",
       "      <th>Name</th>\n",
       "      <th>Date</th>\n",
       "      <th></th>\n",
       "    </tr>\n",
       "  </thead>\n",
       "  <tbody>\n",
       "    <tr>\n",
       "      <th rowspan=\"5\" valign=\"top\">AUDJPY</th>\n",
       "      <th>1980-01-31</th>\n",
       "      <td>264.832706</td>\n",
       "    </tr>\n",
       "    <tr>\n",
       "      <th>1980-02-29</th>\n",
       "      <td>276.113646</td>\n",
       "    </tr>\n",
       "    <tr>\n",
       "      <th>1980-03-31</th>\n",
       "      <td>269.633762</td>\n",
       "    </tr>\n",
       "    <tr>\n",
       "      <th>1980-04-30</th>\n",
       "      <td>266.875961</td>\n",
       "    </tr>\n",
       "    <tr>\n",
       "      <th>1980-05-30</th>\n",
       "      <td>256.176720</td>\n",
       "    </tr>\n",
       "  </tbody>\n",
       "</table>\n",
       "</div>"
      ],
      "text/plain": [
       "                        Price\n",
       "Name   Date                  \n",
       "AUDJPY 1980-01-31  264.832706\n",
       "       1980-02-29  276.113646\n",
       "       1980-03-31  269.633762\n",
       "       1980-04-30  266.875961\n",
       "       1980-05-30  256.176720"
      ]
     },
     "execution_count": 7,
     "metadata": {},
     "output_type": "execute_result"
    }
   ],
   "source": [
    "FX_rates = fut_data.join(fut_types)\n",
    "FX_rates = FX_rates[FX_rates['Type']=='Exchange Rate']\n",
    "FX_rates = FX_rates.drop(columns=['Type'])\n",
    "FX_rates.head()"
   ]
  },
  {
   "cell_type": "markdown",
   "id": "01725421-12a5-441e-87a5-1d24b39b2396",
   "metadata": {},
   "source": [
    "Add a column called `Past Return` to `FX_rates` with the return of the asset in the previous 6 months. Add another column called `Position` to `FX_rates` with `1` if `Past Return` is negative (a contrarian strategy) and `-1` if the return is positive (or equal to 0). Remember to drop all the observations where the past return is missing **[Point 5: 1 Mark]**."
   ]
  },
  {
   "cell_type": "code",
   "execution_count": 8,
   "id": "42d13aba-b8a6-47e0-85c4-29ce6a434be7",
   "metadata": {},
   "outputs": [
    {
     "data": {
      "text/html": [
       "<div>\n",
       "<style scoped>\n",
       "    .dataframe tbody tr th:only-of-type {\n",
       "        vertical-align: middle;\n",
       "    }\n",
       "\n",
       "    .dataframe tbody tr th {\n",
       "        vertical-align: top;\n",
       "    }\n",
       "\n",
       "    .dataframe thead th {\n",
       "        text-align: right;\n",
       "    }\n",
       "</style>\n",
       "<table border=\"1\" class=\"dataframe\">\n",
       "  <thead>\n",
       "    <tr style=\"text-align: right;\">\n",
       "      <th></th>\n",
       "      <th></th>\n",
       "      <th>Price</th>\n",
       "      <th>Past Return</th>\n",
       "      <th>Position</th>\n",
       "    </tr>\n",
       "    <tr>\n",
       "      <th>Name</th>\n",
       "      <th>Date</th>\n",
       "      <th></th>\n",
       "      <th></th>\n",
       "      <th></th>\n",
       "    </tr>\n",
       "  </thead>\n",
       "  <tbody>\n",
       "    <tr>\n",
       "      <th rowspan=\"10\" valign=\"top\">AUDJPY</th>\n",
       "      <th>1980-07-31</th>\n",
       "      <td>262.632427</td>\n",
       "      <td>-0.008343</td>\n",
       "      <td>1</td>\n",
       "    </tr>\n",
       "    <tr>\n",
       "      <th>1980-08-29</th>\n",
       "      <td>255.674662</td>\n",
       "      <td>-0.076907</td>\n",
       "      <td>1</td>\n",
       "    </tr>\n",
       "    <tr>\n",
       "      <th>1980-09-30</th>\n",
       "      <td>246.766015</td>\n",
       "      <td>-0.088624</td>\n",
       "      <td>1</td>\n",
       "    </tr>\n",
       "    <tr>\n",
       "      <th>1980-10-31</th>\n",
       "      <td>247.590008</td>\n",
       "      <td>-0.075010</td>\n",
       "      <td>1</td>\n",
       "    </tr>\n",
       "    <tr>\n",
       "      <th>1980-11-28</th>\n",
       "      <td>252.023388</td>\n",
       "      <td>-0.016346</td>\n",
       "      <td>1</td>\n",
       "    </tr>\n",
       "    <tr>\n",
       "      <th>1980-12-31</th>\n",
       "      <td>239.813393</td>\n",
       "      <td>-0.057422</td>\n",
       "      <td>1</td>\n",
       "    </tr>\n",
       "    <tr>\n",
       "      <th>1981-01-30</th>\n",
       "      <td>240.692865</td>\n",
       "      <td>-0.087234</td>\n",
       "      <td>1</td>\n",
       "    </tr>\n",
       "    <tr>\n",
       "      <th>1981-02-27</th>\n",
       "      <td>243.289483</td>\n",
       "      <td>-0.049654</td>\n",
       "      <td>1</td>\n",
       "    </tr>\n",
       "    <tr>\n",
       "      <th>1981-03-31</th>\n",
       "      <td>246.617252</td>\n",
       "      <td>-0.000603</td>\n",
       "      <td>1</td>\n",
       "    </tr>\n",
       "    <tr>\n",
       "      <th>1981-04-30</th>\n",
       "      <td>247.517662</td>\n",
       "      <td>-0.000292</td>\n",
       "      <td>1</td>\n",
       "    </tr>\n",
       "  </tbody>\n",
       "</table>\n",
       "</div>"
      ],
      "text/plain": [
       "                        Price  Past Return  Position\n",
       "Name   Date                                         \n",
       "AUDJPY 1980-07-31  262.632427    -0.008343         1\n",
       "       1980-08-29  255.674662    -0.076907         1\n",
       "       1980-09-30  246.766015    -0.088624         1\n",
       "       1980-10-31  247.590008    -0.075010         1\n",
       "       1980-11-28  252.023388    -0.016346         1\n",
       "       1980-12-31  239.813393    -0.057422         1\n",
       "       1981-01-30  240.692865    -0.087234         1\n",
       "       1981-02-27  243.289483    -0.049654         1\n",
       "       1981-03-31  246.617252    -0.000603         1\n",
       "       1981-04-30  247.517662    -0.000292         1"
      ]
     },
     "execution_count": 8,
     "metadata": {},
     "output_type": "execute_result"
    }
   ],
   "source": [
    "FX_rates['Past Return'] = np.log(FX_rates['Price'] / FX_rates['Price'].groupby('Name').shift(6))\n",
    "FX_rates['Position'] = np.where(FX_rates['Past Return']<0,1,-1)\n",
    "FX_rates.dropna(inplace=True)\n",
    "FX_rates.head(10)"
   ]
  },
  {
   "cell_type": "markdown",
   "id": "0deec24b-8372-473d-8ea6-6296c34f0db2",
   "metadata": {},
   "source": [
    "A position equal to `-1` means that for that month the portfolio is selling that asset short. Create a line graph that shows, for every date, how many assets have a position equal to `-1`. The chart should have **[Point 6: 1 Mark]**:\n",
    "- Size of 12x6\n",
    "- Title: _\"Shorted Assets\"_\n",
    "- Label on Horizontal Axis: _\"Investment Period\"_\n",
    "- Label on Vertical Axis: _\"N. of Assets\"_\n",
    "- Line Color: Green"
   ]
  },
  {
   "cell_type": "code",
   "execution_count": 9,
   "id": "0e91f0c5-a7ec-4bd3-882c-54ac01b4db36",
   "metadata": {},
   "outputs": [
    {
     "data": {
      "text/plain": [
       "Date\n",
       "1980-07-31    7\n",
       "1980-08-29    7\n",
       "1980-09-30    5\n",
       "1980-10-31    6\n",
       "1980-11-28    7\n",
       "Name: Position, dtype: int64"
      ]
     },
     "execution_count": 9,
     "metadata": {},
     "output_type": "execute_result"
    }
   ],
   "source": [
    "short_pos = FX_rates['Position'] == -1\n",
    "short_pos = short_pos.groupby('Date').sum()\n",
    "short_pos.head()"
   ]
  },
  {
   "cell_type": "code",
   "execution_count": 10,
   "id": "af7a9f0a-3cf7-4e72-8155-2803a1020535",
   "metadata": {},
   "outputs": [
    {
     "data": {
      "text/plain": [
       "<Axes: title={'center': 'Shorted Assets'}, xlabel='Investment Period', ylabel='N. of Assets'>"
      ]
     },
     "execution_count": 10,
     "metadata": {},
     "output_type": "execute_result"
    },
    {
     "data": {
      "image/png": "[encoded data removed]",
      "text/plain": [
       "<Figure size 1200x600 with 1 Axes>"
      ]
     },
     "metadata": {},
     "output_type": "display_data"
    }
   ],
   "source": [
    "short_pos.plot(kind='line',\n",
    "             figsize=(12,6),\n",
    "             title = 'Shorted Assets',\n",
    "             ylabel = 'N. of Assets',\n",
    "             xlabel='Investment Period',\n",
    "             color='green')"
   ]
  },
  {
   "cell_type": "markdown",
   "id": "796bd33b-20dc-4719-b86a-46d43e0196d3",
   "metadata": {},
   "source": [
    "Create two series, one called `average_long_return`, and one called `average_short_return`, both indexed by `Date`. These series should have, for every date, the average `past_return` of all the assets held long (for `average_long_return`) and those that are held short (for `average_short_return`) **[Point 7: 1 Mark]**. "
   ]
  },
  {
   "cell_type": "code",
   "execution_count": 11,
   "id": "9d1ea6e7",
   "metadata": {
    "scrolled": false
   },
   "outputs": [
    {
     "data": {
      "text/plain": [
       "Date\n",
       "1980-07-31   -0.044440\n",
       "1980-08-29   -0.124144\n",
       "1980-09-30   -0.089147\n",
       "1980-10-31   -0.095669\n",
       "1980-11-28   -0.053001\n",
       "Name: Past Return, dtype: float64"
      ]
     },
     "execution_count": 11,
     "metadata": {},
     "output_type": "execute_result"
    }
   ],
   "source": [
    "average_long_return = FX_rates[FX_rates['Position']==1].groupby('Date')['Past Return'].mean()\n",
    "average_long_return.head()"
   ]
  },
  {
   "cell_type": "code",
   "execution_count": 12,
   "id": "bff0e485",
   "metadata": {
    "scrolled": true
   },
   "outputs": [
    {
     "data": {
      "text/plain": [
       "Date\n",
       "1980-07-31    0.033220\n",
       "1980-08-29    0.045208\n",
       "1980-09-30    0.065233\n",
       "1980-10-31    0.060723\n",
       "1980-11-28    0.041466\n",
       "Name: Past Return, dtype: float64"
      ]
     },
     "execution_count": 12,
     "metadata": {},
     "output_type": "execute_result"
    }
   ],
   "source": [
    "average_short_return = FX_rates[FX_rates['Position']==-1].groupby('Date')['Past Return'].mean()\n",
    "average_short_return.head()"
   ]
  },
  {
   "cell_type": "markdown",
   "id": "d77e4aa2",
   "metadata": {},
   "source": [
    "___\n",
    "### Exercise CE5.03\n",
    "Again, the files `CE5_Futures_Prices.csv` and `CE5_Futures_Types.csv` contain the same data used in the Notebook 6B (Multi Asset Momentum). If not already done so, load them in two DataFrames:\n",
    "- `fut_data`, with the content of `CE5_Futures_Prices.csv`, indexed by Name and Date.\n",
    "- `fut_types` with the content of `CE5_Futures_Types.csv`, indexed in whichever way you want (no specific requirement)\n",
    "\n",
    "Add to `fut_data` a new column called `type` (lowercase) containing the \"type\" of the asset (Bonds, Equity, Commodity, etc.) **[Point 8: 1 Mark]**."
   ]
  },
  {
   "cell_type": "code",
   "execution_count": 13,
   "id": "b6cb5cda",
   "metadata": {
    "scrolled": false
   },
   "outputs": [
    {
     "data": {
      "text/html": [
       "<div>\n",
       "<style scoped>\n",
       "    .dataframe tbody tr th:only-of-type {\n",
       "        vertical-align: middle;\n",
       "    }\n",
       "\n",
       "    .dataframe tbody tr th {\n",
       "        vertical-align: top;\n",
       "    }\n",
       "\n",
       "    .dataframe thead th {\n",
       "        text-align: right;\n",
       "    }\n",
       "</style>\n",
       "<table border=\"1\" class=\"dataframe\">\n",
       "  <thead>\n",
       "    <tr style=\"text-align: right;\">\n",
       "      <th></th>\n",
       "      <th></th>\n",
       "      <th>Price</th>\n",
       "      <th>type</th>\n",
       "    </tr>\n",
       "    <tr>\n",
       "      <th>Name</th>\n",
       "      <th>Date</th>\n",
       "      <th></th>\n",
       "      <th></th>\n",
       "    </tr>\n",
       "  </thead>\n",
       "  <tbody>\n",
       "    <tr>\n",
       "      <th rowspan=\"5\" valign=\"top\">AEX</th>\n",
       "      <th>1983-01-31</th>\n",
       "      <td>48.37</td>\n",
       "      <td>Equity</td>\n",
       "    </tr>\n",
       "    <tr>\n",
       "      <th>1983-02-28</th>\n",
       "      <td>51.26</td>\n",
       "      <td>Equity</td>\n",
       "    </tr>\n",
       "    <tr>\n",
       "      <th>1983-03-31</th>\n",
       "      <td>60.24</td>\n",
       "      <td>Equity</td>\n",
       "    </tr>\n",
       "    <tr>\n",
       "      <th>1983-04-29</th>\n",
       "      <td>57.42</td>\n",
       "      <td>Equity</td>\n",
       "    </tr>\n",
       "    <tr>\n",
       "      <th>1983-05-31</th>\n",
       "      <td>58.88</td>\n",
       "      <td>Equity</td>\n",
       "    </tr>\n",
       "  </tbody>\n",
       "</table>\n",
       "</div>"
      ],
      "text/plain": [
       "                 Price    type\n",
       "Name Date                     \n",
       "AEX  1983-01-31  48.37  Equity\n",
       "     1983-02-28  51.26  Equity\n",
       "     1983-03-31  60.24  Equity\n",
       "     1983-04-29  57.42  Equity\n",
       "     1983-05-31  58.88  Equity"
      ]
     },
     "execution_count": 13,
     "metadata": {},
     "output_type": "execute_result"
    }
   ],
   "source": [
    "fut_data = pd.read_csv('CE5_Futures_Prices.csv', parse_dates=['Date']).set_index(['Name', 'Date'])\n",
    "fut_types = pd.read_csv('CE5_Futures_Types.csv').set_index('Name')\n",
    "\n",
    "fut_data = fut_data.join(fut_types)\n",
    "fut_data.rename(columns={'Type':'type'}, inplace=True)\n",
    "fut_data.head()"
   ]
  },
  {
   "cell_type": "markdown",
   "id": "ecfd5d4c",
   "metadata": {},
   "source": [
    "Create a new DataFrame called `sample_size` indexed by Date and type with a single column containing the number of available assets for that specific date and type. The resulting object should **[Point 9: 1 Mark]**:\n",
    "- Be a DataFrame\n",
    "- Be indexed by Date and type\n",
    "- Have a single column called _\"Assets\"_\n",
    "- The columns should contain, for each date and type of asset, the number of available assets."
   ]
  },
  {
   "cell_type": "code",
   "execution_count": 14,
   "id": "daedaa79",
   "metadata": {
    "scrolled": true
   },
   "outputs": [
    {
     "data": {
      "text/html": [
       "<div>\n",
       "<style scoped>\n",
       "    .dataframe tbody tr th:only-of-type {\n",
       "        vertical-align: middle;\n",
       "    }\n",
       "\n",
       "    .dataframe tbody tr th {\n",
       "        vertical-align: top;\n",
       "    }\n",
       "\n",
       "    .dataframe thead th {\n",
       "        text-align: right;\n",
       "    }\n",
       "</style>\n",
       "<table border=\"1\" class=\"dataframe\">\n",
       "  <thead>\n",
       "    <tr style=\"text-align: right;\">\n",
       "      <th></th>\n",
       "      <th></th>\n",
       "      <th>Assets</th>\n",
       "    </tr>\n",
       "    <tr>\n",
       "      <th>Date</th>\n",
       "      <th>type</th>\n",
       "      <th></th>\n",
       "    </tr>\n",
       "  </thead>\n",
       "  <tbody>\n",
       "    <tr>\n",
       "      <th rowspan=\"3\" valign=\"top\">1980-01-31</th>\n",
       "      <th>Commodity</th>\n",
       "      <td>23</td>\n",
       "    </tr>\n",
       "    <tr>\n",
       "      <th>Exchange Rate</th>\n",
       "      <td>10</td>\n",
       "    </tr>\n",
       "    <tr>\n",
       "      <th>Equity</th>\n",
       "      <td>1</td>\n",
       "    </tr>\n",
       "    <tr>\n",
       "      <th rowspan=\"2\" valign=\"top\">1980-02-29</th>\n",
       "      <th>Commodity</th>\n",
       "      <td>23</td>\n",
       "    </tr>\n",
       "    <tr>\n",
       "      <th>Exchange Rate</th>\n",
       "      <td>10</td>\n",
       "    </tr>\n",
       "  </tbody>\n",
       "</table>\n",
       "</div>"
      ],
      "text/plain": [
       "                          Assets\n",
       "Date       type                 \n",
       "1980-01-31 Commodity          23\n",
       "           Exchange Rate      10\n",
       "           Equity              1\n",
       "1980-02-29 Commodity          23\n",
       "           Exchange Rate      10"
      ]
     },
     "execution_count": 14,
     "metadata": {},
     "output_type": "execute_result"
    }
   ],
   "source": [
    "sample_size = fut_data.groupby('Date')['type'].value_counts().to_frame()\n",
    "sample_size.rename(columns={'type':'Assets'}, inplace=True)\n",
    "sample_size.head()"
   ]
  },
  {
   "cell_type": "markdown",
   "id": "332fccb7",
   "metadata": {},
   "source": [
    "Your Boss appreciates your effort but does not like the way the data is displayed. Use the method **[`DataFrame.unstack()`](https://pandas.pydata.org/docs/reference/api/pandas.DataFrame.unstack.html)** to create a new DataFrame called `sample_size_v2` where `type` is no longer in the index, but appears as different columns. The final result will be:\n",
    "- A DataFrame indexed by Date\n",
    "- With 4 columns (one for each type of assets)\n",
    "\n",
    "In this DataFrame use the method **[`DataFrame.fillna()`](https://pandas.pydata.org/docs/reference/api/pandas.DataFrame.fillna.html)** to replace all the missing values with `0` **[Point 10: 1 Mark]**."
   ]
  },
  {
   "cell_type": "code",
   "execution_count": 15,
   "id": "7ad3222b",
   "metadata": {},
   "outputs": [
    {
     "data": {
      "text/html": [
       "<div>\n",
       "<style scoped>\n",
       "    .dataframe tbody tr th:only-of-type {\n",
       "        vertical-align: middle;\n",
       "    }\n",
       "\n",
       "    .dataframe tbody tr th {\n",
       "        vertical-align: top;\n",
       "    }\n",
       "\n",
       "    .dataframe thead tr th {\n",
       "        text-align: left;\n",
       "    }\n",
       "\n",
       "    .dataframe thead tr:last-of-type th {\n",
       "        text-align: right;\n",
       "    }\n",
       "</style>\n",
       "<table border=\"1\" class=\"dataframe\">\n",
       "  <thead>\n",
       "    <tr>\n",
       "      <th></th>\n",
       "      <th colspan=\"4\" halign=\"left\">Assets</th>\n",
       "    </tr>\n",
       "    <tr>\n",
       "      <th>type</th>\n",
       "      <th>Bonds</th>\n",
       "      <th>Commodity</th>\n",
       "      <th>Equity</th>\n",
       "      <th>Exchange Rate</th>\n",
       "    </tr>\n",
       "    <tr>\n",
       "      <th>Date</th>\n",
       "      <th></th>\n",
       "      <th></th>\n",
       "      <th></th>\n",
       "      <th></th>\n",
       "    </tr>\n",
       "  </thead>\n",
       "  <tbody>\n",
       "    <tr>\n",
       "      <th>1980-01-31</th>\n",
       "      <td>0.0</td>\n",
       "      <td>23.0</td>\n",
       "      <td>1.0</td>\n",
       "      <td>10.0</td>\n",
       "    </tr>\n",
       "    <tr>\n",
       "      <th>1980-02-29</th>\n",
       "      <td>0.0</td>\n",
       "      <td>23.0</td>\n",
       "      <td>1.0</td>\n",
       "      <td>10.0</td>\n",
       "    </tr>\n",
       "    <tr>\n",
       "      <th>1980-03-31</th>\n",
       "      <td>0.0</td>\n",
       "      <td>23.0</td>\n",
       "      <td>1.0</td>\n",
       "      <td>10.0</td>\n",
       "    </tr>\n",
       "    <tr>\n",
       "      <th>1980-04-30</th>\n",
       "      <td>0.0</td>\n",
       "      <td>23.0</td>\n",
       "      <td>1.0</td>\n",
       "      <td>10.0</td>\n",
       "    </tr>\n",
       "    <tr>\n",
       "      <th>1980-05-30</th>\n",
       "      <td>0.0</td>\n",
       "      <td>23.0</td>\n",
       "      <td>1.0</td>\n",
       "      <td>10.0</td>\n",
       "    </tr>\n",
       "  </tbody>\n",
       "</table>\n",
       "</div>"
      ],
      "text/plain": [
       "           Assets                               \n",
       "type        Bonds Commodity Equity Exchange Rate\n",
       "Date                                            \n",
       "1980-01-31    0.0      23.0    1.0          10.0\n",
       "1980-02-29    0.0      23.0    1.0          10.0\n",
       "1980-03-31    0.0      23.0    1.0          10.0\n",
       "1980-04-30    0.0      23.0    1.0          10.0\n",
       "1980-05-30    0.0      23.0    1.0          10.0"
      ]
     },
     "execution_count": 15,
     "metadata": {},
     "output_type": "execute_result"
    }
   ],
   "source": [
    "sample_size_v2 = sample_size.unstack(1)\n",
    "sample_size_v2 = sample_size_v2.fillna(0)\n",
    "sample_size_v2.head()"
   ]
  }
 ],
 "metadata": {
  "kernelspec": {
   "display_name": "Python 3 (ipykernel)",
   "language": "python",
   "name": "python3"
  },
  "language_info": {
   "codemirror_mode": {
    "name": "ipython",
    "version": 3
   },
   "file_extension": ".py",
   "mimetype": "text/x-python",
   "name": "python",
   "nbconvert_exporter": "python",
   "pygments_lexer": "ipython3",
   "version": "3.11.4"
  }
 },
 "nbformat": 4,
 "nbformat_minor": 5
}
