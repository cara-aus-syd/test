{
 "cells": [
  {
   "cell_type": "markdown",
   "id": "3027c6a8-05d5-4cb0-9f85-75200fbda2de",
   "metadata": {},
   "source": [
    "# Week 5 - Coding Exercise\n",
    "This notebook **is the deliverable** for your weekly coding exercises. Below you will find the text of the exercise and the space to write your code. Feel free to **add additional code cells** if needed. \n",
    "\n",
    "## Completion Instructions\n",
    "1. You are allowed to add additional **cells**. \n",
    "1. Unless specified otherwise, you can use as many **intermediate steps** as you want to get to the final result of each point. We will only mark the final result.\n",
    "1. Some exercises will ask you to perform a calculation and assign the result to a variable with a **specific name**. Assigning the result to a variable with the wrong name will result in **0 marks** for that point.\n",
    "1. Some exercises will ask you to perform a calculation and assign the result to a variable of a **specific type** (number, Series, DataFrame, etc.). Assigning the result to a variable of the wrong type will result in **0 marks** for that point. You can check the type of an object with the function **[`type()`](https://www.codingem.com/type-of-in-python/)**.\n",
    "1. The **final result** of each point should be **shown on screen**. For example if you are asked to assign the result of a calculation to a number called `Total`, this number should be visible on screen. If the result is a DataFrame or Series you should show only a few rows with **[`df.head()`](https://pandas.pydata.org/docs/reference/api/pandas.DataFrame.head.html)** or, if more appropriate, **[`df.tail()`](https://pandas.pydata.org/docs/reference/api/pandas.DataFrame.tail.html)**. If a final result is not shown on screen, it will lead to **0 marks** for that point.\n",
    "1. You should not \"hard-code\" numbers into your calculations if this can be avoided. For example if you need to use the \"number of columns\" in a DataFrame in a calculation, you should use a command/function to calculate the number of columns and not simply count the columns and use `7` (a hard-coded number) in your calculations. Using hard-coded numbers when this is unnecessary may result in **0 marks** for that point. \n",
    "\n",
    "\n",
    "## Submission Instructions\n",
    "1. Do not change the **name of the file**. Canvas will automatically add your name and student ID to the file.\n",
    "1. Before submitting the notebook please **check that it runs properly** from top to bottom. To do this, save the file, close it, than re-open it and press the fast-forward button at the top of the notebook or _Restart and Run All Cells_ from the _Kernel_ menu. You can see a discussion of this in this [video](https://youtu.be/P0NyuTGddPo). If your file has a breaking error that does not allow to run the notebook from top to bottom you will receive a **penalty of 5 marks**. \n",
    "___"
   ]
  },
  {
   "cell_type": "markdown",
   "id": "117619cd-8306-4015-8d59-7a9db942f9bd",
   "metadata": {},
   "source": [
    "#### Identification\n",
    "Please enter your **name** and your **student ID** number in this markdown cell:\n",
    "\n",
    "* **Student Name:** XXXXXX\n",
    "* **Student ID:** XXXXXX\n",
    "\n",
    "Missing name or ID will result in **1 mark penalty**."
   ]
  },
  {
   "cell_type": "markdown",
   "id": "6cd185d7-6bd9-4494-bf4f-9de602ebc758",
   "metadata": {},
   "source": [
    "___\n",
    "#### Import Statements\n",
    "Add in the following cell all the import statements that you need to run the entire notebook. Import statements anywhere else in the notebook will result in a **penalty of 1 mark**."
   ]
  },
  {
   "cell_type": "code",
   "execution_count": null,
   "id": "54d5ccc4-cfde-4a20-923b-cdde4e252ea0",
   "metadata": {},
   "outputs": [],
   "source": []
  },
  {
   "cell_type": "markdown",
   "id": "805d758b-71f4-4b03-aa2f-68ade6d1ec81",
   "metadata": {},
   "source": [
    "___\n",
    "### Exercise CE5.01\n",
    "The file `CE5_HSI.csv` contains data on the value of the Hang Seng Index (Hong Kong Stock Market). Load its content into a DataFrame called `hsi_price`. Choose the appropriate index for this DataFrame and be sure that the column with the dates is properly recognized by Pandas as date values **[Point 1: 1 Mark]**."
   ]
  },
  {
   "cell_type": "code",
   "execution_count": null,
   "id": "f32865c0-3efb-48d9-ae8b-3b6db34fb30a",
   "metadata": {},
   "outputs": [],
   "source": []
  },
  {
   "cell_type": "markdown",
   "id": "37c8bf16-4ff6-4069-9dd8-91160c38949f",
   "metadata": {},
   "source": [
    "Create a DataFrame called `past_returns` with a single column (titled `Past Return`) containing the (log) returns of the market over the previous 252 days. This may take a few intermediate steps, but at the end your object should have the following features **[Point 2: 1 Mark]**:\n",
    "- Be a DataFrame (not a Series)\n",
    "- Be indexed by Date\n",
    "- Have no missing values\n",
    "- Have a single column titled `Past Return`"
   ]
  },
  {
   "cell_type": "code",
   "execution_count": null,
   "id": "f2c5d1ec-c79d-4c14-a62e-7cd66b7d7cf0",
   "metadata": {},
   "outputs": [],
   "source": []
  },
  {
   "cell_type": "markdown",
   "id": "694eec21-8181-459b-a81d-fb2e87b7830c",
   "metadata": {},
   "source": [
    "Create a for loop that iterates over the numbers `21, 63, 126` and, for every iteration **[Point 3: 1 Mark]**:\n",
    "- Calculates the return of the market over the next `N` days with `N` being 21, 63 or 126.\n",
    "- Using the relevant function from [Scipy](https://scipy.org/) calculates the Pearson Correlation between `Past Return` and the returns of the market over the next `N` days.\n",
    "- Prints on screen a string that says: _Holding period: N, Correlation: xxx, P-Value: xxx_ (where xxx are the results of the Scypy function)"
   ]
  },
  {
   "cell_type": "code",
   "execution_count": null,
   "id": "b0791d71-5d80-488c-b94d-84f4b0304b34",
   "metadata": {},
   "outputs": [],
   "source": []
  },
  {
   "cell_type": "markdown",
   "id": "3c1c554e-ac9e-46ee-b01d-84c4ed961aac",
   "metadata": {},
   "source": [
    "___\n",
    "### Exercise CE5.02\n",
    "The files `CE5_Futures_Prices.csv` and `CE5_Futures_Types.csv` contain the same data used in the Notebook 6B (Multi Asset Momentum). Load them in two DataFrames:\n",
    "- `fut_data`, with the content of `CE5_Futures_Prices.csv`, indexed by Name and Date.\n",
    "- `fut_types`, with the content of `CE5_Futures_Types.csv`, indexed in whichever way you want (no specific requirement)\n",
    "\n",
    "Create a DataFrame called `FX_rates` with the same structure as `fut_data` (same columns, index variables, etc.) but containing only the observations where the asset is a `Exchange Rate` type **[Point 4: 1 Mark]**."
   ]
  },
  {
   "cell_type": "code",
   "execution_count": null,
   "id": "997ebdba-b176-4610-8c80-5128f3869fe3",
   "metadata": {},
   "outputs": [],
   "source": []
  },
  {
   "cell_type": "markdown",
   "id": "01725421-12a5-441e-87a5-1d24b39b2396",
   "metadata": {},
   "source": [
    "Add a column called `Past Return` to `FX_rates` with the return of the asset in the previous 6 months. Add another column called `Position` to `FX_rates` with `1` if `Past Return` is negative (a contrarian strategy) and `-1` if the return is positive (or equal to 0). Remember to drop all the observations where the past return is missing **[Point 5: 1 Mark]**."
   ]
  },
  {
   "cell_type": "code",
   "execution_count": null,
   "id": "42d13aba-b8a6-47e0-85c4-29ce6a434be7",
   "metadata": {},
   "outputs": [],
   "source": []
  },
  {
   "cell_type": "markdown",
   "id": "0deec24b-8372-473d-8ea6-6296c34f0db2",
   "metadata": {},
   "source": [
    "A position equal to `-1` means that for that month the portfolio is selling that asset short. Create a line graph that shows, for every date, how many assets have a position equal to `-1`. The chart should have **[Point 6: 1 Mark]**:\n",
    "- Size of 12x6\n",
    "- Title: _\"Shorted Assets\"_\n",
    "- Label on Horizontal Axis: _\"Investment Period\"_\n",
    "- Label on Vertical Axis: _\"N. of Assets\"_\n",
    "- Line Color: Green"
   ]
  },
  {
   "cell_type": "code",
   "execution_count": null,
   "id": "0e91f0c5-a7ec-4bd3-882c-54ac01b4db36",
   "metadata": {},
   "outputs": [],
   "source": []
  },
  {
   "cell_type": "markdown",
   "id": "796bd33b-20dc-4719-b86a-46d43e0196d3",
   "metadata": {},
   "source": [
    "Create two series, one called `average_long_return`, and one called `average_short_return`, both indexed by `Date`. These series should have, for every date, the average `past_return` of all the assets held long (for `average_long_return`) and those that are held short (for `average_short_return`) **[Point 7: 1 Mark]**. "
   ]
  },
  {
   "cell_type": "code",
   "execution_count": null,
   "id": "7910102a",
   "metadata": {
    "scrolled": false
   },
   "outputs": [],
   "source": []
  },
  {
   "cell_type": "markdown",
   "id": "eacb7157",
   "metadata": {},
   "source": [
    "___\n",
    "### Exercise CE5.03\n",
    "Again, the files `CE5_Futures_Prices.csv` and `CE5_Futures_Types.csv` contain the same data used in the Notebook 6B (Multi Asset Momentum). If not already done so, load them in two DataFrames:\n",
    "- `fut_data`, with the content of `CE5_Futures_Prices.csv`, indexed by Name and Date.\n",
    "- `fut_types` with the content of `CE5_Futures_Types.csv`, indexed in whichever way you want (no specific requirement)\n",
    "\n",
    "Add to `fut_data` a new column called `type` (lowercase) containing the \"type\" of the asset (Bonds, Equity, Commodity, etc.) **[Point 8: 1 Mark]**."
   ]
  },
  {
   "cell_type": "code",
   "execution_count": null,
   "id": "3884f325",
   "metadata": {
    "scrolled": false
   },
   "outputs": [],
   "source": []
  },
  {
   "cell_type": "markdown",
   "id": "5b1416a2",
   "metadata": {},
   "source": [
    "Create a new DataFrame called `sample_size` indexed by Date and type with a single column containing the number of available assets for that specific date and type. The resulting object should **[Point 9: 1 Mark]**:\n",
    "- Be a DataFrame\n",
    "- Be indexed by Date and type\n",
    "- Have a single column called _\"Assets\"_\n",
    "- The columns should contain, for each date and type of asset, the number of available assets."
   ]
  },
  {
   "cell_type": "code",
   "execution_count": null,
   "id": "8649cbe0",
   "metadata": {
    "scrolled": true
   },
   "outputs": [],
   "source": []
  },
  {
   "cell_type": "markdown",
   "id": "eadaa3e4",
   "metadata": {},
   "source": [
    "Your Boss appreciates your effort but does not like the way the data is displayed. Use the method **[`DataFrame.unstack()`](https://pandas.pydata.org/docs/reference/api/pandas.DataFrame.unstack.html)** to create a new DataFrame called `sample_size_v2` where `type` is no longer in the index, but appears as different columns. The final result will be:\n",
    "- A DataFrame indexed by Date\n",
    "- With 4 columns (one for each type of assets)\n",
    "\n",
    "In this DataFrame use the method **[`DataFrame.fillna()`](https://pandas.pydata.org/docs/reference/api/pandas.DataFrame.fillna.html)** to replace all the missing values with `0` **[Point 10: 1 Mark]**."
   ]
  },
  {
   "cell_type": "code",
   "execution_count": null,
   "id": "6c2cc08a",
   "metadata": {},
   "outputs": [],
   "source": []
  }
 ],
 "metadata": {
  "kernelspec": {
   "display_name": "Python 3 (ipykernel)",
   "language": "python",
   "name": "python3"
  },
  "language_info": {
   "codemirror_mode": {
    "name": "ipython",
    "version": 3
   },
   "file_extension": ".py",
   "mimetype": "text/x-python",
   "name": "python",
   "nbconvert_exporter": "python",
   "pygments_lexer": "ipython3",
   "version": "3.9.12"
  }
 },
 "nbformat": 4,
 "nbformat_minor": 5
}
