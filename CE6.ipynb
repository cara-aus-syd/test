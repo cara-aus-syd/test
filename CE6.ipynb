{
 "cells": [
  {
   "cell_type": "markdown",
   "id": "a26993d0-692a-4c90-935c-96a5e77f8654",
   "metadata": {},
   "source": [
    "# Week 6 - Coding Exercise\n",
    "This notebook **is the deliverable** for your weekly coding exercises. Below you will find the text of the exercise and the space to write your code. Feel free to **add additional code cells** if needed. \n",
    "\n",
    "## Completion Instructions\n",
    "1. You are allowed to add additional **cells**. \n",
    "1. Unless specified otherwise, you can use as many **intermediate steps** as you want to get to the final result of each point. We will only mark the final result.\n",
    "1. Some exercises will ask you to perform a calculation and assign the result to a variable with a **specific name**. Assigning the result to a variable with the wrong name will result in **0 marks** for that point.\n",
    "1. Some exercises will ask you to perform a calculation and assign the result to a variable of a **specific type** (number, Series, DataFrame, etc.). Assigning the result to a variable of the wrong type will result in **0 marks** for that point. You can check the type of an object with the function **[`type()`](https://www.codingem.com/type-of-in-python/)**.\n",
    "1. The **final result** of each point should be **shown on screen**. For example if you are asked to assign the result of a calculation to a number called `Total`, this number should be visible on screen. If the results is a DataFrame or Series you should show only few rows with **[`df.head()`](https://pandas.pydata.org/docs/reference/api/pandas.DataFrame.head.html)** or, if more appropriate, **[`df.tail()`](https://pandas.pydata.org/docs/reference/api/pandas.DataFrame.tail.html)**. If a final result is not shown on screen, it will lead to **0 marks** for that point.\n",
    "1. You should not \"hard-code\" numbers into your calculations if this can be avoided. For example if you need to use the \"number of columns\" in a DataFrame in a calculation, you should use a command/function to calculate the number of columns and not simply count the columns and use `7` (a hard-coded number) in your calculations. Using hard-coded numbers when this is unnecessary may result in **0 marks** for that point. \n",
    "\n",
    "\n",
    "## Submission Instructions\n",
    "1. Do not change the **name of the file**. Canvas will automatically add your name and student ID to the file.\n",
    "1. Before submitting the notebook please **check that it runs properly** from top to bottom. To do this, save the file, close it, than re-open it and press the fast-forward button at the top of the notebook or _Restart and Run All Cells_ from the _Kernel_ menu. You can see a discussion of this in this [video](https://youtu.be/P0NyuTGddPo). If your file has a breaking error that does not allow to run the notebook from top to bottom you will receive a **penalty of 5 marks**. \n",
    "___"
   ]
  },
  {
   "cell_type": "markdown",
   "id": "66f6888d-d566-4c19-8857-c72e326fe7a1",
   "metadata": {},
   "source": [
    "#### Identification\n",
    "Please enter your **name** and your **student ID** number in this markdown cell:\n",
    "\n",
    "* **Student Name:** XXXXXX\n",
    "* **Student ID:** XXXXXX\n",
    "\n",
    "Missing name or ID will result in **1 mark penalty**."
   ]
  },
  {
   "cell_type": "markdown",
   "id": "96259f5f-0a07-48cb-9408-f4cc3c22a886",
   "metadata": {},
   "source": [
    "___\n",
    "#### Import Statements\n",
    "Add in the following cell all the import statements that you need to run the entire notebook. Import statements anyehwere else in the notebook will result in a **penalty of 1 mark**."
   ]
  },
  {
   "cell_type": "code",
   "execution_count": null,
   "id": "54d5ccc4-cfde-4a20-923b-cdde4e252ea0",
   "metadata": {},
   "outputs": [],
   "source": []
  },
  {
   "cell_type": "markdown",
   "id": "e40f4d56",
   "metadata": {},
   "source": [
    "___\n",
    "### Exercise CE6.01\n",
    "Load the file `CE6_Prices.zip` with monthly prices for US stocks, and the files `CE6_BTM.zip` and `CE6_EP12.zip` that contain data on two value indicators (book-to-market and 12-months earning-to-price ratios) for US stocks. All DataFrames should be indexed by the id of the stock and the date variable. You can choose the names you want for these DataFrames.\n",
    "\n",
    "Combine the two indicators into a single DataFrame called `indicators`, keeping only the observations where both of them have values (`BTM` should be the first column and `EP12` the second).\n",
    "\n",
    "Add a third column to the DataFrame `indicators` with the lowest of the two indicators. This new column should be called `min` **[Point 1: 1 mark]**."
   ]
  },
  {
   "cell_type": "code",
   "execution_count": null,
   "id": "999370ce",
   "metadata": {
    "scrolled": true
   },
   "outputs": [],
   "source": []
  },
  {
   "cell_type": "markdown",
   "id": "730ea55a",
   "metadata": {},
   "source": [
    "Using the function `ic_analysis` from the `apmodule` create a Series called `ic_min` with the annual information coefficient for the composite 'min' indicator created above **[Point 2: 1 mark]**. "
   ]
  },
  {
   "cell_type": "code",
   "execution_count": null,
   "id": "f02094bc",
   "metadata": {},
   "outputs": [],
   "source": []
  },
  {
   "cell_type": "markdown",
   "id": "66116034",
   "metadata": {},
   "source": [
    "The function returns the T-stat and P-Value of the T-test on the average coefficient. The P-Value appears to be zero, but this just indicates that the value is rounded to zero. Your boss is obsessed with decimal points and wants to know the P-Value more precicely. Therefore, repeat the t-test  and assign **the value of the P-Value** with no reduction in decimal points (no rounding to three decimal points) to a variable called `p_val`. This should be a number in __[scientific notation](https://en.wikipedia.org/wiki/Scientific_notation)__ **[Point 3: 1 mark]**. "
   ]
  },
  {
   "cell_type": "code",
   "execution_count": null,
   "id": "4da8bc1f",
   "metadata": {},
   "outputs": [],
   "source": []
  },
  {
   "cell_type": "markdown",
   "id": "c9946800-70f3-40e7-bf77-1e23c4affdbf",
   "metadata": {
    "tags": []
   },
   "source": [
    "___\n",
    "### Exercise CE6.02\n",
    "Using the `ic_analysis` function from the `apmodule` generate the monthly information coefficient for the book-to-market value indicator (using the `btm` factor from the `indicators` DataFrame created in the previous exercise). Assign this to an object called `ic_btm`. The function by default returns a series. Transform this series into a DataFrame with the same name (`ic_btm`) **[Point 4: 1 mark]**."
   ]
  },
  {
   "cell_type": "code",
   "execution_count": null,
   "id": "55bd185e-33fe-44ff-aec3-90fac49e3e51",
   "metadata": {},
   "outputs": [],
   "source": []
  },
  {
   "cell_type": "markdown",
   "id": "737c17ba-23c1-4739-9913-b0b49c5ff593",
   "metadata": {},
   "source": [
    "Create an object called `avg_ic` with the average information coefficient for every calendar year. The object can be either a DataFrame or a Series **[Point 5: 1 mark]**."
   ]
  },
  {
   "cell_type": "code",
   "execution_count": null,
   "id": "2e75e453-2b43-4f68-bf2c-552471363739",
   "metadata": {},
   "outputs": [],
   "source": []
  },
  {
   "cell_type": "markdown",
   "id": "e21bdb70-a60f-4b4b-b47c-3e2bc67abe7d",
   "metadata": {},
   "source": [
    "Calculate the highest annual average Information Coefficient and assign the result to a variable called `max_ic`. This should be a number or an object (DataFrame or Series) containing a single number **[Point 6: 1 mark]**."
   ]
  },
  {
   "cell_type": "code",
   "execution_count": null,
   "id": "9f7098a5-85bc-4d2c-9f21-3824d36f03c2",
   "metadata": {},
   "outputs": [],
   "source": []
  },
  {
   "cell_type": "markdown",
   "id": "dbff67a7-d3d7-4a66-9076-7774952f2e5f",
   "metadata": {},
   "source": [
    "Using a specific Pandas command find a way to extract from `max_ic` the year in which we obtain the highest Information Coefficient. The result should be a number or an object (DataFrame or Series) containing a single number. **ATTENTION:** We have not seen this command in class, so you will have to search for it **[Point 7: 1 mark]**."
   ]
  },
  {
   "cell_type": "code",
   "execution_count": null,
   "id": "ad44af7a-96d7-4b87-bf66-177e4ba796ba",
   "metadata": {},
   "outputs": [],
   "source": []
  },
  {
   "cell_type": "markdown",
   "id": "22c547a8",
   "metadata": {},
   "source": [
    "___\n",
    "### Exercise CE6.03\n",
    "Your boss is interested in exploring the profitability of a \"Value-Volatility\" Strategy where a value and a low-volatility indicator are combined into a single information signal.\n",
    "1. Load the data on earnings to price ratios for US stocks contained in `CE6_EP12.zip` into a DataFrame called `ep`.\n",
    "1. Load the data on total volatility for US stocks contained in `CE6_TVOL.zip` into a DataFrame called `tvol`.\n",
    "1. Combine these two factors into a single DataFrame called `factors` and keep only the observations where they are both non-missing.\n",
    "1. Create an additional column in `factors` called `value_vol` containing, for each month, the average of `ep` and `tvol` **[Point 8: 1 mark]**."
   ]
  },
  {
   "cell_type": "code",
   "execution_count": null,
   "id": "3cd3bf0c",
   "metadata": {
    "scrolled": true
   },
   "outputs": [],
   "source": []
  },
  {
   "cell_type": "markdown",
   "id": "d2202b08-409c-45fb-a5ad-218cb9e2a770",
   "metadata": {},
   "source": [
    "Use the `ic_analysis` function from the `apmodule` to generate the monthly information coefficient for the value and the lo-volatility factors, as well as the combined value-vol factor. For all calculations use the signals from the DataFrame `factors` and not from the original files. Assign the results to `ic_ep12`, `ic_ivol` and `ic_value_vol`, respectively. Calculate **[Point 9: 1 mark]**:\n",
    "1. The percentage of months in which the value-vol strategy beats the value strategy (has a higher information coefficient). Assign the result (a number, for example 0.6534... to indicate 65.34%) to `percentage_1`.\n",
    "1. The percentage of months in which the value-vol strategy beats the low-volatility strategy (has a higher information coefficient). Assign the result (a number, for example 0.6534... to indicate 65.34%) to `percentage_2`.\n",
    "\n",
    "**ATTENTION:** There are different ways to obtain this result (different commands, formulas, number of intermediate steps...). We will consider them all valid as long as:\n",
    "1. The calculation is done with python code (no manual counting)\n",
    "1. The result is numerically correct\n",
    "1. The result is a number (not a DataFrame or a Series)"
   ]
  },
  {
   "cell_type": "code",
   "execution_count": null,
   "id": "db73ded4",
   "metadata": {},
   "outputs": [],
   "source": []
  },
  {
   "cell_type": "markdown",
   "id": "5ba5fc5d-8f9d-4d20-bf69-edc89125be3d",
   "metadata": {},
   "source": [
    "**[Final Challenge Mark!]** \n",
    "\n",
    "Your boss is quite impressed by your ability to write python functions to make your job easier, so of course she gives you more work. Below you will find the `ic_analysis` function created in class (this is a simplified version that only returns monthly information coefficients). Write a new function called `ic_analysis_new` based on this one but with the following changes:\n",
    "1. The new function should not print any result on screen (the average IC, the t-test, percentage of positive and negative, ...).\n",
    "1. The new function should return, instead of a DataFrame with the monthly information coefficient, a DataFrame with the rolling average information coefficient of the past `N` months, where `N` is an additional argument (input) of the into the `ic_analysis_new` function. As default take `N=3`.\n",
    "\n",
    "To test this new function run it on the column `ep12` from the DataFrame `factors` with the 2 months rolling IC average computed. Assign the result to an object called `ic_test` and show on screen the first 5 rows of this object **[Point 10: 1 mark]**."
   ]
  },
  {
   "cell_type": "code",
   "execution_count": 15,
   "id": "6465ce90-3e78-4f81-976d-e2890eea176c",
   "metadata": {},
   "outputs": [],
   "source": [
    "def ic_analysis(signal, prices):\n",
    "        \n",
    "    #We capture the name of the factor using the .name attribute to use it later\n",
    "    signal_name = signal.name\n",
    "    \n",
    "    #We calculate the returns \n",
    "    future_returns = np.log(prices.groupby('id').shift(-1) / prices).rename('fut_ret')\n",
    "    \n",
    "    #We join the signal with the future return\n",
    "    data = signal.to_frame().join(future_returns).dropna()\n",
    "    data['month'] = data.index.get_level_values('date').month\n",
    "\n",
    "    #We drop the month column because we do not need it anymore\n",
    "    data.drop(columns=['month'], inplace=True)\n",
    "    \n",
    "    #We calculate the IC\n",
    "    ic = data.groupby('date').corr(method='spearman').iloc[0::2,-1].droplevel(level=1).rename('IC')\n",
    "    \n",
    "    #We print on screen the average IC\n",
    "    print('Average IC:', round(ic.mean(), 3), '\\n')\n",
    "    \n",
    "    #We calculate and print the percentage of positive/negative observations\n",
    "    sign = np.sign(ic).value_counts() / ic.count()\n",
    "    \n",
    "    print('Percentage of Positive Periods:', round(sign.loc[1], 3), '\\n')\n",
    "    print('Percentage of Negative Periods:', round(sign.loc[-1], 3), '\\n')\n",
    "    \n",
    "    #We calculate and print the t-test\n",
    "    t_test = stats.ttest_1samp(ic, 0)\n",
    "    print(f'T-Stat: {round(t_test.statistic,3)} P-Value: {round(t_test.pvalue,3)} \\n')\n",
    "    \n",
    "    #We return the series with the Information Coefficient for further analysis using the original name of the factor\n",
    "    return ic.rename('IC_' + signal_name)"
   ]
  },
  {
   "cell_type": "code",
   "execution_count": 16,
   "id": "a2007c14-0361-409c-8273-95d160540c02",
   "metadata": {},
   "outputs": [],
   "source": []
  }
 ],
 "metadata": {
  "kernelspec": {
   "display_name": "Python 3 (ipykernel)",
   "language": "python",
   "name": "python3"
  },
  "language_info": {
   "codemirror_mode": {
    "name": "ipython",
    "version": 3
   },
   "file_extension": ".py",
   "mimetype": "text/x-python",
   "name": "python",
   "nbconvert_exporter": "python",
   "pygments_lexer": "ipython3",
   "version": "3.10.9"
  }
 },
 "nbformat": 4,
 "nbformat_minor": 5
}
